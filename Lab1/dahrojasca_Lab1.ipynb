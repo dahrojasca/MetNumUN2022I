{
  "cells": [
    {
      "cell_type": "markdown",
      "metadata": {
        "id": "ORfCTBXohVlO"
      },
      "source": [
        "# Colab Yahoo Introduction to the Research Environment\n",
        "\n",
        "The research environment is powered by IPython notebooks, which allow one to perform a great deal of data analysis and statistical validation. We'll demonstrate a few simple techniques her"
      ]
    },
    {
      "cell_type": "markdown",
      "metadata": {
        "id": "DuKgiWkjhVlU"
      },
      "source": [
        "## Code Cells vs. Text Cells\n",
        "\n",
        "As you can see, each cell can be either code or text. To select between them, choose from the 'Cell Type' dropdown menu on the top left."
      ]
    },
    {
      "cell_type": "markdown",
      "metadata": {
        "id": "0QuZqCIHhVlV"
      },
      "source": [
        "## Executing a Command\n",
        "\n",
        "A code cell will be evaluated when you press play, or when you press the shortcut, shift-enter. Evaluating a cell evaluates each line of code in sequence, and prints the results of the last line below the cell."
      ]
    },
    {
      "cell_type": "code",
      "execution_count": 4,
      "metadata": {
        "id": "KXJH0E7zhVlV"
      },
      "outputs": [
        {
          "data": {
            "text/plain": [
              "4"
            ]
          },
          "execution_count": 4,
          "metadata": {},
          "output_type": "execute_result"
        }
      ],
      "source": [
        "2 + 2"
      ]
    },
    {
      "cell_type": "markdown",
      "metadata": {},
      "source": [
        "**My own example 1**"
      ]
    },
    {
      "cell_type": "code",
      "execution_count": 5,
      "metadata": {
        "colab": {
          "base_uri": "https://localhost:8080/"
        },
        "id": "DzmyFSlsXCd2",
        "outputId": "1c79930b-9460-4d6c-9589-213deaa622bb"
      },
      "outputs": [
        {
          "data": {
            "text/plain": [
              "71.64"
            ]
          },
          "execution_count": 5,
          "metadata": {},
          "output_type": "execute_result"
        }
      ],
      "source": [
        "63.52 + 8.12"
      ]
    },
    {
      "cell_type": "markdown",
      "metadata": {
        "id": "Ws8Q8QskhVlW"
      },
      "source": [
        "Sometimes there is no result to be printed, as is the case with assignment."
      ]
    },
    {
      "cell_type": "code",
      "execution_count": 6,
      "metadata": {
        "collapsed": true,
        "id": "3DqpbHqZhVlW"
      },
      "outputs": [],
      "source": [
        "X = 2\n",
        "y = 4"
      ]
    },
    {
      "cell_type": "markdown",
      "metadata": {},
      "source": [
        "**My own example 2**"
      ]
    },
    {
      "cell_type": "code",
      "execution_count": 7,
      "metadata": {},
      "outputs": [],
      "source": [
        "p = 3"
      ]
    },
    {
      "cell_type": "markdown",
      "metadata": {
        "id": "7QeqWi6DhVlW"
      },
      "source": [
        "Remember that only the result from the last line is printed."
      ]
    },
    {
      "cell_type": "code",
      "execution_count": 8,
      "metadata": {
        "colab": {
          "base_uri": "https://localhost:8080/"
        },
        "id": "qRjPfwB4hVlX",
        "outputId": "e350ab5e-3a58-4fac-f490-2c53a85fa2ec"
      },
      "outputs": [
        {
          "data": {
            "text/plain": [
              "6"
            ]
          },
          "execution_count": 8,
          "metadata": {},
          "output_type": "execute_result"
        }
      ],
      "source": [
        "2 + 2\n",
        "3 + 3"
      ]
    },
    {
      "cell_type": "markdown",
      "metadata": {},
      "source": [
        "**My own example 3**"
      ]
    },
    {
      "cell_type": "code",
      "execution_count": 9,
      "metadata": {},
      "outputs": [
        {
          "data": {
            "text/plain": [
              "10"
            ]
          },
          "execution_count": 9,
          "metadata": {},
          "output_type": "execute_result"
        }
      ],
      "source": [
        "10 + 10\n",
        "5 + 5"
      ]
    },
    {
      "cell_type": "markdown",
      "metadata": {
        "id": "ik90rQjthVlX"
      },
      "source": [
        "However, you can print whichever lines you want using the `print` statement."
      ]
    },
    {
      "cell_type": "code",
      "execution_count": 10,
      "metadata": {
        "colab": {
          "base_uri": "https://localhost:8080/"
        },
        "id": "uUMd-LlZhVlX",
        "outputId": "6f569c41-2819-48ad-b395-d97667a7057c"
      },
      "outputs": [
        {
          "name": "stdout",
          "output_type": "stream",
          "text": [
            "4\n",
            "4\n"
          ]
        }
      ],
      "source": [
        "print (2 + 2)\n",
        "3 + 3\n",
        "print (y)"
      ]
    },
    {
      "cell_type": "markdown",
      "metadata": {},
      "source": [
        "**My own example 4**"
      ]
    },
    {
      "cell_type": "code",
      "execution_count": 11,
      "metadata": {},
      "outputs": [
        {
          "name": "stdout",
          "output_type": "stream",
          "text": [
            "3\n",
            "3\n"
          ]
        }
      ],
      "source": [
        "print (2 + 1)\n",
        "print (p)"
      ]
    },
    {
      "cell_type": "markdown",
      "metadata": {
        "id": "9vwnqpWMhVlX"
      },
      "source": [
        "## Knowing When a Cell is Running\n",
        "\n",
        "While a cell is running, a `[*]` will display on the left. When a cell has yet to be executed, `[ ]` will display. When it has been run, a number will display indicating the order in which it was run during the execution of the notebook `[5]`. Try on this cell and note it happening."
      ]
    },
    {
      "cell_type": "code",
      "execution_count": 12,
      "metadata": {
        "colab": {
          "base_uri": "https://localhost:8080/"
        },
        "id": "yIPrZ-LohVlY",
        "outputId": "7576e0bd-0826-4533-92a2-641839816c8f"
      },
      "outputs": [
        {
          "data": {
            "text/plain": [
              "49999995000000"
            ]
          },
          "execution_count": 12,
          "metadata": {},
          "output_type": "execute_result"
        }
      ],
      "source": [
        "#Take some time to run something\n",
        "c = 0\n",
        "for i in range(10000000):\n",
        "    c = c + i\n",
        "c"
      ]
    },
    {
      "cell_type": "markdown",
      "metadata": {},
      "source": [
        "**My own example 5**"
      ]
    },
    {
      "cell_type": "code",
      "execution_count": 13,
      "metadata": {},
      "outputs": [
        {
          "data": {
            "text/plain": [
              "4999999950000001"
            ]
          },
          "execution_count": 13,
          "metadata": {},
          "output_type": "execute_result"
        }
      ],
      "source": [
        "q = 1\n",
        "for i in range (100000000): # para el ciclo for 8 ceros\n",
        "    q = q + i\n",
        "q\n",
        "        "
      ]
    },
    {
      "cell_type": "markdown",
      "metadata": {
        "id": "yivUDM-yhVlY"
      },
      "source": [
        "## Importing Libraries\n",
        "\n",
        "The vast majority of the time, you'll want to use functions from pre-built libraries. You can't import every library on Quantopian due to security issues, but you can import most of the common scientific ones. Here I import numpy and pandas, the two most common and useful libraries in quant finance. I recommend copying this import statement to every new notebook.\n",
        "\n",
        "Notice that you can rename libraries to whatever you want after importing. The `as` statement allows this. Here we use `np` and `pd` as aliases for `numpy` and `pandas`. This is a very common aliasing and will be found in most code snippets around the web. The point behind this is to allow you to type fewer characters when you are frequently accessing these libraries."
      ]
    },
    {
      "cell_type": "code",
      "execution_count": 14,
      "metadata": {
        "collapsed": true,
        "id": "8eOhpTZNhVlY"
      },
      "outputs": [],
      "source": [
        "import numpy as np\n",
        "import pandas as pd\n",
        "\n",
        "# This is a plotting library for pretty pictures.\n",
        "import matplotlib.pyplot as plt"
      ]
    },
    {
      "cell_type": "markdown",
      "metadata": {
        "id": "2_oqcbs5hVlY"
      },
      "source": [
        "## Tab Autocomplete\n",
        "\n",
        "Pressing tab will give you a list of IPython's best guesses for what you might want to type next. This is incredibly valuable and will save you a lot of time. If there is only one possible option for what you could type next, IPython will fill that in for you. Try pressing tab very frequently, it will seldom fill in anything you don't want, as if there is ambiguity a list will be shown. This is a great way to see what functions are available in a library.\n",
        "\n",
        "Try placing your cursor after the `.` and pressing tab."
      ]
    },
    {
      "cell_type": "code",
      "execution_count": 15,
      "metadata": {
        "id": "lxQ2EDMfhVlZ"
      },
      "outputs": [
        {
          "ename": "SyntaxError",
          "evalue": "invalid syntax (393120376.py, line 1)",
          "output_type": "error",
          "traceback": [
            "\u001b[0;36m  Input \u001b[0;32mIn [15]\u001b[0;36m\u001b[0m\n\u001b[0;31m    np.random.\u001b[0m\n\u001b[0m              ^\u001b[0m\n\u001b[0;31mSyntaxError\u001b[0m\u001b[0;31m:\u001b[0m invalid syntax\n"
          ]
        }
      ],
      "source": [
        "np.random."
      ]
    },
    {
      "cell_type": "markdown",
      "metadata": {
        "id": "Kv_Ta7szhVlZ"
      },
      "source": [
        "## Getting Documentation Help\n",
        "\n",
        "Placing a question mark after a function and executing that line of code will give you the documentation IPython has for that function. It's often best to do this in a new cell, as you avoid re-executing other code and running into bugs."
      ]
    },
    {
      "cell_type": "code",
      "execution_count": null,
      "metadata": {
        "collapsed": true,
        "id": "DmwjulI9hVlZ"
      },
      "outputs": [
        {
          "name": "stdout",
          "output_type": "stream",
          "text": [
            "\u001b[0;31mDocstring:\u001b[0m\n",
            "normal(loc=0.0, scale=1.0, size=None)\n",
            "\n",
            "Draw random samples from a normal (Gaussian) distribution.\n",
            "\n",
            "The probability density function of the normal distribution, first\n",
            "derived by De Moivre and 200 years later by both Gauss and Laplace\n",
            "independently [2]_, is often called the bell curve because of\n",
            "its characteristic shape (see the example below).\n",
            "\n",
            "The normal distributions occurs often in nature.  For example, it\n",
            "describes the commonly occurring distribution of samples influenced\n",
            "by a large number of tiny, random disturbances, each with its own\n",
            "unique distribution [2]_.\n",
            "\n",
            ".. note::\n",
            "    New code should use the ``normal`` method of a ``default_rng()``\n",
            "    instance instead; please see the :ref:`random-quick-start`.\n",
            "\n",
            "Parameters\n",
            "----------\n",
            "loc : float or array_like of floats\n",
            "    Mean (\"centre\") of the distribution.\n",
            "scale : float or array_like of floats\n",
            "    Standard deviation (spread or \"width\") of the distribution. Must be\n",
            "    non-negative.\n",
            "size : int or tuple of ints, optional\n",
            "    Output shape.  If the given shape is, e.g., ``(m, n, k)``, then\n",
            "    ``m * n * k`` samples are drawn.  If size is ``None`` (default),\n",
            "    a single value is returned if ``loc`` and ``scale`` are both scalars.\n",
            "    Otherwise, ``np.broadcast(loc, scale).size`` samples are drawn.\n",
            "\n",
            "Returns\n",
            "-------\n",
            "out : ndarray or scalar\n",
            "    Drawn samples from the parameterized normal distribution.\n",
            "\n",
            "See Also\n",
            "--------\n",
            "scipy.stats.norm : probability density function, distribution or\n",
            "    cumulative density function, etc.\n",
            "Generator.normal: which should be used for new code.\n",
            "\n",
            "Notes\n",
            "-----\n",
            "The probability density for the Gaussian distribution is\n",
            "\n",
            ".. math:: p(x) = \\frac{1}{\\sqrt{ 2 \\pi \\sigma^2 }}\n",
            "                 e^{ - \\frac{ (x - \\mu)^2 } {2 \\sigma^2} },\n",
            "\n",
            "where :math:`\\mu` is the mean and :math:`\\sigma` the standard\n",
            "deviation. The square of the standard deviation, :math:`\\sigma^2`,\n",
            "is called the variance.\n",
            "\n",
            "The function has its peak at the mean, and its \"spread\" increases with\n",
            "the standard deviation (the function reaches 0.607 times its maximum at\n",
            ":math:`x + \\sigma` and :math:`x - \\sigma` [2]_).  This implies that\n",
            "normal is more likely to return samples lying close to the mean, rather\n",
            "than those far away.\n",
            "\n",
            "References\n",
            "----------\n",
            ".. [1] Wikipedia, \"Normal distribution\",\n",
            "       https://en.wikipedia.org/wiki/Normal_distribution\n",
            ".. [2] P. R. Peebles Jr., \"Central Limit Theorem\" in \"Probability,\n",
            "       Random Variables and Random Signal Principles\", 4th ed., 2001,\n",
            "       pp. 51, 51, 125.\n",
            "\n",
            "Examples\n",
            "--------\n",
            "Draw samples from the distribution:\n",
            "\n",
            ">>> mu, sigma = 0, 0.1 # mean and standard deviation\n",
            ">>> s = np.random.normal(mu, sigma, 1000)\n",
            "\n",
            "Verify the mean and the variance:\n",
            "\n",
            ">>> abs(mu - np.mean(s))\n",
            "0.0  # may vary\n",
            "\n",
            ">>> abs(sigma - np.std(s, ddof=1))\n",
            "0.1  # may vary\n",
            "\n",
            "Display the histogram of the samples, along with\n",
            "the probability density function:\n",
            "\n",
            ">>> import matplotlib.pyplot as plt\n",
            ">>> count, bins, ignored = plt.hist(s, 30, density=True)\n",
            ">>> plt.plot(bins, 1/(sigma * np.sqrt(2 * np.pi)) *\n",
            "...                np.exp( - (bins - mu)**2 / (2 * sigma**2) ),\n",
            "...          linewidth=2, color='r')\n",
            ">>> plt.show()\n",
            "\n",
            "Two-by-four array of samples from N(3, 6.25):\n",
            "\n",
            ">>> np.random.normal(3, 2.5, size=(2, 4))\n",
            "array([[-4.49401501,  4.00950034, -1.81814867,  7.29718677],   # random\n",
            "       [ 0.39924804,  4.68456316,  4.99394529,  4.84057254]])  # random\n",
            "\u001b[0;31mType:\u001b[0m      builtin_function_or_method\n"
          ]
        }
      ],
      "source": [
        "np.random.normal?"
      ]
    },
    {
      "cell_type": "markdown",
      "metadata": {
        "id": "uphYyCXjhVlZ"
      },
      "source": [
        "## Sampling\n",
        "\n",
        "We'll sample some random data using a function from `numpy`."
      ]
    },
    {
      "cell_type": "code",
      "execution_count": 20,
      "metadata": {
        "id": "xtn7FuPbhVlZ"
      },
      "outputs": [],
      "source": [
        "# Sample 100 points with a mean of 0 and an std of 1. This is a standard normal distribution.\n",
        "plot1 = np.random.normal(0, 1, 200)"
      ]
    },
    {
      "cell_type": "markdown",
      "metadata": {},
      "source": [
        "**My own wxample 6**"
      ]
    },
    {
      "cell_type": "code",
      "execution_count": 21,
      "metadata": {},
      "outputs": [
        {
          "data": {
            "text/plain": [
              "array([ 4.95647402e-01, -2.64276953e-02,  1.95814852e+00,  5.03599414e-01,\n",
              "        1.53108959e-01,  2.48138065e-01, -9.87735716e-02, -1.39171104e+00,\n",
              "       -4.69357996e-01,  7.27342126e-01,  8.10839035e-01,  2.74592249e-01,\n",
              "       -6.56251904e-02, -1.27912419e-01,  1.03317112e+00,  1.75661229e-01,\n",
              "       -6.43080812e-01,  8.32393541e-02, -4.58768797e-01, -1.37830552e+00,\n",
              "        2.49862081e+00, -1.48381976e+00,  1.85462322e+00,  1.45885735e-01,\n",
              "       -2.16119989e+00, -2.21279960e-01,  2.51747154e+00,  2.29842929e+00,\n",
              "       -4.78961972e-01, -1.10037492e+00, -6.01084601e-01,  3.89510373e-01,\n",
              "       -7.71800872e-01, -2.06232921e+00,  1.01133255e+00, -7.03212236e-01,\n",
              "        1.07594003e+00,  4.53643389e-01,  6.20570293e-02, -1.86284739e+00,\n",
              "       -1.85220567e+00,  3.89290647e-01,  8.25615354e-01,  1.31741828e+00,\n",
              "       -8.21882294e-01,  1.42989591e+00, -4.82483156e-02,  1.21843875e+00,\n",
              "        8.31820661e-01,  3.08001651e-01,  2.79771521e-01, -4.04271427e-01,\n",
              "       -2.76577167e-01, -1.35682223e+00, -3.11071156e-01,  2.70372355e-02,\n",
              "        2.02387985e-01,  2.52246000e-02, -1.25029282e+00, -3.94665762e-01,\n",
              "       -1.67794061e-01, -9.42621802e-01,  8.06160035e-02,  7.81287781e-01,\n",
              "        2.11910458e+00,  2.24726865e-01, -1.14430325e-01, -7.36185958e-01,\n",
              "       -4.87896768e-01,  1.96784736e-01,  1.91505723e+00, -1.57775087e+00,\n",
              "        6.79455385e-01, -4.13864941e-01,  6.38155183e-01,  1.31666612e+00,\n",
              "       -9.20015962e-01,  6.26991361e-01, -7.94463090e-01,  4.66415620e-01,\n",
              "       -1.07016729e+00, -7.11494671e-01,  2.45674458e-01, -1.35673052e+00,\n",
              "        2.87972768e-01,  9.00100741e-01, -8.18901767e-01, -4.39421700e-01,\n",
              "       -1.22293959e-01, -8.97416401e-01, -6.65715072e-02,  5.33977862e-01,\n",
              "       -4.38169249e-01, -1.96766273e+00,  9.80424086e-01,  1.12214213e+00,\n",
              "       -3.66074315e-01,  6.10942139e-01, -3.22383429e-01,  6.93634564e-01,\n",
              "        1.79175734e-01,  2.15536944e-01, -2.35700664e+00, -7.22937775e-01,\n",
              "       -2.94566491e-01, -1.25335868e+00, -3.14817086e-02,  6.11228098e-01,\n",
              "       -1.41890526e+00,  1.36334566e+00, -6.80164096e-02, -4.17417677e-01,\n",
              "        1.38482403e+00,  9.98383159e-01,  1.88048670e-01,  1.49873860e+00,\n",
              "       -1.84595475e-01, -2.08886182e+00,  1.70771863e+00,  1.18329229e+00,\n",
              "        4.56146473e-01,  7.88699290e-01, -1.35929771e-02,  4.09220565e-01,\n",
              "       -8.44630921e-01,  6.44372678e-01, -2.40017960e-01,  1.59301379e+00,\n",
              "        2.38924170e-01, -1.26058628e+00,  2.74320847e-01,  6.39410400e-01,\n",
              "       -7.66744747e-01,  2.61004595e-01, -1.95705753e-01, -6.54351843e-01,\n",
              "       -4.83000762e-02,  1.12579240e+00,  5.12122597e-01, -2.91370613e-01,\n",
              "       -1.81811530e-01,  6.99121639e-01, -2.86136995e+00,  6.04725409e-01,\n",
              "       -1.20782627e-01, -5.01042650e-02,  1.45985329e+00,  1.42548960e+00,\n",
              "        6.81229561e-01,  5.80843862e-01,  1.13055836e+00, -1.65924101e+00,\n",
              "       -1.54805104e-03,  2.54280450e-01, -1.19515571e-01,  4.43604257e-01,\n",
              "        5.53456353e-01,  5.00087665e-01, -3.05924977e-01, -1.38499040e+00,\n",
              "       -5.40323546e-01, -1.28227932e-02,  3.27548356e-01,  2.36965060e-01,\n",
              "        2.63067594e-01, -4.26745901e-01,  6.00661537e-01, -7.95860450e-01,\n",
              "        6.59298722e-01,  1.29060367e+00, -8.80836611e-01, -2.47976311e-01,\n",
              "        1.26586533e+00, -2.23025437e-02, -1.21182707e+00,  1.92776787e+00,\n",
              "       -2.46836114e-01,  1.31666050e+00,  4.36211723e-02, -1.30165764e+00,\n",
              "       -1.42367074e-01,  5.90193026e-02, -2.45297500e+00, -2.98071248e-01,\n",
              "        8.30767969e-01, -9.44717057e-02, -1.14556265e+00, -7.14393092e-01,\n",
              "        4.29162972e-01, -1.84977392e+00,  3.69246358e-01,  1.15533645e-02,\n",
              "       -1.33869626e+00,  3.80204835e-01, -5.38311560e-01,  2.18180572e-01,\n",
              "       -4.69528292e-01, -5.87220387e-02, -4.01088983e-01, -2.50940664e-01,\n",
              "       -7.02198876e-01, -1.10553016e-01,  1.41611320e-01, -7.20374907e-02,\n",
              "       -7.89238102e-01,  2.67103581e-01, -1.03286257e-01,  6.89806186e-01,\n",
              "       -7.37958649e-01, -5.70209824e-01, -9.40114601e-01, -8.51319173e-02,\n",
              "       -7.08941109e-01,  1.15764819e+00,  2.11897268e-01,  3.01832855e-01,\n",
              "        2.67661229e-01, -2.33161641e+00,  8.84068008e-01, -8.40370068e-01,\n",
              "        2.35329934e-01, -6.83633937e-01, -1.18076299e+00,  8.42125627e-01,\n",
              "        7.75372485e-01, -6.82953786e-01, -6.11279899e-01,  2.08548200e-01,\n",
              "       -2.12558301e+00,  6.53743444e-01,  2.61103463e-02,  8.79788065e-01,\n",
              "        2.13967312e+00, -2.13790059e+00, -8.85533837e-01, -1.42893930e-01,\n",
              "       -1.38427812e+00, -6.57387433e-03,  7.09936412e-01, -2.31562362e-01,\n",
              "        1.23700929e+00,  1.15067303e+00, -3.48049605e-02,  3.50375465e-01,\n",
              "       -1.49537233e+00, -6.50285354e-01, -3.97395486e-01, -9.32584378e-02,\n",
              "       -6.22039514e-01, -3.80657952e-01,  1.28298605e+00, -1.05441479e-01,\n",
              "       -1.25699526e+00,  1.55784528e+00,  6.13591891e-02,  1.30833701e+00,\n",
              "       -1.20741326e+00, -8.63075631e-01, -6.25276691e-01,  4.56715319e-01,\n",
              "        4.62731985e-01, -1.05682274e+00,  1.60206507e+00,  4.77514688e-01,\n",
              "        9.61476686e-01, -9.55574425e-01, -7.39905131e-01, -1.05278135e+00,\n",
              "        6.50114772e-01, -3.45555389e-01, -5.06747387e-01, -7.58643786e-01,\n",
              "       -8.54477202e-01, -2.89435708e+00,  4.42335327e-01, -9.42596747e-01,\n",
              "        2.86344295e-01, -8.14812110e-01,  2.04061869e+00, -1.22954651e+00,\n",
              "       -6.63121378e-01, -9.78316129e-01,  2.43559227e-01,  3.23352268e+00,\n",
              "       -2.37377127e-01, -9.78273856e-01,  2.52545365e-01,  2.37978301e-01,\n",
              "        9.59325914e-01,  1.72711322e+00, -5.92410779e-01, -1.58443375e+00,\n",
              "        1.01198337e+00, -6.20386744e-01,  1.04430602e+00,  1.84994262e+00,\n",
              "       -4.54366647e-01,  7.93963629e-01, -3.17211961e-01,  7.07739772e-03,\n",
              "       -2.52027541e+00, -1.58045417e-01,  3.74818191e-01, -8.97713574e-01,\n",
              "        1.02093690e+00, -7.95263703e-01, -1.34384533e+00,  2.54375529e-01,\n",
              "        6.97158231e-01, -3.95214837e-01,  4.77941039e-01, -1.12896352e+00,\n",
              "        1.02079852e+00, -7.47605220e-01,  1.07560205e+00,  1.06792858e+00,\n",
              "       -1.16174880e+00, -4.55471855e-01,  2.01514587e+00, -1.80751538e+00,\n",
              "       -7.27228588e-01,  4.62498896e-01, -9.72129308e-01, -5.87927188e-01,\n",
              "       -1.27854723e-01, -1.38149367e-01,  1.38103802e+00, -4.50119085e-01,\n",
              "       -3.76707790e-02, -1.98660843e-01, -1.51484248e+00, -6.82882411e-02,\n",
              "       -1.20846452e-01,  1.22869374e+00, -6.43429838e-01,  1.58620583e+00,\n",
              "        4.23747951e-01, -2.80119753e-02,  2.88680195e-01,  1.06022481e+00,\n",
              "        5.06759632e-01,  2.14463504e-01,  1.01080457e-01, -1.42579723e+00,\n",
              "       -1.70787765e-01, -1.09607685e+00, -5.34888030e-01,  1.16819455e+00,\n",
              "        1.20775908e+00,  1.47377095e-01, -4.12508693e-01, -2.32461341e-01,\n",
              "        1.36873179e+00,  5.53794484e-01,  7.00264848e-01, -1.29167582e+00,\n",
              "       -4.45413558e-01,  6.86213382e-02, -3.38615069e-01, -4.18926346e-01,\n",
              "        2.82813472e-01,  1.37906707e+00, -8.85686296e-01,  8.23777226e-01,\n",
              "        1.17945243e-01, -1.17431393e+00,  1.55248626e+00,  2.59372643e+00,\n",
              "        4.62334344e-01, -4.57321489e-01,  1.64582623e+00, -5.08854311e-01,\n",
              "        2.12252415e-01,  1.37893530e+00,  4.16264063e-01, -8.42240861e-01,\n",
              "       -2.64762970e-01, -2.44858083e+00, -1.07944962e+00,  4.52594779e-01,\n",
              "        1.40495854e-01,  4.84412493e-01,  8.90330629e-01, -1.23889379e+00,\n",
              "       -1.06207349e+00,  7.55515868e-01,  6.59073991e-01, -1.78275484e+00,\n",
              "       -5.88725002e-02, -1.53579583e+00, -1.76179304e+00,  7.25553766e-01,\n",
              "       -7.60940973e-01, -8.58577553e-01,  6.11593966e-01,  2.21052200e+00,\n",
              "        1.24837877e+00, -7.78832131e-01, -1.06094443e+00,  3.18574090e-01])"
            ]
          },
          "execution_count": 21,
          "metadata": {},
          "output_type": "execute_result"
        }
      ],
      "source": [
        "plotex = np.random.normal(0, 1, 400)\n",
        "plotex"
      ]
    },
    {
      "cell_type": "markdown",
      "metadata": {
        "id": "W5bP2_GThVla"
      },
      "source": [
        "## Plotting\n",
        "\n",
        "We can use the plotting library we imported as follows."
      ]
    },
    {
      "cell_type": "code",
      "execution_count": null,
      "metadata": {
        "colab": {
          "base_uri": "https://localhost:8080/",
          "height": 286
        },
        "id": "haL3_NYlhVla",
        "outputId": "796bc340-9c82-4588-8d58-6f971243a706"
      },
      "outputs": [
        {
          "data": {
            "text/plain": [
              "[<matplotlib.lines.Line2D at 0x7f6a50a62430>]"
            ]
          },
          "execution_count": 5,
          "metadata": {},
          "output_type": "execute_result"
        },
        {
          "data": {
            "image/png": "[encoded data removed]",
            "text/plain": [
              "<Figure size 432x288 with 1 Axes>"
            ]
          },
          "metadata": {
            "needs_background": "light"
          },
          "output_type": "display_data"
        }
      ],
      "source": [
        "plt.plot(plot1)"
      ]
    },
    {
      "cell_type": "markdown",
      "metadata": {},
      "source": [
        "**My own example 7**"
      ]
    },
    {
      "cell_type": "code",
      "execution_count": 22,
      "metadata": {},
      "outputs": [
        {
          "data": {
            "text/plain": [
              "[<matplotlib.lines.Line2D at 0x7f00d667b8e0>]"
            ]
          },
          "execution_count": 22,
          "metadata": {},
          "output_type": "execute_result"
        },
        {
          "data": {
            "image/png": "[encoded data removed]",
            "text/plain": [
              "<Figure size 432x288 with 1 Axes>"
            ]
          },
          "metadata": {
            "needs_background": "light"
          },
          "output_type": "display_data"
        }
      ],
      "source": [
        "plt.plot(plotex)"
      ]
    },
    {
      "cell_type": "markdown",
      "metadata": {
        "id": "8Ezx74VGhVla"
      },
      "source": [
        "### Squelching Line Output\n",
        "\n",
        "You might have noticed the annoying line of the form `[<matplotlib.lines.Line2D at 0x7f72fdbc1710>]` before the plots. This is because the `.plot` function actually produces output. Sometimes we wish not to display output, we can accomplish this with the semi-colon as follows."
      ]
    },
    {
      "cell_type": "code",
      "execution_count": null,
      "metadata": {
        "colab": {
          "base_uri": "https://localhost:8080/",
          "height": 269
        },
        "id": "XhVo9F4vhVla",
        "outputId": "a89e6d13-dcc3-4dc4-a504-ffc4d2d8c627"
      },
      "outputs": [
        {
          "data": {
            "image/png": "[encoded data removed]",
            "text/plain": [
              "<Figure size 432x288 with 1 Axes>"
            ]
          },
          "metadata": {
            "needs_background": "light"
          },
          "output_type": "display_data"
        }
      ],
      "source": [
        "plt.plot(plot1);"
      ]
    },
    {
      "cell_type": "markdown",
      "metadata": {
        "id": "4_cnwG1jhVla"
      },
      "source": [
        "### Adding Axis Labels\n",
        "\n",
        "No self-respecting quant leaves a graph without labeled axes. Here are some commands to help with that."
      ]
    },
    {
      "cell_type": "code",
      "execution_count": 18,
      "metadata": {
        "colab": {
          "base_uri": "https://localhost:8080/",
          "height": 283
        },
        "id": "WixTy38ShVlb",
        "outputId": "d578448c-0594-404c-f2d2-0fbe570bf73e"
      },
      "outputs": [
        {
          "data": {
            "image/png": "[encoded data removed]",
            "text/plain": [
              "<Figure size 432x288 with 1 Axes>"
            ]
          },
          "metadata": {
            "needs_background": "light"
          },
          "output_type": "display_data"
        }
      ],
      "source": [
        "X = np.random.normal(0, 1, 200)\n",
        "X2 = np.random.normal(0, 1, 200)\n",
        "\n",
        "plt.plot(X);\n",
        "plt.plot(X2);\n",
        "plt.xlabel('Time') # The data we generated is unitless, but don't forget units in general.\n",
        "plt.ylabel('Orders')\n",
        "plt.legend(['X', 'X2']);"
      ]
    },
    {
      "cell_type": "markdown",
      "metadata": {},
      "source": [
        "**My own example 8**"
      ]
    },
    {
      "cell_type": "code",
      "execution_count": 25,
      "metadata": {},
      "outputs": [
        {
          "data": {
            "image/png": "[encoded data removed]",
            "text/plain": [
              "<Figure size 432x288 with 1 Axes>"
            ]
          },
          "metadata": {
            "needs_background": "light"
          },
          "output_type": "display_data"
        }
      ],
      "source": [
        "Q = np.random.normal(0, 1, 100)\n",
        "P = np.random.normal(0, 1, 100)\n",
        "\n",
        "plt.plot(Q);\n",
        "plt.plot(P);\n",
        "plt.xlabel('Score')\n",
        "plt.ylabel('Matches')\n",
        "plt.legend(['Q', 'P']);"
      ]
    },
    {
      "cell_type": "markdown",
      "metadata": {
        "id": "LNoX6EychVlb"
      },
      "source": [
        "## Generating Statistics\n",
        "\n",
        "Let's use `numpy` to take some simple statistics."
      ]
    },
    {
      "cell_type": "code",
      "execution_count": 41,
      "metadata": {
        "colab": {
          "base_uri": "https://localhost:8080/"
        },
        "id": "6CSd8vSDhVlb",
        "outputId": "188cbbe0-d742-4ddc-edf0-01bdce2d1b2f"
      },
      "outputs": [
        {
          "data": {
            "text/plain": [
              "87.68734765035278"
            ]
          },
          "execution_count": 41,
          "metadata": {},
          "output_type": "execute_result"
        }
      ],
      "source": [
        "np.mean(X)"
      ]
    },
    {
      "cell_type": "code",
      "execution_count": 42,
      "metadata": {
        "colab": {
          "base_uri": "https://localhost:8080/"
        },
        "id": "MQ99LfQahVlb",
        "outputId": "63d2debd-c049-4d54-a248-538d0826c68a"
      },
      "outputs": [
        {
          "data": {
            "text/plain": [
              "0.9352016043499153"
            ]
          },
          "execution_count": 42,
          "metadata": {},
          "output_type": "execute_result"
        }
      ],
      "source": [
        "np.std(X2)"
      ]
    },
    {
      "cell_type": "markdown",
      "metadata": {
        "id": "VejldCCShVlb"
      },
      "source": [
        "## Getting Real Pricing Data\n",
        "\n",
        "Randomly sampled data can be great for testing ideas, but let's get some real data. We can use `get_pricing` to do that. You can use the `?` syntax as discussed above to get more information on `get_pricing`'s arguments."
      ]
    },
    {
      "cell_type": "markdown",
      "metadata": {},
      "source": [
        "**My own example 9**"
      ]
    },
    {
      "cell_type": "code",
      "execution_count": 29,
      "metadata": {},
      "outputs": [
        {
          "name": "stdout",
          "output_type": "stream",
          "text": [
            "Defaulting to user installation because normal site-packages is not writeable\n",
            "Collecting yfinance\n",
            "  Downloading yfinance-0.1.70-py2.py3-none-any.whl (26 kB)\n",
            "Requirement already satisfied: numpy>=1.15 in /home/david/.local/lib/python3.8/site-packages (from yfinance) (1.22.3)\n",
            "Collecting requests>=2.26\n",
            "  Downloading requests-2.27.1-py2.py3-none-any.whl (63 kB)\n",
            "\u001b[2K     \u001b[38;2;114;156;31m━━━━━━━━━━━━━━━━━━━━━━━━━━━━━━━━━━━━━━━━\u001b[0m \u001b[32m63.1/63.1 KB\u001b[0m \u001b[31m85.1 kB/s\u001b[0m eta \u001b[36m0:00:00\u001b[0m1m123.4 kB/s\u001b[0m eta \u001b[36m0:00:01\u001b[0m\n",
            "\u001b[?25hRequirement already satisfied: lxml>=4.5.1 in /home/david/.local/lib/python3.8/site-packages (from yfinance) (4.8.0)\n",
            "Requirement already satisfied: pandas>=0.24.0 in /home/david/.local/lib/python3.8/site-packages (from yfinance) (1.4.2)\n",
            "Collecting multitasking>=0.0.7\n",
            "  Downloading multitasking-0.0.10.tar.gz (8.2 kB)\n",
            "  Preparing metadata (setup.py) ... \u001b[?25ldone\n",
            "\u001b[?25hRequirement already satisfied: python-dateutil>=2.8.1 in /home/david/.local/lib/python3.8/site-packages (from pandas>=0.24.0->yfinance) (2.8.2)\n",
            "Requirement already satisfied: pytz>=2020.1 in /home/david/.local/lib/python3.8/site-packages (from pandas>=0.24.0->yfinance) (2022.1)\n",
            "Requirement already satisfied: idna<4,>=2.5 in /usr/lib/python3/dist-packages (from requests>=2.26->yfinance) (2.8)\n",
            "Requirement already satisfied: urllib3<1.27,>=1.21.1 in /usr/lib/python3/dist-packages (from requests>=2.26->yfinance) (1.25.8)\n",
            "Requirement already satisfied: certifi>=2017.4.17 in /usr/lib/python3/dist-packages (from requests>=2.26->yfinance) (2019.11.28)\n",
            "Collecting charset-normalizer~=2.0.0\n",
            "  Downloading charset_normalizer-2.0.12-py3-none-any.whl (39 kB)\n",
            "Requirement already satisfied: six>=1.5 in /usr/lib/python3/dist-packages (from python-dateutil>=2.8.1->pandas>=0.24.0->yfinance) (1.14.0)\n",
            "Building wheels for collected packages: multitasking\n",
            "  Building wheel for multitasking (setup.py) ... \u001b[?25ldone\n",
            "\u001b[?25h  Created wheel for multitasking: filename=multitasking-0.0.10-py3-none-any.whl size=8488 sha256=aa6b3a385e3bb5c42e6f8d6036259d794c9530941c3b57ffda1df9e9564a1674\n",
            "  Stored in directory: /home/david/.cache/pip/wheels/21/c9/66/b41c847de65c7985db52ec21d59996841598b8b0e93f2b9500\n",
            "Successfully built multitasking\n",
            "Installing collected packages: multitasking, charset-normalizer, requests, yfinance\n",
            "Successfully installed charset-normalizer-2.0.12 multitasking-0.0.10 requests-2.27.1 yfinance-0.1.70\n",
            "Note: you may need to restart the kernel to use updated packages.\n"
          ]
        }
      ],
      "source": [
        "%pip install yfinance"
      ]
    },
    {
      "cell_type": "markdown",
      "metadata": {},
      "source": [
        "**My own example 10**"
      ]
    },
    {
      "cell_type": "code",
      "execution_count": 37,
      "metadata": {
        "id": "jgERgiaJhVlb"
      },
      "outputs": [
        {
          "name": "stdout",
          "output_type": "stream",
          "text": [
            "[*********************100%***********************]  2 of 2 completed\n"
          ]
        }
      ],
      "source": [
        "import yfinance as yf\n",
        "\n",
        "data = yf.download(\"SPY AAPL\", start=\"2015-1-1\", end=\"2020-6-1\")"
      ]
    },
    {
      "cell_type": "markdown",
      "metadata": {
        "id": "YWbceRwghVlc"
      },
      "source": [
        "Our data is now a dataframe. You can see the datetime index and the colums with different pricing data."
      ]
    },
    {
      "cell_type": "markdown",
      "metadata": {},
      "source": [
        "**My own example 11**"
      ]
    },
    {
      "cell_type": "code",
      "execution_count": 38,
      "metadata": {
        "colab": {
          "base_uri": "https://localhost:8080/",
          "height": 1000
        },
        "id": "2_ToSt0shVlc",
        "outputId": "1834c273-ba0a-4491-f5af-68f4776d4452"
      },
      "outputs": [
        {
          "data": {
            "text/html": [
              "<div>\n",
              "<style scoped>\n",
              "    .dataframe tbody tr th:only-of-type {\n",
              "        vertical-align: middle;\n",
              "    }\n",
              "\n",
              "    .dataframe tbody tr th {\n",
              "        vertical-align: top;\n",
              "    }\n",
              "\n",
              "    .dataframe thead tr th {\n",
              "        text-align: left;\n",
              "    }\n",
              "\n",
              "    .dataframe thead tr:last-of-type th {\n",
              "        text-align: right;\n",
              "    }\n",
              "</style>\n",
              "<table border=\"1\" class=\"dataframe\">\n",
              "  <thead>\n",
              "    <tr>\n",
              "      <th></th>\n",
              "      <th colspan=\"2\" halign=\"left\">Adj Close</th>\n",
              "      <th colspan=\"2\" halign=\"left\">Close</th>\n",
              "      <th colspan=\"2\" halign=\"left\">High</th>\n",
              "      <th colspan=\"2\" halign=\"left\">Low</th>\n",
              "      <th colspan=\"2\" halign=\"left\">Open</th>\n",
              "      <th colspan=\"2\" halign=\"left\">Volume</th>\n",
              "    </tr>\n",
              "    <tr>\n",
              "      <th></th>\n",
              "      <th>AAPL</th>\n",
              "      <th>SPY</th>\n",
              "      <th>AAPL</th>\n",
              "      <th>SPY</th>\n",
              "      <th>AAPL</th>\n",
              "      <th>SPY</th>\n",
              "      <th>AAPL</th>\n",
              "      <th>SPY</th>\n",
              "      <th>AAPL</th>\n",
              "      <th>SPY</th>\n",
              "      <th>AAPL</th>\n",
              "      <th>SPY</th>\n",
              "    </tr>\n",
              "    <tr>\n",
              "      <th>Date</th>\n",
              "      <th></th>\n",
              "      <th></th>\n",
              "      <th></th>\n",
              "      <th></th>\n",
              "      <th></th>\n",
              "      <th></th>\n",
              "      <th></th>\n",
              "      <th></th>\n",
              "      <th></th>\n",
              "      <th></th>\n",
              "      <th></th>\n",
              "      <th></th>\n",
              "    </tr>\n",
              "  </thead>\n",
              "  <tbody>\n",
              "    <tr>\n",
              "      <th>2015-01-02</th>\n",
              "      <td>24.714512</td>\n",
              "      <td>179.784134</td>\n",
              "      <td>27.332500</td>\n",
              "      <td>205.429993</td>\n",
              "      <td>27.860001</td>\n",
              "      <td>206.880005</td>\n",
              "      <td>26.837500</td>\n",
              "      <td>204.179993</td>\n",
              "      <td>27.847500</td>\n",
              "      <td>206.380005</td>\n",
              "      <td>212818400</td>\n",
              "      <td>121465900</td>\n",
              "    </tr>\n",
              "    <tr>\n",
              "      <th>2015-01-05</th>\n",
              "      <td>24.018263</td>\n",
              "      <td>176.537323</td>\n",
              "      <td>26.562500</td>\n",
              "      <td>201.720001</td>\n",
              "      <td>27.162500</td>\n",
              "      <td>204.369995</td>\n",
              "      <td>26.352501</td>\n",
              "      <td>201.350006</td>\n",
              "      <td>27.072500</td>\n",
              "      <td>204.169998</td>\n",
              "      <td>257142000</td>\n",
              "      <td>169632600</td>\n",
              "    </tr>\n",
              "    <tr>\n",
              "      <th>2015-01-06</th>\n",
              "      <td>24.020523</td>\n",
              "      <td>174.874496</td>\n",
              "      <td>26.565001</td>\n",
              "      <td>199.820007</td>\n",
              "      <td>26.857500</td>\n",
              "      <td>202.720001</td>\n",
              "      <td>26.157499</td>\n",
              "      <td>198.860001</td>\n",
              "      <td>26.635000</td>\n",
              "      <td>202.089996</td>\n",
              "      <td>263188400</td>\n",
              "      <td>209151400</td>\n",
              "    </tr>\n",
              "    <tr>\n",
              "      <th>2015-01-07</th>\n",
              "      <td>24.357346</td>\n",
              "      <td>177.053665</td>\n",
              "      <td>26.937500</td>\n",
              "      <td>202.309998</td>\n",
              "      <td>27.049999</td>\n",
              "      <td>202.720001</td>\n",
              "      <td>26.674999</td>\n",
              "      <td>200.880005</td>\n",
              "      <td>26.799999</td>\n",
              "      <td>201.419998</td>\n",
              "      <td>160423600</td>\n",
              "      <td>125346700</td>\n",
              "    </tr>\n",
              "    <tr>\n",
              "      <th>2015-01-08</th>\n",
              "      <td>25.293205</td>\n",
              "      <td>180.195419</td>\n",
              "      <td>27.972500</td>\n",
              "      <td>205.899994</td>\n",
              "      <td>28.037500</td>\n",
              "      <td>206.160004</td>\n",
              "      <td>27.174999</td>\n",
              "      <td>203.990005</td>\n",
              "      <td>27.307501</td>\n",
              "      <td>204.009995</td>\n",
              "      <td>237458000</td>\n",
              "      <td>147217800</td>\n",
              "    </tr>\n",
              "    <tr>\n",
              "      <th>...</th>\n",
              "      <td>...</td>\n",
              "      <td>...</td>\n",
              "      <td>...</td>\n",
              "      <td>...</td>\n",
              "      <td>...</td>\n",
              "      <td>...</td>\n",
              "      <td>...</td>\n",
              "      <td>...</td>\n",
              "      <td>...</td>\n",
              "      <td>...</td>\n",
              "      <td>...</td>\n",
              "      <td>...</td>\n",
              "    </tr>\n",
              "    <tr>\n",
              "      <th>2020-05-22</th>\n",
              "      <td>78.854759</td>\n",
              "      <td>287.000122</td>\n",
              "      <td>79.722504</td>\n",
              "      <td>295.440002</td>\n",
              "      <td>79.807503</td>\n",
              "      <td>295.630005</td>\n",
              "      <td>78.837502</td>\n",
              "      <td>293.220001</td>\n",
              "      <td>78.942497</td>\n",
              "      <td>294.570007</td>\n",
              "      <td>81803200</td>\n",
              "      <td>63958200</td>\n",
              "    </tr>\n",
              "    <tr>\n",
              "      <th>2020-05-26</th>\n",
              "      <td>78.320625</td>\n",
              "      <td>290.536133</td>\n",
              "      <td>79.182503</td>\n",
              "      <td>299.079987</td>\n",
              "      <td>81.059998</td>\n",
              "      <td>302.190002</td>\n",
              "      <td>79.125000</td>\n",
              "      <td>295.459991</td>\n",
              "      <td>80.875000</td>\n",
              "      <td>301.929993</td>\n",
              "      <td>125522000</td>\n",
              "      <td>88951400</td>\n",
              "    </tr>\n",
              "    <tr>\n",
              "      <th>2020-05-27</th>\n",
              "      <td>78.661880</td>\n",
              "      <td>294.859039</td>\n",
              "      <td>79.527496</td>\n",
              "      <td>303.529999</td>\n",
              "      <td>79.677498</td>\n",
              "      <td>303.570007</td>\n",
              "      <td>78.272499</td>\n",
              "      <td>296.869995</td>\n",
              "      <td>79.035004</td>\n",
              "      <td>302.119995</td>\n",
              "      <td>112945200</td>\n",
              "      <td>104817400</td>\n",
              "    </tr>\n",
              "    <tr>\n",
              "      <th>2020-05-28</th>\n",
              "      <td>78.696487</td>\n",
              "      <td>294.315033</td>\n",
              "      <td>79.562500</td>\n",
              "      <td>302.970001</td>\n",
              "      <td>80.860001</td>\n",
              "      <td>306.839996</td>\n",
              "      <td>78.907501</td>\n",
              "      <td>302.239990</td>\n",
              "      <td>79.192497</td>\n",
              "      <td>304.649994</td>\n",
              "      <td>133560800</td>\n",
              "      <td>90405200</td>\n",
              "    </tr>\n",
              "    <tr>\n",
              "      <th>2020-05-29</th>\n",
              "      <td>78.619843</td>\n",
              "      <td>295.626434</td>\n",
              "      <td>79.485001</td>\n",
              "      <td>304.320007</td>\n",
              "      <td>80.287498</td>\n",
              "      <td>304.959991</td>\n",
              "      <td>79.117500</td>\n",
              "      <td>299.470001</td>\n",
              "      <td>79.812500</td>\n",
              "      <td>302.459991</td>\n",
              "      <td>153532400</td>\n",
              "      <td>119090800</td>\n",
              "    </tr>\n",
              "  </tbody>\n",
              "</table>\n",
              "<p>1361 rows × 12 columns</p>\n",
              "</div>"
            ],
            "text/plain": [
              "            Adj Close                  Close                   High  \\\n",
              "                 AAPL         SPY       AAPL         SPY       AAPL   \n",
              "Date                                                                  \n",
              "2015-01-02  24.714512  179.784134  27.332500  205.429993  27.860001   \n",
              "2015-01-05  24.018263  176.537323  26.562500  201.720001  27.162500   \n",
              "2015-01-06  24.020523  174.874496  26.565001  199.820007  26.857500   \n",
              "2015-01-07  24.357346  177.053665  26.937500  202.309998  27.049999   \n",
              "2015-01-08  25.293205  180.195419  27.972500  205.899994  28.037500   \n",
              "...               ...         ...        ...         ...        ...   \n",
              "2020-05-22  78.854759  287.000122  79.722504  295.440002  79.807503   \n",
              "2020-05-26  78.320625  290.536133  79.182503  299.079987  81.059998   \n",
              "2020-05-27  78.661880  294.859039  79.527496  303.529999  79.677498   \n",
              "2020-05-28  78.696487  294.315033  79.562500  302.970001  80.860001   \n",
              "2020-05-29  78.619843  295.626434  79.485001  304.320007  80.287498   \n",
              "\n",
              "                              Low                   Open              \\\n",
              "                   SPY       AAPL         SPY       AAPL         SPY   \n",
              "Date                                                                   \n",
              "2015-01-02  206.880005  26.837500  204.179993  27.847500  206.380005   \n",
              "2015-01-05  204.369995  26.352501  201.350006  27.072500  204.169998   \n",
              "2015-01-06  202.720001  26.157499  198.860001  26.635000  202.089996   \n",
              "2015-01-07  202.720001  26.674999  200.880005  26.799999  201.419998   \n",
              "2015-01-08  206.160004  27.174999  203.990005  27.307501  204.009995   \n",
              "...                ...        ...         ...        ...         ...   \n",
              "2020-05-22  295.630005  78.837502  293.220001  78.942497  294.570007   \n",
              "2020-05-26  302.190002  79.125000  295.459991  80.875000  301.929993   \n",
              "2020-05-27  303.570007  78.272499  296.869995  79.035004  302.119995   \n",
              "2020-05-28  306.839996  78.907501  302.239990  79.192497  304.649994   \n",
              "2020-05-29  304.959991  79.117500  299.470001  79.812500  302.459991   \n",
              "\n",
              "               Volume             \n",
              "                 AAPL        SPY  \n",
              "Date                              \n",
              "2015-01-02  212818400  121465900  \n",
              "2015-01-05  257142000  169632600  \n",
              "2015-01-06  263188400  209151400  \n",
              "2015-01-07  160423600  125346700  \n",
              "2015-01-08  237458000  147217800  \n",
              "...               ...        ...  \n",
              "2020-05-22   81803200   63958200  \n",
              "2020-05-26  125522000   88951400  \n",
              "2020-05-27  112945200  104817400  \n",
              "2020-05-28  133560800   90405200  \n",
              "2020-05-29  153532400  119090800  \n",
              "\n",
              "[1361 rows x 12 columns]"
            ]
          },
          "execution_count": 38,
          "metadata": {},
          "output_type": "execute_result"
        }
      ],
      "source": [
        "data"
      ]
    },
    {
      "cell_type": "markdown",
      "metadata": {
        "id": "SSKj6atjhVlc"
      },
      "source": [
        "This is a pandas dataframe, so we can index in to just get price like this. For more info on pandas, please [click here](http://pandas.pydata.org/pandas-docs/stable/10min.html)."
      ]
    },
    {
      "cell_type": "markdown",
      "metadata": {},
      "source": [
        "**My own example 12**"
      ]
    },
    {
      "cell_type": "code",
      "execution_count": 40,
      "metadata": {
        "colab": {
          "base_uri": "https://localhost:8080/",
          "height": 467
        },
        "id": "CynWUXdPhVlc",
        "outputId": "91357c29-523d-4c5b-bd95-84281e1f857d"
      },
      "outputs": [
        {
          "data": {
            "text/html": [
              "<div>\n",
              "<style scoped>\n",
              "    .dataframe tbody tr th:only-of-type {\n",
              "        vertical-align: middle;\n",
              "    }\n",
              "\n",
              "    .dataframe tbody tr th {\n",
              "        vertical-align: top;\n",
              "    }\n",
              "\n",
              "    .dataframe thead th {\n",
              "        text-align: right;\n",
              "    }\n",
              "</style>\n",
              "<table border=\"1\" class=\"dataframe\">\n",
              "  <thead>\n",
              "    <tr style=\"text-align: right;\">\n",
              "      <th></th>\n",
              "      <th>AAPL</th>\n",
              "      <th>SPY</th>\n",
              "    </tr>\n",
              "    <tr>\n",
              "      <th>Date</th>\n",
              "      <th></th>\n",
              "      <th></th>\n",
              "    </tr>\n",
              "  </thead>\n",
              "  <tbody>\n",
              "    <tr>\n",
              "      <th>2015-01-02</th>\n",
              "      <td>27.332500</td>\n",
              "      <td>205.429993</td>\n",
              "    </tr>\n",
              "    <tr>\n",
              "      <th>2015-01-05</th>\n",
              "      <td>26.562500</td>\n",
              "      <td>201.720001</td>\n",
              "    </tr>\n",
              "    <tr>\n",
              "      <th>2015-01-06</th>\n",
              "      <td>26.565001</td>\n",
              "      <td>199.820007</td>\n",
              "    </tr>\n",
              "    <tr>\n",
              "      <th>2015-01-07</th>\n",
              "      <td>26.937500</td>\n",
              "      <td>202.309998</td>\n",
              "    </tr>\n",
              "    <tr>\n",
              "      <th>2015-01-08</th>\n",
              "      <td>27.972500</td>\n",
              "      <td>205.899994</td>\n",
              "    </tr>\n",
              "    <tr>\n",
              "      <th>...</th>\n",
              "      <td>...</td>\n",
              "      <td>...</td>\n",
              "    </tr>\n",
              "    <tr>\n",
              "      <th>2020-05-22</th>\n",
              "      <td>79.722504</td>\n",
              "      <td>295.440002</td>\n",
              "    </tr>\n",
              "    <tr>\n",
              "      <th>2020-05-26</th>\n",
              "      <td>79.182503</td>\n",
              "      <td>299.079987</td>\n",
              "    </tr>\n",
              "    <tr>\n",
              "      <th>2020-05-27</th>\n",
              "      <td>79.527496</td>\n",
              "      <td>303.529999</td>\n",
              "    </tr>\n",
              "    <tr>\n",
              "      <th>2020-05-28</th>\n",
              "      <td>79.562500</td>\n",
              "      <td>302.970001</td>\n",
              "    </tr>\n",
              "    <tr>\n",
              "      <th>2020-05-29</th>\n",
              "      <td>79.485001</td>\n",
              "      <td>304.320007</td>\n",
              "    </tr>\n",
              "  </tbody>\n",
              "</table>\n",
              "<p>1361 rows × 2 columns</p>\n",
              "</div>"
            ],
            "text/plain": [
              "                 AAPL         SPY\n",
              "Date                             \n",
              "2015-01-02  27.332500  205.429993\n",
              "2015-01-05  26.562500  201.720001\n",
              "2015-01-06  26.565001  199.820007\n",
              "2015-01-07  26.937500  202.309998\n",
              "2015-01-08  27.972500  205.899994\n",
              "...               ...         ...\n",
              "2020-05-22  79.722504  295.440002\n",
              "2020-05-26  79.182503  299.079987\n",
              "2020-05-27  79.527496  303.529999\n",
              "2020-05-28  79.562500  302.970001\n",
              "2020-05-29  79.485001  304.320007\n",
              "\n",
              "[1361 rows x 2 columns]"
            ]
          },
          "execution_count": 40,
          "metadata": {},
          "output_type": "execute_result"
        }
      ],
      "source": [
        "Y = data['Close']\n",
        "Y"
      ]
    },
    {
      "cell_type": "markdown",
      "metadata": {
        "id": "yV3859hYhVlc"
      },
      "source": [
        "Because there is now also date information in our data, we provide two series to `.plot`. `X.index` gives us the datetime index, and `X.values` gives us the pricing values. These are used as the X and Y coordinates to make a graph."
      ]
    },
    {
      "cell_type": "markdown",
      "metadata": {},
      "source": [
        "**My own example 13**"
      ]
    },
    {
      "cell_type": "code",
      "execution_count": 46,
      "metadata": {
        "colab": {
          "base_uri": "https://localhost:8080/",
          "height": 390
        },
        "id": "OGA4Y5RHhVlc",
        "outputId": "23e6f64f-67a9-41ac-b191-bf0f8f1963b8"
      },
      "outputs": [
        {
          "data": {
            "image/png": "[encoded data removed]",
            "text/plain": [
              "<Figure size 432x288 with 1 Axes>"
            ]
          },
          "metadata": {
            "needs_background": "light"
          },
          "output_type": "display_data"
        }
      ],
      "source": [
        "plt.plot(Y.index, Y.values)\n",
        "plt.ylabel('Price')\n",
        "plt.legend(['APPL', 'SPY']);"
      ]
    },
    {
      "cell_type": "markdown",
      "metadata": {
        "id": "tCZHgGSzhVld"
      },
      "source": [
        "We can get statistics again on real data."
      ]
    },
    {
      "cell_type": "code",
      "execution_count": null,
      "metadata": {
        "colab": {
          "base_uri": "https://localhost:8080/"
        },
        "id": "Mc03TYAjhVld",
        "outputId": "bdcdb8ee-6394-4d25-dec5-552445c708af"
      },
      "outputs": [
        {
          "data": {
            "text/plain": [
              "102.11406370368137"
            ]
          },
          "execution_count": 46,
          "metadata": {
            "tags": []
          },
          "output_type": "execute_result"
        }
      ],
      "source": [
        "np.mean(X)"
      ]
    },
    {
      "cell_type": "markdown",
      "metadata": {},
      "source": [
        "**My own example 14**"
      ]
    },
    {
      "cell_type": "code",
      "execution_count": 48,
      "metadata": {},
      "outputs": [
        {
          "data": {
            "text/plain": [
              "AAPL     41.236130\n",
              "SPY     248.990397\n",
              "dtype: float64"
            ]
          },
          "execution_count": 48,
          "metadata": {},
          "output_type": "execute_result"
        }
      ],
      "source": [
        "np.mean(Y)"
      ]
    },
    {
      "cell_type": "code",
      "execution_count": null,
      "metadata": {
        "colab": {
          "base_uri": "https://localhost:8080/"
        },
        "id": "EMoV8FpbhVld",
        "outputId": "c4c21cbb-c7b2-49fe-c23b-d6e25a0de7e7"
      },
      "outputs": [
        {
          "data": {
            "text/plain": [
              "7.889753837946643"
            ]
          },
          "execution_count": 47,
          "metadata": {
            "tags": []
          },
          "output_type": "execute_result"
        }
      ],
      "source": [
        "np.std(X)"
      ]
    },
    {
      "cell_type": "markdown",
      "metadata": {},
      "source": [
        "**My own example 15**"
      ]
    },
    {
      "cell_type": "code",
      "execution_count": 45,
      "metadata": {},
      "outputs": [
        {
          "data": {
            "text/plain": [
              "AAPL    14.119653\n",
              "SPY     37.720082\n",
              "dtype: float64"
            ]
          },
          "execution_count": 45,
          "metadata": {},
          "output_type": "execute_result"
        }
      ],
      "source": [
        "np.std(Y)"
      ]
    },
    {
      "cell_type": "markdown",
      "metadata": {
        "id": "7EUhfs1DhVld"
      },
      "source": [
        "## Getting Returns from Prices\n",
        "\n",
        "We can use the `pct_change` function to get returns. Notice how we drop the first element after doing this, as it will be `NaN` (nothing -> something results in a NaN percent change)."
      ]
    },
    {
      "cell_type": "code",
      "execution_count": 49,
      "metadata": {
        "colab": {
          "base_uri": "https://localhost:8080/",
          "height": 171
        },
        "id": "M1M3ARI4hVld",
        "outputId": "5d9f543b-dc8f-4bde-82c1-2d2c66a12d88"
      },
      "outputs": [],
      "source": [
        "R = X.pct_change()[1:]"
      ]
    },
    {
      "cell_type": "markdown",
      "metadata": {},
      "source": [
        "**My own example 16**"
      ]
    },
    {
      "cell_type": "code",
      "execution_count": 50,
      "metadata": {},
      "outputs": [],
      "source": [
        "M = Y.pct_change()[1:]"
      ]
    },
    {
      "cell_type": "markdown",
      "metadata": {
        "id": "5E9jDMBohVld"
      },
      "source": [
        "We can plot the returns distribution as a histogram."
      ]
    },
    {
      "cell_type": "code",
      "execution_count": null,
      "metadata": {
        "colab": {
          "base_uri": "https://localhost:8080/",
          "height": 283
        },
        "id": "9J9SbxnBhVle",
        "outputId": "29e85fe2-1d60-4a0a-9e7c-93df2b9d107a"
      },
      "outputs": [
        {
          "data": {
            "image/png": "[encoded data removed]",
            "text/plain": [
              "<Figure size 432x288 with 1 Axes>"
            ]
          },
          "metadata": {
            "needs_background": "light",
            "tags": []
          },
          "output_type": "display_data"
        }
      ],
      "source": [
        "plt.hist(R, bins=20)\n",
        "plt.xlabel('Return')\n",
        "plt.ylabel('Frequency')\n",
        "plt.legend(['MSFT Returns']);"
      ]
    },
    {
      "cell_type": "markdown",
      "metadata": {},
      "source": [
        "**My own example 17**"
      ]
    },
    {
      "cell_type": "code",
      "execution_count": 51,
      "metadata": {},
      "outputs": [
        {
          "data": {
            "image/png": "[encoded data removed]",
            "text/plain": [
              "<Figure size 432x288 with 1 Axes>"
            ]
          },
          "metadata": {
            "needs_background": "light"
          },
          "output_type": "display_data"
        }
      ],
      "source": [
        "plt.hist(M, bins=20)\n",
        "plt.xlabel('Return')\n",
        "plt.ylabel('Frequency')\n",
        "plt.legend(['SPY Returns', 'APPL Returns']);"
      ]
    },
    {
      "cell_type": "markdown",
      "metadata": {
        "id": "O1o2u6nUhVle"
      },
      "source": [
        "Get statistics again."
      ]
    },
    {
      "cell_type": "code",
      "execution_count": 53,
      "metadata": {
        "colab": {
          "base_uri": "https://localhost:8080/"
        },
        "id": "mWujgSllhVle",
        "outputId": "43a30765-0caa-4410-8e5f-86a2a38f21bd"
      },
      "outputs": [
        {
          "data": {
            "text/plain": [
              "0.0011312013002815798"
            ]
          },
          "execution_count": 53,
          "metadata": {},
          "output_type": "execute_result"
        }
      ],
      "source": [
        "np.mean(R)"
      ]
    },
    {
      "cell_type": "markdown",
      "metadata": {},
      "source": [
        "**My own example 18**"
      ]
    },
    {
      "cell_type": "code",
      "execution_count": 54,
      "metadata": {},
      "outputs": [
        {
          "data": {
            "text/plain": [
              "AAPL    0.000946\n",
              "SPY     0.000356\n",
              "dtype: float64"
            ]
          },
          "execution_count": 54,
          "metadata": {},
          "output_type": "execute_result"
        }
      ],
      "source": [
        "np.mean(M)"
      ]
    },
    {
      "cell_type": "code",
      "execution_count": null,
      "metadata": {
        "colab": {
          "base_uri": "https://localhost:8080/"
        },
        "id": "Fkwtx587hVlf",
        "outputId": "f8a08163-8ca2-48be-987c-f6ea0431c183"
      },
      "outputs": [
        {
          "data": {
            "text/plain": [
              "0.013179028414868633"
            ]
          },
          "execution_count": 51,
          "metadata": {
            "tags": []
          },
          "output_type": "execute_result"
        }
      ],
      "source": [
        "np.std(R)"
      ]
    },
    {
      "cell_type": "markdown",
      "metadata": {},
      "source": [
        "**My own example 19**"
      ]
    },
    {
      "cell_type": "code",
      "execution_count": 55,
      "metadata": {},
      "outputs": [
        {
          "data": {
            "text/plain": [
              "AAPL    0.017935\n",
              "SPY     0.011584\n",
              "dtype: float64"
            ]
          },
          "execution_count": 55,
          "metadata": {},
          "output_type": "execute_result"
        }
      ],
      "source": [
        "np.std(M)"
      ]
    },
    {
      "cell_type": "markdown",
      "metadata": {
        "id": "35QlSDZ1hVlf"
      },
      "source": [
        "Now let's go backwards and generate data out of a normal distribution using the statistics we estimated from Microsoft's returns. We'll see that we have good reason to suspect Microsoft's returns may not be normal, as the resulting normal distribution looks far different."
      ]
    },
    {
      "cell_type": "code",
      "execution_count": null,
      "metadata": {
        "colab": {
          "base_uri": "https://localhost:8080/",
          "height": 283
        },
        "id": "heXTOWpphVlf",
        "outputId": "08e476b9-eece-404f-cac2-3404750a9631"
      },
      "outputs": [
        {
          "data": {
            "image/png": "[encoded data removed]",
            "text/plain": [
              "<Figure size 432x288 with 1 Axes>"
            ]
          },
          "metadata": {
            "needs_background": "light",
            "tags": []
          },
          "output_type": "display_data"
        }
      ],
      "source": [
        "plt.hist(np.random.normal(np.mean(R), np.std(R), 10000), bins=20)\n",
        "plt.xlabel('Return')\n",
        "plt.ylabel('Frequency')\n",
        "plt.legend(['Normally Distributed Returns']);"
      ]
    },
    {
      "cell_type": "markdown",
      "metadata": {},
      "source": [
        "**My own example 20**"
      ]
    },
    {
      "cell_type": "code",
      "execution_count": 58,
      "metadata": {},
      "outputs": [
        {
          "data": {
            "image/png": "[encoded data removed]",
            "text/plain": [
              "<Figure size 432x288 with 1 Axes>"
            ]
          },
          "metadata": {
            "needs_background": "light"
          },
          "output_type": "display_data"
        }
      ],
      "source": [
        "plt.hist(np.random.normal(np.mean(M), np.std(M), 2), bins=20)\n",
        "plt.xlabel('Return')\n",
        "plt.ylabel('Frequency')\n",
        "plt.legend(['Normally Distributed Returns']);"
      ]
    },
    {
      "cell_type": "markdown",
      "metadata": {
        "id": "mHQy9SaFhVlf"
      },
      "source": [
        "## Generating a Moving Average\n",
        "\n",
        "`pandas` has some nice tools to allow us to generate rolling statistics. Here's an example. Notice how there's no moving average for the first 60 days, as we don't have 60 days of data on which to generate the statistic."
      ]
    },
    {
      "cell_type": "code",
      "execution_count": 61,
      "metadata": {
        "id": "ao6qcSGbhVlf"
      },
      "outputs": [
        {
          "data": {
            "image/png": "[encoded data removed]",
            "text/plain": [
              "<Figure size 432x288 with 1 Axes>"
            ]
          },
          "metadata": {
            "needs_background": "light"
          },
          "output_type": "display_data"
        }
      ],
      "source": [
        "# Take the average of the last 60 days at each timepoint.\n",
        "MAVG = X.rolling(2).mean()\n",
        "plt.plot(X.index, X.values)\n",
        "plt.plot(MAVG.index, MAVG.values)\n",
        "plt.ylabel('High')\n",
        "plt.legend(['MSFT', '60-day MAVG']);"
      ]
    },
    {
      "cell_type": "markdown",
      "metadata": {
        "id": "-dDWZuq7hVlf"
      },
      "source": [
        "This presentation is for informational purposes only and does not constitute an offer to sell, a solicitation to buy, or a recommendation for any security; nor does it constitute an offer to provide investment advisory or other services by Quantopian, Inc. (\"Quantopian\"). Nothing contained herein constitutes investment advice or offers any opinion with respect to the suitability of any security, and any views expressed herein should not be taken as advice to buy, sell, or hold any security or as an endorsement of any security or company. In preparing the information contained herein, Quantopian, Inc. has not taken into account the investment needs, objectives, and financial circumstances of any particular investor. Any views expressed and data illustrated herein were prepared based upon information, believed to be reliable, available to Quantopian, Inc. at the time of publication. Quantopian makes no guarantees as to their accuracy or completeness. All information is subject to change and may quickly become unreliable for various reasons, including changes in market conditions or economic circumstances."
      ]
    }
  ],
  "metadata": {
    "colab": {
      "name": "dahrojascalecture1.ipynb",
      "provenance": []
    },
    "interpreter": {
      "hash": "e7370f93d1d0cde622a1f8e1c04877d8463912d04d973331ad4851f04de6915a"
    },
    "kernelspec": {
      "display_name": "Python 2",
      "language": "python",
      "name": "python3"
    },
    "language_info": {
      "codemirror_mode": {
        "name": "ipython",
        "version": 3
      },
      "file_extension": ".py",
      "mimetype": "text/x-python",
      "name": "python",
      "nbconvert_exporter": "python",
      "pygments_lexer": "ipython3",
      "version": "3.8.10"
    }
  },
  "nbformat": 4,
  "nbformat_minor": 0
}
