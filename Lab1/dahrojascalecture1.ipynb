{
  "nbformat": 4,
  "nbformat_minor": 0,
  "metadata": {
    "kernelspec": {
      "display_name": "Python 2",
      "language": "python",
      "name": "python2"
    },
    "language_info": {
      "codemirror_mode": {
        "name": "ipython",
        "version": 2
      },
      "file_extension": ".py",
      "mimetype": "text/x-python",
      "name": "python",
      "nbconvert_exporter": "python",
      "pygments_lexer": "ipython2",
      "version": "2.7.12"
    },
    "colab": {
      "name": "dahrojascalecture1.ipynb",
      "provenance": []
    }
  },
  "cells": [
    {
      "cell_type": "markdown",
      "metadata": {
        "id": "ORfCTBXohVlO"
      },
      "source": [
        "#Introduction to the Research Environment\n",
        "\n",
        "The research environment is powered by IPython notebooks, which allow one to perform a great deal of data analysis and statistical validation. We'll demonstrate a few simple techniques here."
      ]
    },
    {
      "cell_type": "markdown",
      "metadata": {
        "id": "DuKgiWkjhVlU"
      },
      "source": [
        "##Code Cells vs. Text Cells\n",
        "\n",
        "As you can see, each cell can be either code or text. To select between them, choose from the 'Cell Type' dropdown menu on the top left."
      ]
    },
    {
      "cell_type": "markdown",
      "metadata": {
        "id": "0QuZqCIHhVlV"
      },
      "source": [
        "##Executing a Command\n",
        "\n",
        "A code cell will be evaluated when you press play, or when you press the shortcut, shift-enter. Evaluating a cell evaluates each line of code in sequence, and prints the results of the last line below the cell."
      ]
    },
    {
      "cell_type": "code",
      "metadata": {
        "id": "KXJH0E7zhVlV"
      },
      "source": [
        "2 + 2"
      ],
      "execution_count": null,
      "outputs": []
    },
    {
      "cell_type": "code",
      "metadata": {
        "colab": {
          "base_uri": "https://localhost:8080/"
        },
        "id": "DzmyFSlsXCd2",
        "outputId": "1c79930b-9460-4d6c-9589-213deaa622bb"
      },
      "source": [
        "63.52 + 8.12"
      ],
      "execution_count": null,
      "outputs": [
        {
          "output_type": "execute_result",
          "data": {
            "text/plain": [
              "71.64"
            ]
          },
          "metadata": {
            "tags": []
          },
          "execution_count": 1
        }
      ]
    },
    {
      "cell_type": "markdown",
      "metadata": {
        "id": "Ws8Q8QskhVlW"
      },
      "source": [
        "Sometimes there is no result to be printed, as is the case with assignment."
      ]
    },
    {
      "cell_type": "code",
      "metadata": {
        "collapsed": true,
        "id": "3DqpbHqZhVlW"
      },
      "source": [
        "X = 2\n",
        "y = 4"
      ],
      "execution_count": null,
      "outputs": []
    },
    {
      "cell_type": "markdown",
      "metadata": {
        "id": "7QeqWi6DhVlW"
      },
      "source": [
        "Remember that only the result from the last line is printed."
      ]
    },
    {
      "cell_type": "code",
      "metadata": {
        "colab": {
          "base_uri": "https://localhost:8080/"
        },
        "id": "qRjPfwB4hVlX",
        "outputId": "e350ab5e-3a58-4fac-f490-2c53a85fa2ec"
      },
      "source": [
        "2 + 2\n",
        "3 + 3"
      ],
      "execution_count": null,
      "outputs": [
        {
          "output_type": "execute_result",
          "data": {
            "text/plain": [
              "6"
            ]
          },
          "metadata": {
            "tags": []
          },
          "execution_count": 3
        }
      ]
    },
    {
      "cell_type": "markdown",
      "metadata": {
        "id": "ik90rQjthVlX"
      },
      "source": [
        "However, you can print whichever lines you want using the `print` statement."
      ]
    },
    {
      "cell_type": "code",
      "metadata": {
        "colab": {
          "base_uri": "https://localhost:8080/"
        },
        "id": "uUMd-LlZhVlX",
        "outputId": "6f569c41-2819-48ad-b395-d97667a7057c"
      },
      "source": [
        "print 2 + 2\n",
        "3 + 3\n",
        "print y"
      ],
      "execution_count": null,
      "outputs": [
        {
          "output_type": "stream",
          "text": [
            "4\n",
            "4\n"
          ],
          "name": "stdout"
        }
      ]
    },
    {
      "cell_type": "markdown",
      "metadata": {
        "id": "9vwnqpWMhVlX"
      },
      "source": [
        "##Knowing When a Cell is Running\n",
        "\n",
        "While a cell is running, a `[*]` will display on the left. When a cell has yet to be executed, `[ ]` will display. When it has been run, a number will display indicating the order in which it was run during the execution of the notebook `[5]`. Try on this cell and note it happening."
      ]
    },
    {
      "cell_type": "code",
      "metadata": {
        "colab": {
          "base_uri": "https://localhost:8080/"
        },
        "id": "yIPrZ-LohVlY",
        "outputId": "7576e0bd-0826-4533-92a2-641839816c8f"
      },
      "source": [
        "#Take some time to run something\n",
        "c = 0\n",
        "for i in range(10000000):\n",
        "    c = c + i\n",
        "c"
      ],
      "execution_count": null,
      "outputs": [
        {
          "output_type": "execute_result",
          "data": {
            "text/plain": [
              "49999995000000"
            ]
          },
          "metadata": {
            "tags": []
          },
          "execution_count": 6
        }
      ]
    },
    {
      "cell_type": "markdown",
      "metadata": {
        "id": "yivUDM-yhVlY"
      },
      "source": [
        "##Importing Libraries\n",
        "\n",
        "The vast majority of the time, you'll want to use functions from pre-built libraries. You can't import every library on Quantopian due to security issues, but you can import most of the common scientific ones. Here I import numpy and pandas, the two most common and useful libraries in quant finance. I recommend copying this import statement to every new notebook.\n",
        "\n",
        "Notice that you can rename libraries to whatever you want after importing. The `as` statement allows this. Here we use `np` and `pd` as aliases for `numpy` and `pandas`. This is a very common aliasing and will be found in most code snippets around the web. The point behind this is to allow you to type fewer characters when you are frequently accessing these libraries."
      ]
    },
    {
      "cell_type": "code",
      "metadata": {
        "collapsed": true,
        "id": "8eOhpTZNhVlY"
      },
      "source": [
        "import numpy as np\n",
        "import pandas as pd\n",
        "\n",
        "# This is a plotting library for pretty pictures.\n",
        "import matplotlib.pyplot as plt"
      ],
      "execution_count": null,
      "outputs": []
    },
    {
      "cell_type": "markdown",
      "metadata": {
        "id": "2_oqcbs5hVlY"
      },
      "source": [
        "##Tab Autocomplete\n",
        "\n",
        "Pressing tab will give you a list of IPython's best guesses for what you might want to type next. This is incredibly valuable and will save you a lot of time. If there is only one possible option for what you could type next, IPython will fill that in for you. Try pressing tab very frequently, it will seldom fill in anything you don't want, as if there is ambiguity a list will be shown. This is a great way to see what functions are available in a library.\n",
        "\n",
        "Try placing your cursor after the `.` and pressing tab."
      ]
    },
    {
      "cell_type": "code",
      "metadata": {
        "id": "lxQ2EDMfhVlZ"
      },
      "source": [
        "np.random."
      ],
      "execution_count": null,
      "outputs": []
    },
    {
      "cell_type": "markdown",
      "metadata": {
        "id": "Kv_Ta7szhVlZ"
      },
      "source": [
        "##Getting Documentation Help\n",
        "\n",
        "Placing a question mark after a function and executing that line of code will give you the documentation IPython has for that function. It's often best to do this in a new cell, as you avoid re-executing other code and running into bugs."
      ]
    },
    {
      "cell_type": "code",
      "metadata": {
        "collapsed": true,
        "id": "DmwjulI9hVlZ"
      },
      "source": [
        "np.random.normal?"
      ],
      "execution_count": null,
      "outputs": []
    },
    {
      "cell_type": "markdown",
      "metadata": {
        "id": "uphYyCXjhVlZ"
      },
      "source": [
        "##Sampling\n",
        "\n",
        "We'll sample some random data using a function from `numpy`."
      ]
    },
    {
      "cell_type": "code",
      "metadata": {
        "id": "xtn7FuPbhVlZ"
      },
      "source": [
        "# Sample 100 points with a mean of 0 and an std of 1. This is a standard normal distribution.\n",
        "plot1 = np.random.normal(0, 1, 200)"
      ],
      "execution_count": null,
      "outputs": []
    },
    {
      "cell_type": "markdown",
      "metadata": {
        "id": "W5bP2_GThVla"
      },
      "source": [
        "##Plotting\n",
        "\n",
        "We can use the plotting library we imported as follows."
      ]
    },
    {
      "cell_type": "code",
      "metadata": {
        "colab": {
          "base_uri": "https://localhost:8080/",
          "height": 286
        },
        "id": "haL3_NYlhVla",
        "outputId": "796bc340-9c82-4588-8d58-6f971243a706"
      },
      "source": [
        "plt.plot(plot1)"
      ],
      "execution_count": null,
      "outputs": [
        {
          "output_type": "execute_result",
          "data": {
            "text/plain": [
              "[<matplotlib.lines.Line2D at 0x7fdb02b39610>]"
            ]
          },
          "metadata": {
            "tags": []
          },
          "execution_count": 23
        },
        {
          "output_type": "display_data",
          "data": {
            "image/png": "[encoded data removed]",
            "text/plain": [
              "<Figure size 432x288 with 1 Axes>"
            ]
          },
          "metadata": {
            "tags": [],
            "needs_background": "light"
          }
        }
      ]
    },
    {
      "cell_type": "markdown",
      "metadata": {
        "id": "8Ezx74VGhVla"
      },
      "source": [
        "###Squelching Line Output\n",
        "\n",
        "You might have noticed the annoying line of the form `[<matplotlib.lines.Line2D at 0x7f72fdbc1710>]` before the plots. This is because the `.plot` function actually produces output. Sometimes we wish not to display output, we can accomplish this with the semi-colon as follows."
      ]
    },
    {
      "cell_type": "code",
      "metadata": {
        "colab": {
          "base_uri": "https://localhost:8080/",
          "height": 269
        },
        "id": "XhVo9F4vhVla",
        "outputId": "a89e6d13-dcc3-4dc4-a504-ffc4d2d8c627"
      },
      "source": [
        "plt.plot(plot1);"
      ],
      "execution_count": null,
      "outputs": [
        {
          "output_type": "display_data",
          "data": {
            "image/png": "[encoded data removed]",
            "text/plain": [
              "<Figure size 432x288 with 1 Axes>"
            ]
          },
          "metadata": {
            "tags": [],
            "needs_background": "light"
          }
        }
      ]
    },
    {
      "cell_type": "markdown",
      "metadata": {
        "id": "4_cnwG1jhVla"
      },
      "source": [
        "###Adding Axis Labels\n",
        "\n",
        "No self-respecting quant leaves a graph without labeled axes. Here are some commands to help with that."
      ]
    },
    {
      "cell_type": "code",
      "metadata": {
        "colab": {
          "base_uri": "https://localhost:8080/",
          "height": 283
        },
        "id": "WixTy38ShVlb",
        "outputId": "d578448c-0594-404c-f2d2-0fbe570bf73e"
      },
      "source": [
        "X = np.random.normal(0, 1, 200)\n",
        "X2 = np.random.normal(0, 1, 200)\n",
        "\n",
        "plt.plot(X);\n",
        "plt.plot(X2);\n",
        "plt.xlabel('Time') # The data we generated is unitless, but don't forget units in general.\n",
        "plt.ylabel('Orders')\n",
        "plt.legend(['X', 'X2']);"
      ],
      "execution_count": null,
      "outputs": [
        {
          "output_type": "display_data",
          "data": {
            "image/png": "[encoded data removed]",
            "text/plain": [
              "<Figure size 432x288 with 1 Axes>"
            ]
          },
          "metadata": {
            "tags": [],
            "needs_background": "light"
          }
        }
      ]
    },
    {
      "cell_type": "markdown",
      "metadata": {
        "id": "LNoX6EychVlb"
      },
      "source": [
        "##Generating Statistics\n",
        "\n",
        "Let's use `numpy` to take some simple statistics."
      ]
    },
    {
      "cell_type": "code",
      "metadata": {
        "colab": {
          "base_uri": "https://localhost:8080/"
        },
        "id": "6CSd8vSDhVlb",
        "outputId": "188cbbe0-d742-4ddc-edf0-01bdce2d1b2f"
      },
      "source": [
        "np.mean(X)"
      ],
      "execution_count": null,
      "outputs": [
        {
          "output_type": "execute_result",
          "data": {
            "text/plain": [
              "-0.00664693728711063"
            ]
          },
          "metadata": {
            "tags": []
          },
          "execution_count": 31
        }
      ]
    },
    {
      "cell_type": "code",
      "metadata": {
        "colab": {
          "base_uri": "https://localhost:8080/"
        },
        "id": "MQ99LfQahVlb",
        "outputId": "63d2debd-c049-4d54-a248-538d0826c68a"
      },
      "source": [
        "np.std(X2)"
      ],
      "execution_count": null,
      "outputs": [
        {
          "output_type": "execute_result",
          "data": {
            "text/plain": [
              "1.0107078089295822"
            ]
          },
          "metadata": {
            "tags": []
          },
          "execution_count": 34
        }
      ]
    },
    {
      "cell_type": "markdown",
      "metadata": {
        "id": "VejldCCShVlb"
      },
      "source": [
        "##Getting Real Pricing Data\n",
        "\n",
        "Randomly sampled data can be great for testing ideas, but let's get some real data. We can use `get_pricing` to do that. You can use the `?` syntax as discussed above to get more information on `get_pricing`'s arguments."
      ]
    },
    {
      "cell_type": "code",
      "metadata": {
        "id": "Zu4ubRN_23mZ"
      },
      "source": [
        "import pandas_datareader as pdr\n",
        "import datetime \n"
      ],
      "execution_count": null,
      "outputs": []
    },
    {
      "cell_type": "code",
      "metadata": {
        "id": "jgERgiaJhVlb"
      },
      "source": [
        "data = pdr.get_data_yahoo('MSFT')"
      ],
      "execution_count": null,
      "outputs": []
    },
    {
      "cell_type": "markdown",
      "metadata": {
        "id": "YWbceRwghVlc"
      },
      "source": [
        "Our data is now a dataframe. You can see the datetime index and the colums with different pricing data."
      ]
    },
    {
      "cell_type": "code",
      "metadata": {
        "id": "2_ToSt0shVlc",
        "colab": {
          "base_uri": "https://localhost:8080/",
          "height": 1000
        },
        "outputId": "1834c273-ba0a-4491-f5af-68f4776d4452"
      },
      "source": [
        "data"
      ],
      "execution_count": null,
      "outputs": [
        {
          "output_type": "execute_result",
          "data": {
            "text/plain": [
              "                  High         Low        Open       Close       Volume  \\\n",
              "Date                                                                      \n",
              "2010-01-04   31.100000   30.590000   30.620001   30.950001   38409100.0   \n",
              "2010-01-05   31.100000   30.639999   30.850000   30.959999   49749600.0   \n",
              "2010-01-06   31.080000   30.520000   30.879999   30.770000   58182400.0   \n",
              "2010-01-07   30.700001   30.190001   30.629999   30.450001   50559700.0   \n",
              "2010-01-08   30.879999   30.240000   30.280001   30.660000   51197400.0   \n",
              "2010-01-11   30.760000   30.120001   30.709999   30.270000   68754700.0   \n",
              "2010-01-12   30.400000   29.910000   30.150000   30.070000   65912100.0   \n",
              "2010-01-13   30.520000   30.010000   30.260000   30.350000   51863500.0   \n",
              "2010-01-14   31.100000   30.260000   30.309999   30.959999   63228100.0   \n",
              "2010-01-15   31.240000   30.709999   31.080000   30.860001   79913200.0   \n",
              "2010-01-19   31.240000   30.680000   30.750000   31.100000   46575700.0   \n",
              "2010-01-20   30.940001   30.309999   30.809999   30.590000   54849500.0   \n",
              "2010-01-21   30.719999   30.000000   30.610001   30.010000   73086700.0   \n",
              "2010-01-22   30.200001   28.840000   30.000000   28.959999  102004600.0   \n",
              "2010-01-25   29.660000   29.100000   29.240000   29.320000   63373000.0   \n",
              "2010-01-26   29.850000   29.090000   29.200001   29.500000   66639900.0   \n",
              "2010-01-27   29.820000   29.020000   29.350000   29.670000   63949500.0   \n",
              "2010-01-28   29.870001   28.889999   29.840000   29.160000  117513700.0   \n",
              "2010-01-29   29.920000   27.660000   29.900000   28.180000  193888500.0   \n",
              "2010-02-01   28.480000   27.920000   28.389999   28.410000   85931100.0   \n",
              "2010-02-02   28.500000   28.139999   28.370001   28.459999   54413700.0   \n",
              "2010-02-03   28.790001   28.120001   28.260000   28.629999   61397900.0   \n",
              "2010-02-04   28.500000   27.809999   28.379999   27.840000   77850000.0   \n",
              "2010-02-05   28.280001   27.570000   28.000000   28.020000   80960100.0   \n",
              "2010-02-08   28.080000   27.570000   28.010000   27.719999   52820600.0   \n",
              "2010-02-09   28.340000   27.750000   27.969999   28.010000   59195800.0   \n",
              "2010-02-10   28.240000   27.840000   28.030001   27.990000   48591300.0   \n",
              "2010-02-11   28.400000   27.700001   27.930000   28.120001   65993700.0   \n",
              "2010-02-12   28.059999   27.580000   27.809999   27.930000   81117200.0   \n",
              "2010-02-16   28.370001   28.020000   28.129999   28.350000   51935600.0   \n",
              "...                ...         ...         ...         ...          ...   \n",
              "2021-01-25  229.779999  224.220001  229.119995  229.529999   33152100.0   \n",
              "2021-01-26  234.179993  230.080002  231.860001  232.330002   49169600.0   \n",
              "2021-01-27  240.440002  230.139999  238.000000  232.899994   69870600.0   \n",
              "2021-01-28  242.639999  235.089996  235.610001  238.929993   49111200.0   \n",
              "2021-01-29  238.020004  231.350006  235.990005  231.960007   42468900.0   \n",
              "2021-02-01  242.500000  232.429993  235.059998  239.649994   33314200.0   \n",
              "2021-02-02  242.309998  238.690002  241.300003  239.509995   25916300.0   \n",
              "2021-02-03  245.089996  239.259995  239.570007  243.000000   27158100.0   \n",
              "2021-02-04  243.240005  240.369995  242.660004  242.009995   25296100.0   \n",
              "2021-02-05  243.279999  240.419998  242.229996  242.199997   18043900.0   \n",
              "2021-02-08  243.679993  240.809998  243.149994  242.470001   22211900.0   \n",
              "2021-02-09  244.759995  241.380005  241.869995  243.770004   23565000.0   \n",
              "2021-02-10  245.919998  240.889999  245.000000  242.820007   22186700.0   \n",
              "2021-02-11  245.149994  242.149994  244.779999  244.490005   15742200.0   \n",
              "2021-02-12  245.300003  242.729996  243.929993  244.990005   16552000.0   \n",
              "2021-02-16  246.130005  242.919998  245.029999  243.699997   26728500.0   \n",
              "2021-02-17  244.309998  240.940002  241.320007  244.199997   21653500.0   \n",
              "2021-02-18  243.929993  240.860001  241.800003  243.789993   16925600.0   \n",
              "2021-02-19  243.860001  240.179993  243.750000  240.970001   25262600.0   \n",
              "2021-02-22  237.929993  232.399994  237.419998  234.509995   36446900.0   \n",
              "2021-02-23  234.830002  228.729996  230.330002  233.270004   30228700.0   \n",
              "2021-02-24  235.199997  229.000000  230.009995  234.550003   26339700.0   \n",
              "2021-02-25  234.589996  227.880005  232.080002  228.990005   39542200.0   \n",
              "2021-02-26  235.369995  229.539993  231.529999  232.380005   37811200.0   \n",
              "2021-03-01  237.470001  233.149994  235.899994  236.940002   25324000.0   \n",
              "2021-03-02  237.300003  233.449997  237.009995  233.869995   22785500.0   \n",
              "2021-03-03  233.580002  227.259995  232.160004  227.559998   33950400.0   \n",
              "2021-03-04  232.490005  224.259995  226.740005  226.729996   44584200.0   \n",
              "2021-03-05  233.270004  226.460007  229.520004  231.600006   41842100.0   \n",
              "2021-03-08  233.365005  229.371002  231.369995  230.899994   14149202.0   \n",
              "\n",
              "             Adj Close  \n",
              "Date                    \n",
              "2010-01-04   24.049969  \n",
              "2010-01-05   24.057743  \n",
              "2010-01-06   23.910097  \n",
              "2010-01-07   23.661432  \n",
              "2010-01-08   23.824627  \n",
              "2010-01-11   23.521576  \n",
              "2010-01-12   23.366163  \n",
              "2010-01-13   23.583742  \n",
              "2010-01-14   24.057743  \n",
              "2010-01-15   23.980036  \n",
              "2010-01-19   24.166536  \n",
              "2010-01-20   23.770227  \n",
              "2010-01-21   23.319540  \n",
              "2010-01-22   22.503624  \n",
              "2010-01-25   22.783371  \n",
              "2010-01-26   22.923231  \n",
              "2010-01-27   23.055338  \n",
              "2010-01-28   22.659039  \n",
              "2010-01-29   21.897520  \n",
              "2010-02-01   22.076241  \n",
              "2010-02-02   22.115095  \n",
              "2010-02-03   22.247196  \n",
              "2010-02-04   21.633324  \n",
              "2010-02-05   21.773190  \n",
              "2010-02-08   21.540071  \n",
              "2010-02-09   21.765419  \n",
              "2010-02-10   21.749876  \n",
              "2010-02-11   21.850897  \n",
              "2010-02-12   21.703253  \n",
              "2010-02-16   22.132629  \n",
              "...                ...  \n",
              "2021-01-25  229.002563  \n",
              "2021-01-26  231.796143  \n",
              "2021-01-27  232.364822  \n",
              "2021-01-28  238.380966  \n",
              "2021-01-29  231.426987  \n",
              "2021-02-01  239.099304  \n",
              "2021-02-02  238.959625  \n",
              "2021-02-03  242.441620  \n",
              "2021-02-04  241.453888  \n",
              "2021-02-05  241.643448  \n",
              "2021-02-08  241.912842  \n",
              "2021-02-09  243.209854  \n",
              "2021-02-10  242.262039  \n",
              "2021-02-11  243.928192  \n",
              "2021-02-12  244.427048  \n",
              "2021-02-16  243.139999  \n",
              "2021-02-17  244.199997  \n",
              "2021-02-18  243.789993  \n",
              "2021-02-19  240.970001  \n",
              "2021-02-22  234.509995  \n",
              "2021-02-23  233.270004  \n",
              "2021-02-24  234.550003  \n",
              "2021-02-25  228.990005  \n",
              "2021-02-26  232.380005  \n",
              "2021-03-01  236.940002  \n",
              "2021-03-02  233.869995  \n",
              "2021-03-03  227.559998  \n",
              "2021-03-04  226.729996  \n",
              "2021-03-05  231.600006  \n",
              "2021-03-08  230.899994  \n",
              "\n",
              "[2813 rows x 6 columns]"
            ],
            "text/html": [
              "<div>\n",
              "<style scoped>\n",
              "    .dataframe tbody tr th:only-of-type {\n",
              "        vertical-align: middle;\n",
              "    }\n",
              "\n",
              "    .dataframe tbody tr th {\n",
              "        vertical-align: top;\n",
              "    }\n",
              "\n",
              "    .dataframe thead th {\n",
              "        text-align: right;\n",
              "    }\n",
              "</style>\n",
              "<table border=\"1\" class=\"dataframe\">\n",
              "  <thead>\n",
              "    <tr style=\"text-align: right;\">\n",
              "      <th></th>\n",
              "      <th>High</th>\n",
              "      <th>Low</th>\n",
              "      <th>Open</th>\n",
              "      <th>Close</th>\n",
              "      <th>Volume</th>\n",
              "      <th>Adj Close</th>\n",
              "    </tr>\n",
              "    <tr>\n",
              "      <th>Date</th>\n",
              "      <th></th>\n",
              "      <th></th>\n",
              "      <th></th>\n",
              "      <th></th>\n",
              "      <th></th>\n",
              "      <th></th>\n",
              "    </tr>\n",
              "  </thead>\n",
              "  <tbody>\n",
              "    <tr>\n",
              "      <th>2010-01-04</th>\n",
              "      <td>31.100000</td>\n",
              "      <td>30.590000</td>\n",
              "      <td>30.620001</td>\n",
              "      <td>30.950001</td>\n",
              "      <td>38409100.0</td>\n",
              "      <td>24.049969</td>\n",
              "    </tr>\n",
              "    <tr>\n",
              "      <th>2010-01-05</th>\n",
              "      <td>31.100000</td>\n",
              "      <td>30.639999</td>\n",
              "      <td>30.850000</td>\n",
              "      <td>30.959999</td>\n",
              "      <td>49749600.0</td>\n",
              "      <td>24.057743</td>\n",
              "    </tr>\n",
              "    <tr>\n",
              "      <th>2010-01-06</th>\n",
              "      <td>31.080000</td>\n",
              "      <td>30.520000</td>\n",
              "      <td>30.879999</td>\n",
              "      <td>30.770000</td>\n",
              "      <td>58182400.0</td>\n",
              "      <td>23.910097</td>\n",
              "    </tr>\n",
              "    <tr>\n",
              "      <th>2010-01-07</th>\n",
              "      <td>30.700001</td>\n",
              "      <td>30.190001</td>\n",
              "      <td>30.629999</td>\n",
              "      <td>30.450001</td>\n",
              "      <td>50559700.0</td>\n",
              "      <td>23.661432</td>\n",
              "    </tr>\n",
              "    <tr>\n",
              "      <th>2010-01-08</th>\n",
              "      <td>30.879999</td>\n",
              "      <td>30.240000</td>\n",
              "      <td>30.280001</td>\n",
              "      <td>30.660000</td>\n",
              "      <td>51197400.0</td>\n",
              "      <td>23.824627</td>\n",
              "    </tr>\n",
              "    <tr>\n",
              "      <th>2010-01-11</th>\n",
              "      <td>30.760000</td>\n",
              "      <td>30.120001</td>\n",
              "      <td>30.709999</td>\n",
              "      <td>30.270000</td>\n",
              "      <td>68754700.0</td>\n",
              "      <td>23.521576</td>\n",
              "    </tr>\n",
              "    <tr>\n",
              "      <th>2010-01-12</th>\n",
              "      <td>30.400000</td>\n",
              "      <td>29.910000</td>\n",
              "      <td>30.150000</td>\n",
              "      <td>30.070000</td>\n",
              "      <td>65912100.0</td>\n",
              "      <td>23.366163</td>\n",
              "    </tr>\n",
              "    <tr>\n",
              "      <th>2010-01-13</th>\n",
              "      <td>30.520000</td>\n",
              "      <td>30.010000</td>\n",
              "      <td>30.260000</td>\n",
              "      <td>30.350000</td>\n",
              "      <td>51863500.0</td>\n",
              "      <td>23.583742</td>\n",
              "    </tr>\n",
              "    <tr>\n",
              "      <th>2010-01-14</th>\n",
              "      <td>31.100000</td>\n",
              "      <td>30.260000</td>\n",
              "      <td>30.309999</td>\n",
              "      <td>30.959999</td>\n",
              "      <td>63228100.0</td>\n",
              "      <td>24.057743</td>\n",
              "    </tr>\n",
              "    <tr>\n",
              "      <th>2010-01-15</th>\n",
              "      <td>31.240000</td>\n",
              "      <td>30.709999</td>\n",
              "      <td>31.080000</td>\n",
              "      <td>30.860001</td>\n",
              "      <td>79913200.0</td>\n",
              "      <td>23.980036</td>\n",
              "    </tr>\n",
              "    <tr>\n",
              "      <th>2010-01-19</th>\n",
              "      <td>31.240000</td>\n",
              "      <td>30.680000</td>\n",
              "      <td>30.750000</td>\n",
              "      <td>31.100000</td>\n",
              "      <td>46575700.0</td>\n",
              "      <td>24.166536</td>\n",
              "    </tr>\n",
              "    <tr>\n",
              "      <th>2010-01-20</th>\n",
              "      <td>30.940001</td>\n",
              "      <td>30.309999</td>\n",
              "      <td>30.809999</td>\n",
              "      <td>30.590000</td>\n",
              "      <td>54849500.0</td>\n",
              "      <td>23.770227</td>\n",
              "    </tr>\n",
              "    <tr>\n",
              "      <th>2010-01-21</th>\n",
              "      <td>30.719999</td>\n",
              "      <td>30.000000</td>\n",
              "      <td>30.610001</td>\n",
              "      <td>30.010000</td>\n",
              "      <td>73086700.0</td>\n",
              "      <td>23.319540</td>\n",
              "    </tr>\n",
              "    <tr>\n",
              "      <th>2010-01-22</th>\n",
              "      <td>30.200001</td>\n",
              "      <td>28.840000</td>\n",
              "      <td>30.000000</td>\n",
              "      <td>28.959999</td>\n",
              "      <td>102004600.0</td>\n",
              "      <td>22.503624</td>\n",
              "    </tr>\n",
              "    <tr>\n",
              "      <th>2010-01-25</th>\n",
              "      <td>29.660000</td>\n",
              "      <td>29.100000</td>\n",
              "      <td>29.240000</td>\n",
              "      <td>29.320000</td>\n",
              "      <td>63373000.0</td>\n",
              "      <td>22.783371</td>\n",
              "    </tr>\n",
              "    <tr>\n",
              "      <th>2010-01-26</th>\n",
              "      <td>29.850000</td>\n",
              "      <td>29.090000</td>\n",
              "      <td>29.200001</td>\n",
              "      <td>29.500000</td>\n",
              "      <td>66639900.0</td>\n",
              "      <td>22.923231</td>\n",
              "    </tr>\n",
              "    <tr>\n",
              "      <th>2010-01-27</th>\n",
              "      <td>29.820000</td>\n",
              "      <td>29.020000</td>\n",
              "      <td>29.350000</td>\n",
              "      <td>29.670000</td>\n",
              "      <td>63949500.0</td>\n",
              "      <td>23.055338</td>\n",
              "    </tr>\n",
              "    <tr>\n",
              "      <th>2010-01-28</th>\n",
              "      <td>29.870001</td>\n",
              "      <td>28.889999</td>\n",
              "      <td>29.840000</td>\n",
              "      <td>29.160000</td>\n",
              "      <td>117513700.0</td>\n",
              "      <td>22.659039</td>\n",
              "    </tr>\n",
              "    <tr>\n",
              "      <th>2010-01-29</th>\n",
              "      <td>29.920000</td>\n",
              "      <td>27.660000</td>\n",
              "      <td>29.900000</td>\n",
              "      <td>28.180000</td>\n",
              "      <td>193888500.0</td>\n",
              "      <td>21.897520</td>\n",
              "    </tr>\n",
              "    <tr>\n",
              "      <th>2010-02-01</th>\n",
              "      <td>28.480000</td>\n",
              "      <td>27.920000</td>\n",
              "      <td>28.389999</td>\n",
              "      <td>28.410000</td>\n",
              "      <td>85931100.0</td>\n",
              "      <td>22.076241</td>\n",
              "    </tr>\n",
              "    <tr>\n",
              "      <th>2010-02-02</th>\n",
              "      <td>28.500000</td>\n",
              "      <td>28.139999</td>\n",
              "      <td>28.370001</td>\n",
              "      <td>28.459999</td>\n",
              "      <td>54413700.0</td>\n",
              "      <td>22.115095</td>\n",
              "    </tr>\n",
              "    <tr>\n",
              "      <th>2010-02-03</th>\n",
              "      <td>28.790001</td>\n",
              "      <td>28.120001</td>\n",
              "      <td>28.260000</td>\n",
              "      <td>28.629999</td>\n",
              "      <td>61397900.0</td>\n",
              "      <td>22.247196</td>\n",
              "    </tr>\n",
              "    <tr>\n",
              "      <th>2010-02-04</th>\n",
              "      <td>28.500000</td>\n",
              "      <td>27.809999</td>\n",
              "      <td>28.379999</td>\n",
              "      <td>27.840000</td>\n",
              "      <td>77850000.0</td>\n",
              "      <td>21.633324</td>\n",
              "    </tr>\n",
              "    <tr>\n",
              "      <th>2010-02-05</th>\n",
              "      <td>28.280001</td>\n",
              "      <td>27.570000</td>\n",
              "      <td>28.000000</td>\n",
              "      <td>28.020000</td>\n",
              "      <td>80960100.0</td>\n",
              "      <td>21.773190</td>\n",
              "    </tr>\n",
              "    <tr>\n",
              "      <th>2010-02-08</th>\n",
              "      <td>28.080000</td>\n",
              "      <td>27.570000</td>\n",
              "      <td>28.010000</td>\n",
              "      <td>27.719999</td>\n",
              "      <td>52820600.0</td>\n",
              "      <td>21.540071</td>\n",
              "    </tr>\n",
              "    <tr>\n",
              "      <th>2010-02-09</th>\n",
              "      <td>28.340000</td>\n",
              "      <td>27.750000</td>\n",
              "      <td>27.969999</td>\n",
              "      <td>28.010000</td>\n",
              "      <td>59195800.0</td>\n",
              "      <td>21.765419</td>\n",
              "    </tr>\n",
              "    <tr>\n",
              "      <th>2010-02-10</th>\n",
              "      <td>28.240000</td>\n",
              "      <td>27.840000</td>\n",
              "      <td>28.030001</td>\n",
              "      <td>27.990000</td>\n",
              "      <td>48591300.0</td>\n",
              "      <td>21.749876</td>\n",
              "    </tr>\n",
              "    <tr>\n",
              "      <th>2010-02-11</th>\n",
              "      <td>28.400000</td>\n",
              "      <td>27.700001</td>\n",
              "      <td>27.930000</td>\n",
              "      <td>28.120001</td>\n",
              "      <td>65993700.0</td>\n",
              "      <td>21.850897</td>\n",
              "    </tr>\n",
              "    <tr>\n",
              "      <th>2010-02-12</th>\n",
              "      <td>28.059999</td>\n",
              "      <td>27.580000</td>\n",
              "      <td>27.809999</td>\n",
              "      <td>27.930000</td>\n",
              "      <td>81117200.0</td>\n",
              "      <td>21.703253</td>\n",
              "    </tr>\n",
              "    <tr>\n",
              "      <th>2010-02-16</th>\n",
              "      <td>28.370001</td>\n",
              "      <td>28.020000</td>\n",
              "      <td>28.129999</td>\n",
              "      <td>28.350000</td>\n",
              "      <td>51935600.0</td>\n",
              "      <td>22.132629</td>\n",
              "    </tr>\n",
              "    <tr>\n",
              "      <th>...</th>\n",
              "      <td>...</td>\n",
              "      <td>...</td>\n",
              "      <td>...</td>\n",
              "      <td>...</td>\n",
              "      <td>...</td>\n",
              "      <td>...</td>\n",
              "    </tr>\n",
              "    <tr>\n",
              "      <th>2021-01-25</th>\n",
              "      <td>229.779999</td>\n",
              "      <td>224.220001</td>\n",
              "      <td>229.119995</td>\n",
              "      <td>229.529999</td>\n",
              "      <td>33152100.0</td>\n",
              "      <td>229.002563</td>\n",
              "    </tr>\n",
              "    <tr>\n",
              "      <th>2021-01-26</th>\n",
              "      <td>234.179993</td>\n",
              "      <td>230.080002</td>\n",
              "      <td>231.860001</td>\n",
              "      <td>232.330002</td>\n",
              "      <td>49169600.0</td>\n",
              "      <td>231.796143</td>\n",
              "    </tr>\n",
              "    <tr>\n",
              "      <th>2021-01-27</th>\n",
              "      <td>240.440002</td>\n",
              "      <td>230.139999</td>\n",
              "      <td>238.000000</td>\n",
              "      <td>232.899994</td>\n",
              "      <td>69870600.0</td>\n",
              "      <td>232.364822</td>\n",
              "    </tr>\n",
              "    <tr>\n",
              "      <th>2021-01-28</th>\n",
              "      <td>242.639999</td>\n",
              "      <td>235.089996</td>\n",
              "      <td>235.610001</td>\n",
              "      <td>238.929993</td>\n",
              "      <td>49111200.0</td>\n",
              "      <td>238.380966</td>\n",
              "    </tr>\n",
              "    <tr>\n",
              "      <th>2021-01-29</th>\n",
              "      <td>238.020004</td>\n",
              "      <td>231.350006</td>\n",
              "      <td>235.990005</td>\n",
              "      <td>231.960007</td>\n",
              "      <td>42468900.0</td>\n",
              "      <td>231.426987</td>\n",
              "    </tr>\n",
              "    <tr>\n",
              "      <th>2021-02-01</th>\n",
              "      <td>242.500000</td>\n",
              "      <td>232.429993</td>\n",
              "      <td>235.059998</td>\n",
              "      <td>239.649994</td>\n",
              "      <td>33314200.0</td>\n",
              "      <td>239.099304</td>\n",
              "    </tr>\n",
              "    <tr>\n",
              "      <th>2021-02-02</th>\n",
              "      <td>242.309998</td>\n",
              "      <td>238.690002</td>\n",
              "      <td>241.300003</td>\n",
              "      <td>239.509995</td>\n",
              "      <td>25916300.0</td>\n",
              "      <td>238.959625</td>\n",
              "    </tr>\n",
              "    <tr>\n",
              "      <th>2021-02-03</th>\n",
              "      <td>245.089996</td>\n",
              "      <td>239.259995</td>\n",
              "      <td>239.570007</td>\n",
              "      <td>243.000000</td>\n",
              "      <td>27158100.0</td>\n",
              "      <td>242.441620</td>\n",
              "    </tr>\n",
              "    <tr>\n",
              "      <th>2021-02-04</th>\n",
              "      <td>243.240005</td>\n",
              "      <td>240.369995</td>\n",
              "      <td>242.660004</td>\n",
              "      <td>242.009995</td>\n",
              "      <td>25296100.0</td>\n",
              "      <td>241.453888</td>\n",
              "    </tr>\n",
              "    <tr>\n",
              "      <th>2021-02-05</th>\n",
              "      <td>243.279999</td>\n",
              "      <td>240.419998</td>\n",
              "      <td>242.229996</td>\n",
              "      <td>242.199997</td>\n",
              "      <td>18043900.0</td>\n",
              "      <td>241.643448</td>\n",
              "    </tr>\n",
              "    <tr>\n",
              "      <th>2021-02-08</th>\n",
              "      <td>243.679993</td>\n",
              "      <td>240.809998</td>\n",
              "      <td>243.149994</td>\n",
              "      <td>242.470001</td>\n",
              "      <td>22211900.0</td>\n",
              "      <td>241.912842</td>\n",
              "    </tr>\n",
              "    <tr>\n",
              "      <th>2021-02-09</th>\n",
              "      <td>244.759995</td>\n",
              "      <td>241.380005</td>\n",
              "      <td>241.869995</td>\n",
              "      <td>243.770004</td>\n",
              "      <td>23565000.0</td>\n",
              "      <td>243.209854</td>\n",
              "    </tr>\n",
              "    <tr>\n",
              "      <th>2021-02-10</th>\n",
              "      <td>245.919998</td>\n",
              "      <td>240.889999</td>\n",
              "      <td>245.000000</td>\n",
              "      <td>242.820007</td>\n",
              "      <td>22186700.0</td>\n",
              "      <td>242.262039</td>\n",
              "    </tr>\n",
              "    <tr>\n",
              "      <th>2021-02-11</th>\n",
              "      <td>245.149994</td>\n",
              "      <td>242.149994</td>\n",
              "      <td>244.779999</td>\n",
              "      <td>244.490005</td>\n",
              "      <td>15742200.0</td>\n",
              "      <td>243.928192</td>\n",
              "    </tr>\n",
              "    <tr>\n",
              "      <th>2021-02-12</th>\n",
              "      <td>245.300003</td>\n",
              "      <td>242.729996</td>\n",
              "      <td>243.929993</td>\n",
              "      <td>244.990005</td>\n",
              "      <td>16552000.0</td>\n",
              "      <td>244.427048</td>\n",
              "    </tr>\n",
              "    <tr>\n",
              "      <th>2021-02-16</th>\n",
              "      <td>246.130005</td>\n",
              "      <td>242.919998</td>\n",
              "      <td>245.029999</td>\n",
              "      <td>243.699997</td>\n",
              "      <td>26728500.0</td>\n",
              "      <td>243.139999</td>\n",
              "    </tr>\n",
              "    <tr>\n",
              "      <th>2021-02-17</th>\n",
              "      <td>244.309998</td>\n",
              "      <td>240.940002</td>\n",
              "      <td>241.320007</td>\n",
              "      <td>244.199997</td>\n",
              "      <td>21653500.0</td>\n",
              "      <td>244.199997</td>\n",
              "    </tr>\n",
              "    <tr>\n",
              "      <th>2021-02-18</th>\n",
              "      <td>243.929993</td>\n",
              "      <td>240.860001</td>\n",
              "      <td>241.800003</td>\n",
              "      <td>243.789993</td>\n",
              "      <td>16925600.0</td>\n",
              "      <td>243.789993</td>\n",
              "    </tr>\n",
              "    <tr>\n",
              "      <th>2021-02-19</th>\n",
              "      <td>243.860001</td>\n",
              "      <td>240.179993</td>\n",
              "      <td>243.750000</td>\n",
              "      <td>240.970001</td>\n",
              "      <td>25262600.0</td>\n",
              "      <td>240.970001</td>\n",
              "    </tr>\n",
              "    <tr>\n",
              "      <th>2021-02-22</th>\n",
              "      <td>237.929993</td>\n",
              "      <td>232.399994</td>\n",
              "      <td>237.419998</td>\n",
              "      <td>234.509995</td>\n",
              "      <td>36446900.0</td>\n",
              "      <td>234.509995</td>\n",
              "    </tr>\n",
              "    <tr>\n",
              "      <th>2021-02-23</th>\n",
              "      <td>234.830002</td>\n",
              "      <td>228.729996</td>\n",
              "      <td>230.330002</td>\n",
              "      <td>233.270004</td>\n",
              "      <td>30228700.0</td>\n",
              "      <td>233.270004</td>\n",
              "    </tr>\n",
              "    <tr>\n",
              "      <th>2021-02-24</th>\n",
              "      <td>235.199997</td>\n",
              "      <td>229.000000</td>\n",
              "      <td>230.009995</td>\n",
              "      <td>234.550003</td>\n",
              "      <td>26339700.0</td>\n",
              "      <td>234.550003</td>\n",
              "    </tr>\n",
              "    <tr>\n",
              "      <th>2021-02-25</th>\n",
              "      <td>234.589996</td>\n",
              "      <td>227.880005</td>\n",
              "      <td>232.080002</td>\n",
              "      <td>228.990005</td>\n",
              "      <td>39542200.0</td>\n",
              "      <td>228.990005</td>\n",
              "    </tr>\n",
              "    <tr>\n",
              "      <th>2021-02-26</th>\n",
              "      <td>235.369995</td>\n",
              "      <td>229.539993</td>\n",
              "      <td>231.529999</td>\n",
              "      <td>232.380005</td>\n",
              "      <td>37811200.0</td>\n",
              "      <td>232.380005</td>\n",
              "    </tr>\n",
              "    <tr>\n",
              "      <th>2021-03-01</th>\n",
              "      <td>237.470001</td>\n",
              "      <td>233.149994</td>\n",
              "      <td>235.899994</td>\n",
              "      <td>236.940002</td>\n",
              "      <td>25324000.0</td>\n",
              "      <td>236.940002</td>\n",
              "    </tr>\n",
              "    <tr>\n",
              "      <th>2021-03-02</th>\n",
              "      <td>237.300003</td>\n",
              "      <td>233.449997</td>\n",
              "      <td>237.009995</td>\n",
              "      <td>233.869995</td>\n",
              "      <td>22785500.0</td>\n",
              "      <td>233.869995</td>\n",
              "    </tr>\n",
              "    <tr>\n",
              "      <th>2021-03-03</th>\n",
              "      <td>233.580002</td>\n",
              "      <td>227.259995</td>\n",
              "      <td>232.160004</td>\n",
              "      <td>227.559998</td>\n",
              "      <td>33950400.0</td>\n",
              "      <td>227.559998</td>\n",
              "    </tr>\n",
              "    <tr>\n",
              "      <th>2021-03-04</th>\n",
              "      <td>232.490005</td>\n",
              "      <td>224.259995</td>\n",
              "      <td>226.740005</td>\n",
              "      <td>226.729996</td>\n",
              "      <td>44584200.0</td>\n",
              "      <td>226.729996</td>\n",
              "    </tr>\n",
              "    <tr>\n",
              "      <th>2021-03-05</th>\n",
              "      <td>233.270004</td>\n",
              "      <td>226.460007</td>\n",
              "      <td>229.520004</td>\n",
              "      <td>231.600006</td>\n",
              "      <td>41842100.0</td>\n",
              "      <td>231.600006</td>\n",
              "    </tr>\n",
              "    <tr>\n",
              "      <th>2021-03-08</th>\n",
              "      <td>233.365005</td>\n",
              "      <td>229.371002</td>\n",
              "      <td>231.369995</td>\n",
              "      <td>230.899994</td>\n",
              "      <td>14149202.0</td>\n",
              "      <td>230.899994</td>\n",
              "    </tr>\n",
              "  </tbody>\n",
              "</table>\n",
              "<p>2813 rows × 6 columns</p>\n",
              "</div>"
            ]
          },
          "metadata": {
            "tags": []
          },
          "execution_count": 14
        }
      ]
    },
    {
      "cell_type": "markdown",
      "metadata": {
        "id": "SSKj6atjhVlc"
      },
      "source": [
        "This is a pandas dataframe, so we can index in to just get price like this. For more info on pandas, please [click here](http://pandas.pydata.org/pandas-docs/stable/10min.html)."
      ]
    },
    {
      "cell_type": "code",
      "metadata": {
        "id": "CynWUXdPhVlc",
        "colab": {
          "base_uri": "https://localhost:8080/",
          "height": 467
        },
        "outputId": "91357c29-523d-4c5b-bd95-84281e1f857d"
      },
      "source": [
        "X = data['price']"
      ],
      "execution_count": null,
      "outputs": [
        {
          "output_type": "error",
          "ename": "KeyError",
          "evalue": "ignored",
          "traceback": [
            "\u001b[0;31m\u001b[0m",
            "\u001b[0;31mKeyError\u001b[0mTraceback (most recent call last)",
            "\u001b[0;32m<ipython-input-16-6da01620febd>\u001b[0m in \u001b[0;36m<module>\u001b[0;34m()\u001b[0m\n\u001b[0;32m----> 1\u001b[0;31m \u001b[0mX\u001b[0m \u001b[0;34m=\u001b[0m \u001b[0mdata\u001b[0m\u001b[0;34m[\u001b[0m\u001b[0;34m'Price'\u001b[0m\u001b[0;34m]\u001b[0m\u001b[0;34m\u001b[0m\u001b[0m\n\u001b[0m",
            "\u001b[0;32m/usr/local/lib/python2.7/dist-packages/pandas/core/frame.pyc\u001b[0m in \u001b[0;36m__getitem__\u001b[0;34m(self, key)\u001b[0m\n\u001b[1;32m   2925\u001b[0m             \u001b[0;32mif\u001b[0m \u001b[0mself\u001b[0m\u001b[0;34m.\u001b[0m\u001b[0mcolumns\u001b[0m\u001b[0;34m.\u001b[0m\u001b[0mnlevels\u001b[0m \u001b[0;34m>\u001b[0m \u001b[0;36m1\u001b[0m\u001b[0;34m:\u001b[0m\u001b[0;34m\u001b[0m\u001b[0m\n\u001b[1;32m   2926\u001b[0m                 \u001b[0;32mreturn\u001b[0m \u001b[0mself\u001b[0m\u001b[0;34m.\u001b[0m\u001b[0m_getitem_multilevel\u001b[0m\u001b[0;34m(\u001b[0m\u001b[0mkey\u001b[0m\u001b[0;34m)\u001b[0m\u001b[0;34m\u001b[0m\u001b[0m\n\u001b[0;32m-> 2927\u001b[0;31m             \u001b[0mindexer\u001b[0m \u001b[0;34m=\u001b[0m \u001b[0mself\u001b[0m\u001b[0;34m.\u001b[0m\u001b[0mcolumns\u001b[0m\u001b[0;34m.\u001b[0m\u001b[0mget_loc\u001b[0m\u001b[0;34m(\u001b[0m\u001b[0mkey\u001b[0m\u001b[0;34m)\u001b[0m\u001b[0;34m\u001b[0m\u001b[0m\n\u001b[0m\u001b[1;32m   2928\u001b[0m             \u001b[0;32mif\u001b[0m \u001b[0mis_integer\u001b[0m\u001b[0;34m(\u001b[0m\u001b[0mindexer\u001b[0m\u001b[0;34m)\u001b[0m\u001b[0;34m:\u001b[0m\u001b[0;34m\u001b[0m\u001b[0m\n\u001b[1;32m   2929\u001b[0m                 \u001b[0mindexer\u001b[0m \u001b[0;34m=\u001b[0m \u001b[0;34m[\u001b[0m\u001b[0mindexer\u001b[0m\u001b[0;34m]\u001b[0m\u001b[0;34m\u001b[0m\u001b[0m\n",
            "\u001b[0;32m/usr/local/lib/python2.7/dist-packages/pandas/core/indexes/base.pyc\u001b[0m in \u001b[0;36mget_loc\u001b[0;34m(self, key, method, tolerance)\u001b[0m\n\u001b[1;32m   2657\u001b[0m                 \u001b[0;32mreturn\u001b[0m \u001b[0mself\u001b[0m\u001b[0;34m.\u001b[0m\u001b[0m_engine\u001b[0m\u001b[0;34m.\u001b[0m\u001b[0mget_loc\u001b[0m\u001b[0;34m(\u001b[0m\u001b[0mkey\u001b[0m\u001b[0;34m)\u001b[0m\u001b[0;34m\u001b[0m\u001b[0m\n\u001b[1;32m   2658\u001b[0m             \u001b[0;32mexcept\u001b[0m \u001b[0mKeyError\u001b[0m\u001b[0;34m:\u001b[0m\u001b[0;34m\u001b[0m\u001b[0m\n\u001b[0;32m-> 2659\u001b[0;31m                 \u001b[0;32mreturn\u001b[0m \u001b[0mself\u001b[0m\u001b[0;34m.\u001b[0m\u001b[0m_engine\u001b[0m\u001b[0;34m.\u001b[0m\u001b[0mget_loc\u001b[0m\u001b[0;34m(\u001b[0m\u001b[0mself\u001b[0m\u001b[0;34m.\u001b[0m\u001b[0m_maybe_cast_indexer\u001b[0m\u001b[0;34m(\u001b[0m\u001b[0mkey\u001b[0m\u001b[0;34m)\u001b[0m\u001b[0;34m)\u001b[0m\u001b[0;34m\u001b[0m\u001b[0m\n\u001b[0m\u001b[1;32m   2660\u001b[0m         \u001b[0mindexer\u001b[0m \u001b[0;34m=\u001b[0m \u001b[0mself\u001b[0m\u001b[0;34m.\u001b[0m\u001b[0mget_indexer\u001b[0m\u001b[0;34m(\u001b[0m\u001b[0;34m[\u001b[0m\u001b[0mkey\u001b[0m\u001b[0;34m]\u001b[0m\u001b[0;34m,\u001b[0m \u001b[0mmethod\u001b[0m\u001b[0;34m=\u001b[0m\u001b[0mmethod\u001b[0m\u001b[0;34m,\u001b[0m \u001b[0mtolerance\u001b[0m\u001b[0;34m=\u001b[0m\u001b[0mtolerance\u001b[0m\u001b[0;34m)\u001b[0m\u001b[0;34m\u001b[0m\u001b[0m\n\u001b[1;32m   2661\u001b[0m         \u001b[0;32mif\u001b[0m \u001b[0mindexer\u001b[0m\u001b[0;34m.\u001b[0m\u001b[0mndim\u001b[0m \u001b[0;34m>\u001b[0m \u001b[0;36m1\u001b[0m \u001b[0;32mor\u001b[0m \u001b[0mindexer\u001b[0m\u001b[0;34m.\u001b[0m\u001b[0msize\u001b[0m \u001b[0;34m>\u001b[0m \u001b[0;36m1\u001b[0m\u001b[0;34m:\u001b[0m\u001b[0;34m\u001b[0m\u001b[0m\n",
            "\u001b[0;32mpandas/_libs/index.pyx\u001b[0m in \u001b[0;36mpandas._libs.index.IndexEngine.get_loc\u001b[0;34m()\u001b[0m\n",
            "\u001b[0;32mpandas/_libs/index.pyx\u001b[0m in \u001b[0;36mpandas._libs.index.IndexEngine.get_loc\u001b[0;34m()\u001b[0m\n",
            "\u001b[0;32mpandas/_libs/hashtable_class_helper.pxi\u001b[0m in \u001b[0;36mpandas._libs.hashtable.PyObjectHashTable.get_item\u001b[0;34m()\u001b[0m\n",
            "\u001b[0;32mpandas/_libs/hashtable_class_helper.pxi\u001b[0m in \u001b[0;36mpandas._libs.hashtable.PyObjectHashTable.get_item\u001b[0;34m()\u001b[0m\n",
            "\u001b[0;31mKeyError\u001b[0m: 'Price'"
          ]
        }
      ]
    },
    {
      "cell_type": "markdown",
      "metadata": {
        "id": "yV3859hYhVlc"
      },
      "source": [
        "Because there is now also date information in our data, we provide two series to `.plot`. `X.index` gives us the datetime index, and `X.values` gives us the pricing values. These are used as the X and Y coordinates to make a graph."
      ]
    },
    {
      "cell_type": "code",
      "metadata": {
        "colab": {
          "base_uri": "https://localhost:8080/",
          "height": 390
        },
        "id": "OGA4Y5RHhVlc",
        "outputId": "23e6f64f-67a9-41ac-b191-bf0f8f1963b8"
      },
      "source": [
        "plt.plot(X.index, X.values)\n",
        "plt.ylabel('price')\n",
        "plt.legend(['MSFT']);"
      ],
      "execution_count": null,
      "outputs": [
        {
          "output_type": "stream",
          "text": [
            "/usr/local/lib/python2.7/dist-packages/pandas/plotting/_converter.py:129: FutureWarning: Using an implicitly registered datetime converter for a matplotlib plotting method. The converter was registered by pandas on import. Future versions of pandas will require you to explicitly register matplotlib converters.\n",
            "\n",
            "To register the converters:\n",
            "\t>>> from pandas.plotting import register_matplotlib_converters\n",
            "\t>>> register_matplotlib_converters()\n",
            "  warnings.warn(msg, FutureWarning)\n"
          ],
          "name": "stderr"
        },
        {
          "output_type": "display_data",
          "data": {
            "image/png": "[encoded data removed]",
            "text/plain": [
              "<Figure size 432x288 with 1 Axes>"
            ]
          },
          "metadata": {
            "tags": [],
            "needs_background": "light"
          }
        }
      ]
    },
    {
      "cell_type": "markdown",
      "metadata": {
        "id": "tCZHgGSzhVld"
      },
      "source": [
        "We can get statistics again on real data."
      ]
    },
    {
      "cell_type": "code",
      "metadata": {
        "colab": {
          "base_uri": "https://localhost:8080/"
        },
        "id": "Mc03TYAjhVld",
        "outputId": "bdcdb8ee-6394-4d25-dec5-552445c708af"
      },
      "source": [
        "np.mean(X)"
      ],
      "execution_count": null,
      "outputs": [
        {
          "output_type": "execute_result",
          "data": {
            "text/plain": [
              "102.11406370368137"
            ]
          },
          "metadata": {
            "tags": []
          },
          "execution_count": 46
        }
      ]
    },
    {
      "cell_type": "code",
      "metadata": {
        "colab": {
          "base_uri": "https://localhost:8080/"
        },
        "id": "EMoV8FpbhVld",
        "outputId": "c4c21cbb-c7b2-49fe-c23b-d6e25a0de7e7"
      },
      "source": [
        "np.std(X)"
      ],
      "execution_count": null,
      "outputs": [
        {
          "output_type": "execute_result",
          "data": {
            "text/plain": [
              "7.889753837946643"
            ]
          },
          "metadata": {
            "tags": []
          },
          "execution_count": 47
        }
      ]
    },
    {
      "cell_type": "markdown",
      "metadata": {
        "id": "7EUhfs1DhVld"
      },
      "source": [
        "##Getting Returns from Prices\n",
        "\n",
        "We can use the `pct_change` function to get returns. Notice how we drop the first element after doing this, as it will be `NaN` (nothing -> something results in a NaN percent change)."
      ]
    },
    {
      "cell_type": "code",
      "metadata": {
        "id": "M1M3ARI4hVld",
        "colab": {
          "base_uri": "https://localhost:8080/",
          "height": 171
        },
        "outputId": "5d9f543b-dc8f-4bde-82c1-2d2c66a12d88"
      },
      "source": [
        "R = X.pct_change()[1:]"
      ],
      "execution_count": null,
      "outputs": [
        {
          "output_type": "error",
          "ename": "NameError",
          "evalue": "ignored",
          "traceback": [
            "\u001b[0;31m\u001b[0m",
            "\u001b[0;31mNameError\u001b[0mTraceback (most recent call last)",
            "\u001b[0;32m<ipython-input-5-72715ba92b1c>\u001b[0m in \u001b[0;36m<module>\u001b[0;34m()\u001b[0m\n\u001b[0;32m----> 1\u001b[0;31m \u001b[0mR\u001b[0m \u001b[0;34m=\u001b[0m \u001b[0mX\u001b[0m\u001b[0;34m.\u001b[0m\u001b[0mpct_change\u001b[0m\u001b[0;34m(\u001b[0m\u001b[0;34m)\u001b[0m\u001b[0;34m[\u001b[0m\u001b[0;36m1\u001b[0m\u001b[0;34m:\u001b[0m\u001b[0;34m]\u001b[0m\u001b[0;34m\u001b[0m\u001b[0m\n\u001b[0m",
            "\u001b[0;31mNameError\u001b[0m: name 'X' is not defined"
          ]
        }
      ]
    },
    {
      "cell_type": "markdown",
      "metadata": {
        "id": "5E9jDMBohVld"
      },
      "source": [
        "We can plot the returns distribution as a histogram."
      ]
    },
    {
      "cell_type": "code",
      "metadata": {
        "colab": {
          "base_uri": "https://localhost:8080/",
          "height": 283
        },
        "id": "9J9SbxnBhVle",
        "outputId": "29e85fe2-1d60-4a0a-9e7c-93df2b9d107a"
      },
      "source": [
        "plt.hist(R, bins=20)\n",
        "plt.xlabel('Return')\n",
        "plt.ylabel('Frequency')\n",
        "plt.legend(['MSFT Returns']);"
      ],
      "execution_count": null,
      "outputs": [
        {
          "output_type": "display_data",
          "data": {
            "image/png": "[encoded data removed]",
            "text/plain": [
              "<Figure size 432x288 with 1 Axes>"
            ]
          },
          "metadata": {
            "tags": [],
            "needs_background": "light"
          }
        }
      ]
    },
    {
      "cell_type": "markdown",
      "metadata": {
        "id": "O1o2u6nUhVle"
      },
      "source": [
        "Get statistics again."
      ]
    },
    {
      "cell_type": "code",
      "metadata": {
        "colab": {
          "base_uri": "https://localhost:8080/"
        },
        "id": "mWujgSllhVle",
        "outputId": "43a30765-0caa-4410-8e5f-86a2a38f21bd"
      },
      "source": [
        "np.mean(R)"
      ],
      "execution_count": null,
      "outputs": [
        {
          "output_type": "execute_result",
          "data": {
            "text/plain": [
              "0.0007711474019386575"
            ]
          },
          "metadata": {
            "tags": []
          },
          "execution_count": 50
        }
      ]
    },
    {
      "cell_type": "code",
      "metadata": {
        "colab": {
          "base_uri": "https://localhost:8080/"
        },
        "id": "Fkwtx587hVlf",
        "outputId": "f8a08163-8ca2-48be-987c-f6ea0431c183"
      },
      "source": [
        "np.std(R)"
      ],
      "execution_count": null,
      "outputs": [
        {
          "output_type": "execute_result",
          "data": {
            "text/plain": [
              "0.013179028414868633"
            ]
          },
          "metadata": {
            "tags": []
          },
          "execution_count": 51
        }
      ]
    },
    {
      "cell_type": "markdown",
      "metadata": {
        "id": "35QlSDZ1hVlf"
      },
      "source": [
        "Now let's go backwards and generate data out of a normal distribution using the statistics we estimated from Microsoft's returns. We'll see that we have good reason to suspect Microsoft's returns may not be normal, as the resulting normal distribution looks far different."
      ]
    },
    {
      "cell_type": "code",
      "metadata": {
        "colab": {
          "base_uri": "https://localhost:8080/",
          "height": 283
        },
        "id": "heXTOWpphVlf",
        "outputId": "08e476b9-eece-404f-cac2-3404750a9631"
      },
      "source": [
        "plt.hist(np.random.normal(np.mean(R), np.std(R), 10000), bins=20)\n",
        "plt.xlabel('Return')\n",
        "plt.ylabel('Frequency')\n",
        "plt.legend(['Normally Distributed Returns']);"
      ],
      "execution_count": null,
      "outputs": [
        {
          "output_type": "display_data",
          "data": {
            "image/png": "[encoded data removed]",
            "text/plain": [
              "<Figure size 432x288 with 1 Axes>"
            ]
          },
          "metadata": {
            "tags": [],
            "needs_background": "light"
          }
        }
      ]
    },
    {
      "cell_type": "markdown",
      "metadata": {
        "id": "mHQy9SaFhVlf"
      },
      "source": [
        "##Generating a Moving Average\n",
        "\n",
        "`pandas` has some nice tools to allow us to generate rolling statistics. Here's an example. Notice how there's no moving average for the first 60 days, as we don't have 60 days of data on which to generate the statistic."
      ]
    },
    {
      "cell_type": "code",
      "metadata": {
        "id": "ao6qcSGbhVlf"
      },
      "source": [
        "# Take the average of the last 60 days at each timepoint.\n",
        "MAVG = pd.rolling_mean(X, window=60)\n",
        "plt.plot(X.index, X.values)\n",
        "plt.plot(MAVG.index, MAVG.values)\n",
        "plt.ylabel('High')\n",
        "plt.legend(['MSFT', '60-day MAVG']);"
      ],
      "execution_count": null,
      "outputs": []
    },
    {
      "cell_type": "markdown",
      "metadata": {
        "id": "-dDWZuq7hVlf"
      },
      "source": [
        "This presentation is for informational purposes only and does not constitute an offer to sell, a solicitation to buy, or a recommendation for any security; nor does it constitute an offer to provide investment advisory or other services by Quantopian, Inc. (\"Quantopian\"). Nothing contained herein constitutes investment advice or offers any opinion with respect to the suitability of any security, and any views expressed herein should not be taken as advice to buy, sell, or hold any security or as an endorsement of any security or company. In preparing the information contained herein, Quantopian, Inc. has not taken into account the investment needs, objectives, and financial circumstances of any particular investor. Any views expressed and data illustrated herein were prepared based upon information, believed to be reliable, available to Quantopian, Inc. at the time of publication. Quantopian makes no guarantees as to their accuracy or completeness. All information is subject to change and may quickly become unreliable for various reasons, including changes in market conditions or economic circumstances."
      ]
    },
    {
      "cell_type": "code",
      "metadata": {
        "id": "Li7CuoOYtSii"
      },
      "source": [
        ""
      ],
      "execution_count": null,
      "outputs": []
    }
  ]
}