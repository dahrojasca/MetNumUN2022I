{
  "nbformat": 4,
  "nbformat_minor": 0,
  "metadata": {
    "kernelspec": {
      "name": "python3",
      "display_name": "Python 3"
    },
    "colab": {
      "name": "dahrojascalecture3.ipynb",
      "provenance": [],
      "toc_visible": true
    },
    "language_info": {
      "name": "python"
    }
  },
  "cells": [
    {
      "cell_type": "markdown",
      "metadata": {
        "id": "QtgrWPiwvoe0"
      },
      "source": [
        "# Introduction to NumPy\n",
        "by Maxwell Margenot\n",
        "\n",
        "Part of the Quantopian Lecture Series:\n",
        "\n",
        "* [www.quantopian.com/lectures](https://www.quantopian.com/lectures)\n",
        "* [github.com/quantopian/research_public](https://github.com/quantopian/research_public)\n",
        "\n",
        "Notebook released under the Creative Commons Attribution 4.0 License."
      ]
    },
    {
      "cell_type": "markdown",
      "metadata": {
        "id": "GG_RW4lYvoe2"
      },
      "source": [
        "NumPy is an incredibly powerful package in Python that is ubiquitous throughout the Quantopian platform. It has strong integration with Pandas, another tool we will be covering in the lecture series. NumPy adds support for multi-dimensional arrays and mathematical functions that allow you to easily perform linear algebra calculations. This lecture will be a collection of linear algebra examples computed using NumPy."
      ]
    },
    {
      "cell_type": "code",
      "metadata": {
        "collapsed": true,
        "id": "AnCRq95Hvoe2"
      },
      "source": [
        "import numpy as np\n",
        "import matplotlib.pyplot as plt"
      ],
      "execution_count": null,
      "outputs": []
    },
    {
      "cell_type": "markdown",
      "metadata": {
        "id": "gWbsWzgavoe3"
      },
      "source": [
        "### Basic NumPy arrays"
      ]
    },
    {
      "cell_type": "markdown",
      "metadata": {
        "id": "_Yoyce1wvoe4"
      },
      "source": [
        "The most basic way that we could make use of NumPy in finance is calculating the mean return of a portfolio. Say that we have a list containing the historical return of several stocks."
      ]
    },
    {
      "cell_type": "code",
      "metadata": {
        "collapsed": true,
        "id": "I-tNDw6mvoe4"
      },
      "source": [
        "stock_list = [3.5, 5, 2, 8, 4.2]"
      ],
      "execution_count": null,
      "outputs": []
    },
    {
      "cell_type": "markdown",
      "metadata": {
        "id": "w10ZVUC-voe5"
      },
      "source": [
        "We can make an array by calling a function on the list:"
      ]
    },
    {
      "cell_type": "code",
      "metadata": {
        "colab": {
          "base_uri": "https://localhost:8080/"
        },
        "id": "pHvtml4bvoe5",
        "outputId": "56e91414-a009-4e7b-e35a-563ddcdd6782"
      },
      "source": [
        "returns = np.array(stock_list)\n",
        "print (returns, type(returns))"
      ],
      "execution_count": null,
      "outputs": [
        {
          "output_type": "stream",
          "text": [
            "[3.5 5.  2.  8.  4.2] <class 'numpy.ndarray'>\n"
          ],
          "name": "stdout"
        }
      ]
    },
    {
      "cell_type": "markdown",
      "metadata": {
        "id": "7CEMtAhcvoe6"
      },
      "source": [
        "You'll notice that the type of our array is 'ndarray', not just 'array'. This is because NumPy arrays can be created with multiple dimensions. If we pass np.array() a list of lists, it will create a 2-dimensional array. If we pass a list of lists of lists, it will create a 3-dimensional array, and so on and so forth."
      ]
    },
    {
      "cell_type": "code",
      "metadata": {
        "colab": {
          "base_uri": "https://localhost:8080/"
        },
        "id": "kjCiDVolvoe6",
        "outputId": "f63f221a-2b12-413c-8829-9c1200d357d9"
      },
      "source": [
        "A = np.array([[1, 2], [3, 4]])\n",
        "print (A, type(A))"
      ],
      "execution_count": null,
      "outputs": [
        {
          "output_type": "stream",
          "text": [
            "[[1 2]\n",
            " [3 4]] <class 'numpy.ndarray'>\n"
          ],
          "name": "stdout"
        }
      ]
    },
    {
      "cell_type": "markdown",
      "metadata": {
        "id": "dSHUfH9Wvoe7"
      },
      "source": [
        "We can access the dimensions of an array by looking at its `shape` member variable."
      ]
    },
    {
      "cell_type": "code",
      "metadata": {
        "colab": {
          "base_uri": "https://localhost:8080/"
        },
        "id": "XA_T9TDsvoe9",
        "outputId": "d7e9450e-260a-4349-e5f5-8ed8209e5485"
      },
      "source": [
        "print (A.shape)"
      ],
      "execution_count": null,
      "outputs": [
        {
          "output_type": "stream",
          "text": [
            "(2, 2)\n"
          ],
          "name": "stdout"
        }
      ]
    },
    {
      "cell_type": "markdown",
      "metadata": {
        "id": "tPIYPQlKvoe9"
      },
      "source": [
        "Arrays are indexed in much the same way as lists in Python. Elements of a list begin indexing from $0$ and end at $n - 1$, where $n$ is the length of the array."
      ]
    },
    {
      "cell_type": "code",
      "metadata": {
        "colab": {
          "base_uri": "https://localhost:8080/"
        },
        "id": "wKJ92W3ovoe-",
        "outputId": "27341d6c-5056-4842-f876-d0237c0155e0"
      },
      "source": [
        "print (returns[0], returns[len(returns) - 1])\n",
        "\n",
        "#dahrojasca Example\n",
        "print ('Ejemplo de David Rojas: ', returns[3], returns[len(returns) - 1])"
      ],
      "execution_count": null,
      "outputs": [
        {
          "output_type": "stream",
          "text": [
            "3.5 4.2\n",
            "Ejemplo de David Rojas:  8.0 4.2\n"
          ],
          "name": "stdout"
        }
      ]
    },
    {
      "cell_type": "markdown",
      "metadata": {
        "id": "W4glFUK4voe-"
      },
      "source": [
        "We can take a slice of an array using a colon, just like in a list."
      ]
    },
    {
      "cell_type": "code",
      "metadata": {
        "colab": {
          "base_uri": "https://localhost:8080/"
        },
        "id": "EDkMGXzSvoe-",
        "outputId": "4b3812bc-7327-4039-a0ba-1e63c49212be"
      },
      "source": [
        "print (returns[1:3])\n",
        "\n",
        "#dahrojasca Example\n",
        "print ('Ejemplo de David Rojas: ', returns[2:5])"
      ],
      "execution_count": null,
      "outputs": [
        {
          "output_type": "stream",
          "text": [
            "[5. 2.]\n",
            "Ejemplo de David Rojas:  [2.  8.  4.2]\n"
          ],
          "name": "stdout"
        }
      ]
    },
    {
      "cell_type": "markdown",
      "metadata": {
        "id": "m2ZIsMg_voe_"
      },
      "source": [
        "A slice of an array, like in a list, will select a group of elements in the array starting from the first element indicated and going up to (but not including) the last element indicated.\n",
        "\n",
        "In the case of multidimensional arrays, many of the same conventions with slicing and indexing hold. We can access the first column of a 2-dimensional array like so:"
      ]
    },
    {
      "cell_type": "code",
      "metadata": {
        "colab": {
          "base_uri": "https://localhost:8080/"
        },
        "id": "TXy9l3y8voe_",
        "outputId": "8a518b89-4f65-40e0-e1ee-2e53f18b36e9"
      },
      "source": [
        "print (A[:, 0])"
      ],
      "execution_count": null,
      "outputs": [
        {
          "output_type": "stream",
          "text": [
            "[1 3]\n"
          ],
          "name": "stdout"
        }
      ]
    },
    {
      "cell_type": "markdown",
      "metadata": {
        "id": "_9gvO56gvofA"
      },
      "source": [
        "And the first row of a 2-dimensional array like so:"
      ]
    },
    {
      "cell_type": "code",
      "metadata": {
        "colab": {
          "base_uri": "https://localhost:8080/"
        },
        "id": "uVkFAymUvofA",
        "outputId": "efcd73ab-f5d3-4f16-cb3d-6ec0b079e49a"
      },
      "source": [
        "print (A[0, :])"
      ],
      "execution_count": null,
      "outputs": [
        {
          "output_type": "stream",
          "text": [
            "[1 2]\n"
          ],
          "name": "stdout"
        }
      ]
    },
    {
      "cell_type": "markdown",
      "metadata": {
        "id": "axtzRTkYvofA"
      },
      "source": [
        "Notice that each slice of the array returns yet another array!"
      ]
    },
    {
      "cell_type": "code",
      "metadata": {
        "colab": {
          "base_uri": "https://localhost:8080/"
        },
        "id": "q36WjGdHvofB",
        "outputId": "a6d00816-5dd0-4032-b0fa-863eee82814b"
      },
      "source": [
        "print (type(A[0,:]))"
      ],
      "execution_count": null,
      "outputs": [
        {
          "output_type": "stream",
          "text": [
            "<class 'numpy.ndarray'>\n"
          ],
          "name": "stdout"
        }
      ]
    },
    {
      "cell_type": "markdown",
      "metadata": {
        "id": "9X7LUyO1vofB"
      },
      "source": [
        "Passing only one index to a 2-dimensional array will result in returning the row with the given index as well, providing us with another way to access individual rows."
      ]
    },
    {
      "cell_type": "code",
      "metadata": {
        "colab": {
          "base_uri": "https://localhost:8080/"
        },
        "id": "dnxfwHVfvofC",
        "outputId": "ab32ebed-9771-4f24-ae40-47249ab7ac14"
      },
      "source": [
        "print (A[0])"
      ],
      "execution_count": null,
      "outputs": [
        {
          "output_type": "stream",
          "text": [
            "[1 2]\n"
          ],
          "name": "stdout"
        }
      ]
    },
    {
      "cell_type": "markdown",
      "metadata": {
        "id": "TyiApgpTvofC"
      },
      "source": [
        "Accessing the index of an individual element will return only the element."
      ]
    },
    {
      "cell_type": "code",
      "metadata": {
        "colab": {
          "base_uri": "https://localhost:8080/"
        },
        "id": "g_5r_nShvofD",
        "outputId": "cf552ce9-1fdd-47a9-9277-c5b1aa6f1ade"
      },
      "source": [
        "print (A[1, 1])"
      ],
      "execution_count": null,
      "outputs": [
        {
          "output_type": "stream",
          "text": [
            "4\n"
          ],
          "name": "stdout"
        }
      ]
    },
    {
      "cell_type": "markdown",
      "metadata": {
        "id": "W2_cFzdEvofD"
      },
      "source": [
        "#### Array functions\n",
        "\n",
        "Functions built into NumPy can be easily called on arrays. Most functions are applied to an array element-wise (as scalar multiplication is). For example, if we call `log()` on an array, the logarithm will be taken of each element."
      ]
    },
    {
      "cell_type": "code",
      "metadata": {
        "colab": {
          "base_uri": "https://localhost:8080/"
        },
        "id": "qO5zP3gEvofD",
        "outputId": "8be2fbcc-6a95-4f45-efd2-f0206c2b161c"
      },
      "source": [
        "print (np.log(returns))"
      ],
      "execution_count": null,
      "outputs": [
        {
          "output_type": "stream",
          "text": [
            "[1.25276297 1.60943791 0.69314718 2.07944154 1.43508453]\n"
          ],
          "name": "stdout"
        }
      ]
    },
    {
      "cell_type": "markdown",
      "metadata": {
        "id": "f7vH8ExIvofD"
      },
      "source": [
        "Some functions return a single value. This is because they treat the array as a collection (similar to a list), performing the designated function. For example, the `mean()` function will do exactly what you expect, calculating the mean of an array."
      ]
    },
    {
      "cell_type": "code",
      "metadata": {
        "colab": {
          "base_uri": "https://localhost:8080/"
        },
        "id": "HdpMCdyrvofE",
        "outputId": "ad78b987-f27d-4ecc-99a5-e00e5583b064"
      },
      "source": [
        "print (np.mean(returns))"
      ],
      "execution_count": null,
      "outputs": [
        {
          "output_type": "stream",
          "text": [
            "4.54\n"
          ],
          "name": "stdout"
        }
      ]
    },
    {
      "cell_type": "markdown",
      "metadata": {
        "id": "wG8SrGU0vofE"
      },
      "source": [
        "Or the `max()` function will return the maximum element of an array."
      ]
    },
    {
      "cell_type": "code",
      "metadata": {
        "colab": {
          "base_uri": "https://localhost:8080/"
        },
        "id": "mvIOUV1SvofE",
        "outputId": "5b01cb6b-f0b5-43b0-e5f0-3de675e99fbe"
      },
      "source": [
        "print (np.max(returns))\n",
        "\n",
        "#dahrojasca Example\n",
        "print ('Ejemplo de David Rojas:', np.min(returns))"
      ],
      "execution_count": null,
      "outputs": [
        {
          "output_type": "stream",
          "text": [
            "8.0\n",
            "Ejemplo de David Rojas: 2.0\n"
          ],
          "name": "stdout"
        }
      ]
    },
    {
      "cell_type": "markdown",
      "metadata": {
        "id": "NNgfGpX4vofE"
      },
      "source": [
        "For further reading on the universal functions in NumPy, check out the [documentation](https://docs.scipy.org/doc/numpy/user/quickstart.html#universal-functions)."
      ]
    },
    {
      "cell_type": "markdown",
      "metadata": {
        "id": "WZaN2DtwvofF"
      },
      "source": [
        "### Return to the returns\n",
        "\n",
        "Now let's modify our returns array with scalar values. If we add a scalar value to an array it will be added to every element of the array. If we multiply an array by a scalar value it will be multiplied against every element of the array. If we do both, both will happen!"
      ]
    },
    {
      "cell_type": "code",
      "metadata": {
        "scrolled": false,
        "colab": {
          "base_uri": "https://localhost:8080/"
        },
        "id": "MpW6KSPKvofF",
        "outputId": "8954cf5b-df24-4e41-9eeb-6a047a9b2d51"
      },
      "source": [
        "returns*2 + 5"
      ],
      "execution_count": null,
      "outputs": [
        {
          "output_type": "execute_result",
          "data": {
            "text/plain": [
              "array([[6.96423571, 6.99542747, 7.02235374, 7.02366322, 7.1599475 ,\n",
              "        7.0693815 , 7.16023746, 7.04032999, 6.97488385, 7.09736281,\n",
              "        6.89623651, 6.97714133, 6.99620579, 7.07634094, 7.041675  ,\n",
              "        7.03090233, 7.06299363, 7.18398112, 6.97626297, 6.93972588,\n",
              "        7.01657764, 7.06211607, 7.08112566, 6.99037978, 7.05628659,\n",
              "        7.00029664, 7.12999162, 6.97774439, 6.97951172, 7.01716944,\n",
              "        7.01101438, 6.94776987, 7.03446042, 7.04940411, 6.94750382,\n",
              "        6.95544971, 6.99097418, 7.00328199, 7.02434228, 7.02626198,\n",
              "        7.05358742, 7.07999008, 6.97924555, 7.03539115, 7.05755829,\n",
              "        6.99735474, 7.09968871, 7.06840833, 6.95436319, 7.01077225,\n",
              "        6.96342791, 7.02519164, 7.11357845, 7.00150341, 6.97930346,\n",
              "        7.10211468, 7.09174601, 7.00124396, 7.08807279, 7.05069024,\n",
              "        7.04561264, 7.03148055, 7.03541158, 6.97879756, 6.91388607,\n",
              "        6.93797149, 6.96701405, 6.98814053, 7.073394  , 7.09856942,\n",
              "        7.05006387, 7.06721172, 6.95852226, 7.02732578, 7.01571333,\n",
              "        6.95676787, 6.99525737, 7.04808399, 6.93895646, 6.88593114,\n",
              "        6.95759062, 7.0362716 , 7.08310148, 7.03492126, 6.93098005,\n",
              "        7.07334097, 7.01118529, 7.14021501, 6.9350872 , 6.95959729,\n",
              "        6.95270809, 6.97152274, 7.03949108, 6.9428907 , 6.99551134,\n",
              "        7.01928598, 7.01588505, 6.99109684, 6.93256745, 6.92848416],\n",
              "       [6.97223853, 6.9683677 , 6.99783189, 6.99691739, 7.17319051,\n",
              "        7.10583031, 7.16760477, 7.0436419 , 7.01126902, 7.10628205,\n",
              "        6.94145603, 7.00592905, 6.98581725, 7.0456155 , 7.05074527,\n",
              "        6.99567328, 7.02178772, 7.22116431, 6.93570511, 6.92283914,\n",
              "        7.00779334, 7.11461514, 7.14537298, 7.04882381, 6.99779669,\n",
              "        6.98114573, 7.04505248, 7.00163965, 7.04720671, 7.00951237,\n",
              "        7.05030034, 6.97397714, 7.01379923, 7.06000257, 6.90667916,\n",
              "        6.94090562, 6.98960864, 6.9644782 , 7.02886612, 7.04606265,\n",
              "        7.04929763, 7.13272086, 6.98889549, 7.03992358, 7.02751749,\n",
              "        7.12910666, 7.13182513, 7.04362321, 6.94546709, 6.99491512,\n",
              "        6.97458085, 7.06534126, 7.10227433, 6.96301929, 7.00640744,\n",
              "        7.09353605, 7.14502298, 7.00947339, 7.10337686, 7.0088061 ,\n",
              "        7.01169909, 6.98534718, 6.97794054, 7.00174372, 6.9233073 ,\n",
              "        6.95451329, 6.90766971, 7.05768275, 7.05379262, 7.1205278 ,\n",
              "        6.98132062, 7.08881723, 6.94411095, 7.03071465, 6.98199585,\n",
              "        6.95002561, 6.96475899, 7.12286155, 6.91771542, 6.88507139,\n",
              "        7.00677396, 7.02135784, 7.058639  , 7.02517251, 6.96123553,\n",
              "        7.04808286, 6.9850852 , 7.04474612, 7.01449015, 7.02083589,\n",
              "        6.96814816, 6.99361472, 7.08497358, 6.96001515, 7.02837489,\n",
              "        7.00185215, 6.99735666, 6.99859641, 6.94393014, 6.91241267],\n",
              "       [6.97760799, 6.96014219, 7.0011141 , 7.04849397, 7.12158998,\n",
              "        7.10166155, 7.1019748 , 7.04044068, 6.86954809, 7.14106648,\n",
              "        6.91109787, 6.97002639, 6.96069395, 7.12162271, 7.00091698,\n",
              "        7.01850923, 7.04003264, 7.22880322, 6.94254825, 7.00068607,\n",
              "        6.96112982, 7.0897538 , 7.00471772, 7.04219352, 7.0656304 ,\n",
              "        6.99805436, 7.11928489, 6.98708794, 7.01867458, 6.98776843,\n",
              "        7.0075418 , 6.9426269 , 6.99714081, 7.05457511, 6.97542145,\n",
              "        6.95896076, 6.93176531, 6.99385785, 7.02302727, 7.02006484,\n",
              "        7.03825309, 7.11582541, 6.95522984, 7.01823305, 7.06254133,\n",
              "        7.03035237, 7.07382173, 7.0493319 , 6.92750605, 7.03269362,\n",
              "        6.9927808 , 7.05421685, 7.17913762, 6.97463239, 6.92906104,\n",
              "        7.11348081, 7.06223232, 6.95176032, 7.07017535, 7.07322576,\n",
              "        7.06294401, 7.0091638 , 6.97763189, 7.02535503, 6.93763613,\n",
              "        6.95419321, 7.00517924, 6.97542103, 7.06277584, 7.12973303,\n",
              "        7.05512977, 7.0446514 , 6.95861462, 6.99081222, 7.03251629,\n",
              "        7.00952961, 6.9804723 , 7.03213736, 6.85533491, 6.90860864,\n",
              "        6.92005614, 7.07557336, 6.97242255, 7.04006814, 6.96211736,\n",
              "        7.11983449, 7.05148656, 7.1566561 , 6.97547598, 7.03724579,\n",
              "        7.03419926, 7.03634942, 7.03749386, 6.9832881 , 6.99603881,\n",
              "        7.050209  , 6.99503566, 7.01335407, 6.90957259, 6.95129416],\n",
              "       [6.9945429 , 7.0178834 , 7.04523002, 7.04848863, 7.19940526,\n",
              "        7.09929223, 7.10994533, 6.971309  , 7.00992815, 7.11846482,\n",
              "        6.94045022, 6.95869502, 6.93873858, 7.00094957, 7.01811214,\n",
              "        7.03135605, 7.04295074, 7.15381752, 6.98500066, 6.96660105,\n",
              "        6.99687677, 7.05107024, 7.05627006, 6.99970043, 7.04614055,\n",
              "        6.96873383, 7.16083911, 6.94128594, 6.93544416, 7.0406181 ,\n",
              "        6.99362976, 6.95919372, 6.97643465, 7.10731051, 6.90969205,\n",
              "        6.95873249, 7.01010433, 6.96940557, 7.02876365, 7.07301359,\n",
              "        7.08249343, 7.06535199, 7.00055694, 7.07396848, 7.09012617,\n",
              "        7.0155356 , 7.06954342, 7.06206366, 6.94816505, 6.9649803 ,\n",
              "        6.92432393, 7.09687704, 7.17497248, 7.01324232, 7.0033077 ,\n",
              "        7.03941741, 7.12650522, 7.01947749, 7.09762942, 6.99573476,\n",
              "        7.04817512, 7.0058699 , 7.09889066, 6.87795223, 6.91323495,\n",
              "        7.04401141, 6.99818025, 7.00718133, 7.11807097, 7.09227082,\n",
              "        7.025153  , 7.08630574, 6.91847006, 6.97674395, 6.9933448 ,\n",
              "        6.91150644, 6.99822705, 7.08906539, 6.95775036, 6.95135698,\n",
              "        6.96248704, 7.00110496, 7.06526147, 7.04770158, 6.94707727,\n",
              "        7.13366262, 6.99392891, 7.15547012, 6.89842263, 6.89069045,\n",
              "        6.96481247, 6.96525159, 7.12747601, 6.95328174, 6.95320912,\n",
              "        7.03631968, 6.99262398, 6.95429953, 6.87553058, 6.91385274],\n",
              "       [6.95139348, 6.93946288, 7.03569971, 7.02779069, 7.17006976,\n",
              "        7.13183416, 7.10724428, 7.06429441, 6.92316617, 7.0878198 ,\n",
              "        6.88631836, 7.07142819, 7.02100206, 7.10434786, 7.04160603,\n",
              "        7.08170728, 7.01553423, 7.18299835, 6.98865935, 6.92518061,\n",
              "        7.09967392, 7.0714709 , 7.06025028, 6.96110972, 6.9885277 ,\n",
              "        7.03175721, 7.07324814, 6.89981543, 6.98965481, 7.00605745,\n",
              "        7.02207098, 7.05183611, 7.01754762, 7.03866602, 6.93249705,\n",
              "        6.97350014, 6.95062161, 7.03167942, 7.05388917, 6.981329  ,\n",
              "        7.07494277, 7.14089317, 7.01796544, 7.08912654, 7.08219045,\n",
              "        6.96665967, 7.12689248, 7.07067747, 6.97927779, 7.00865286,\n",
              "        6.9094568 , 7.060946  , 7.12547922, 6.99813752, 7.04257099,\n",
              "        7.10213392, 7.05750611, 7.0063385 , 7.15095252, 7.03948802,\n",
              "        7.06556594, 6.98384604, 7.09309743, 6.97278805, 6.87107093,\n",
              "        6.90086302, 6.96335558, 7.03321858, 7.09144284, 7.07165637,\n",
              "        7.09134613, 7.05373537, 6.98404989, 6.98450946, 7.01463114,\n",
              "        7.06055345, 7.01996668, 7.02689638, 6.96928029, 6.95089058,\n",
              "        7.01965372, 6.99034615, 7.10080222, 7.05591188, 6.988671  ,\n",
              "        7.09956397, 6.94914106, 7.09682138, 6.88992692, 6.96267649,\n",
              "        6.9243716 , 7.00772033, 6.98127443, 6.96957316, 7.04203388,\n",
              "        7.05483907, 7.07722967, 6.99208769, 6.91317643, 6.9174961 ],\n",
              "       [6.95001622, 6.99326372, 7.08648061, 7.0624769 , 7.11986092,\n",
              "        7.06908596, 7.15716302, 7.02367348, 6.92131392, 7.07119755,\n",
              "        6.84312506, 6.9383998 , 7.02057467, 7.07449029, 7.01080652,\n",
              "        7.08498328, 7.05370489, 7.16117846, 6.94272081, 7.0005743 ,\n",
              "        7.01069787, 7.06785998, 7.09145746, 6.95494399, 7.12292216,\n",
              "        6.97101799, 7.12463931, 6.99637533, 7.08008229, 6.97227619,\n",
              "        7.00405466, 6.98374475, 7.03245114, 7.03559092, 7.00729581,\n",
              "        6.94717917, 7.05827895, 6.96416076, 7.07329724, 6.97767629,\n",
              "        7.05329415, 7.08009123, 7.07378406, 7.04599289, 7.08530063,\n",
              "        7.00601875, 7.09470946, 6.99401604, 6.92664901, 6.98573595,\n",
              "        7.04316137, 7.02142813, 7.12336101, 7.03156637, 6.96314263,\n",
              "        7.05674544, 7.12915816, 6.98437016, 7.08223607, 7.00785327,\n",
              "        7.06398757, 7.06627991, 7.00701472, 6.93774387, 6.89265183,\n",
              "        6.94144058, 6.95546331, 6.97555978, 7.05196781, 7.07331179,\n",
              "        7.06756053, 7.13651235, 6.9110608 , 7.07753457, 7.02431277,\n",
              "        6.94652483, 7.02065762, 7.04378055, 6.97021863, 6.93306308,\n",
              "        6.91518586, 7.02692527, 7.17641454, 7.09855988, 6.90248689,\n",
              "        7.08397827, 6.95695451, 7.19875791, 6.96069978, 7.02841336,\n",
              "        6.97025724, 6.92879067, 7.04798391, 6.88182655, 7.03454616,\n",
              "        7.01810867, 7.0536764 , 6.99706143, 6.99490498, 6.92845069],\n",
              "       [7.02159272, 6.98279824, 7.03145491, 7.07902378, 7.11900758,\n",
              "        7.06960401, 7.18004598, 7.06473946, 6.99309575, 7.08183306,\n",
              "        6.90548013, 6.90555254, 6.97972161, 7.09970041, 6.95090016,\n",
              "        6.9913097 , 7.0367222 , 7.17945671, 6.93985476, 6.91687698,\n",
              "        7.04224883, 7.04810501, 7.03538955, 6.9369888 , 6.96016047,\n",
              "        7.04131752, 7.21761219, 7.02312304, 6.96336067, 6.98948148,\n",
              "        7.07194681, 6.92137899, 7.05469015, 7.05217593, 7.0458055 ,\n",
              "        6.92177449, 6.97300944, 7.03013504, 7.03383477, 7.05865571,\n",
              "        7.07489096, 7.08628129, 6.96216591, 7.01105016, 7.15056016,\n",
              "        7.00813035, 7.09540083, 6.97766305, 6.97923769, 6.90967244,\n",
              "        6.92719274, 7.00519929, 7.14523268, 7.04256091, 6.99180874,\n",
              "        7.16913728, 7.04815676, 6.93056657, 7.08653261, 7.07266143,\n",
              "        7.09026211, 7.02074999, 7.01699365, 6.93060616, 6.91226721,\n",
              "        6.90943948, 6.88806174, 6.94640731, 7.07532127, 7.08658369,\n",
              "        7.07220032, 7.02573688, 6.95883362, 7.04489474, 6.97666416,\n",
              "        6.93092183, 7.01453601, 6.97409995, 6.90400211, 6.91798135,\n",
              "        6.99952165, 7.04890817, 7.0694728 , 6.98145495, 6.93677572,\n",
              "        7.18221062, 6.98269069, 7.14052794, 6.85497113, 6.94535825,\n",
              "        7.03678477, 7.0577947 , 7.04079271, 7.00422336, 6.90597186,\n",
              "        7.00407021, 7.01036022, 6.97076337, 7.02562002, 6.94427578],\n",
              "       [6.9512746 , 7.00357514, 7.07012918, 7.04989741, 7.16164609,\n",
              "        7.00915979, 7.15173295, 7.02138349, 6.94189593, 7.14057347,\n",
              "        6.93973824, 6.9503487 , 7.011814  , 7.08570977, 7.03814371,\n",
              "        7.00358009, 7.00569932, 7.18639975, 6.95439656, 6.90529367,\n",
              "        6.96632169, 7.09341794, 7.08355853, 6.94040646, 7.018492  ,\n",
              "        6.98747633, 7.14231233, 6.97486252, 6.98905391, 7.02702853,\n",
              "        7.0908872 , 6.97981899, 7.08829339, 7.07233308, 6.96862319,\n",
              "        6.94044039, 6.99004593, 7.05819325, 7.02060201, 7.06224603,\n",
              "        7.03767098, 7.10041321, 6.99239211, 7.05842037, 7.03830862,\n",
              "        7.03689653, 7.13576577, 7.03935534, 6.9436063 , 7.10565127,\n",
              "        6.91422128, 7.06601611, 7.08908734, 7.07646831, 6.90401301,\n",
              "        7.15553142, 7.02874671, 7.01352464, 7.04159301, 7.00468418,\n",
              "        7.08372273, 6.9487555 , 7.0433118 , 6.90211862, 6.91523482,\n",
              "        6.97881347, 6.96585987, 6.91577851, 7.04902494, 7.15720179,\n",
              "        7.05437353, 7.02038378, 6.95550854, 6.98176087, 7.06437584,\n",
              "        7.00420015, 6.98358003, 7.10297764, 6.97402065, 6.91039145,\n",
              "        6.93751701, 7.04803424, 7.0679523 , 6.97482256, 6.8592176 ,\n",
              "        7.1493556 , 7.08685192, 7.1188331 , 6.94326738, 7.01599619,\n",
              "        6.99393562, 6.94341702, 7.02428072, 6.9706218 , 7.00735012,\n",
              "        7.06208902, 7.01917596, 6.90165079, 6.91683411, 6.90370392],\n",
              "       [6.98252389, 6.9707793 , 6.97124364, 7.01462689, 7.22952623,\n",
              "        7.04932275, 7.18013588, 7.04818522, 6.96862266, 7.09942666,\n",
              "        6.91156612, 7.02417923, 6.99502769, 7.0553494 , 7.06450457,\n",
              "        7.12115383, 7.02642824, 7.2613629 , 7.0249469 , 6.87217646,\n",
              "        7.09665998, 7.0781222 , 7.10781218, 6.99064824, 7.08513922,\n",
              "        6.97932987, 7.18542008, 6.98262609, 6.91836043, 6.97470139,\n",
              "        7.0282692 , 6.99069905, 7.05550722, 7.01530372, 6.93000143,\n",
              "        6.96586582, 7.01126087, 7.05570919, 6.99301547, 6.98463172,\n",
              "        7.08214095, 7.05180539, 6.97990089, 7.02868823, 6.99985819,\n",
              "        6.92595109, 7.09920309, 7.00147848, 7.00166152, 7.01899715,\n",
              "        6.95181775, 7.02534787, 7.20903361, 7.08040643, 6.99463662,\n",
              "        7.1052788 , 7.103944  , 7.059091  , 7.15558146, 7.03169465,\n",
              "        7.05844782, 7.09675761, 7.07151433, 6.9754546 , 7.00344908,\n",
              "        6.95511241, 6.88274372, 7.01337124, 7.06431181, 7.13701664,\n",
              "        7.04609844, 7.07827925, 6.90967117, 7.07326158, 7.00643848,\n",
              "        6.96945298, 6.99635234, 7.11967379, 7.03016174, 6.94070791,\n",
              "        6.98182868, 7.05160727, 7.10962296, 6.99812897, 6.9738667 ,\n",
              "        7.05826661, 6.98780661, 7.09329308, 6.95351061, 6.93543037,\n",
              "        6.98501083, 6.92978355, 7.04815111, 6.89010985, 7.01090731,\n",
              "        7.02493384, 7.06952403, 6.98889992, 6.90320657, 6.92186012],\n",
              "       [6.99787627, 6.97531061, 7.04597337, 7.01344293, 7.15622436,\n",
              "        7.1429031 , 7.17199305, 6.95355532, 6.94183981, 7.09636185,\n",
              "        6.89673179, 6.96585954, 6.9545766 , 7.01719732, 7.03729815,\n",
              "        6.99365258, 7.0074417 , 7.21570401, 6.99031357, 7.02151918,\n",
              "        7.01064747, 7.03116052, 7.00593044, 6.98881797, 6.99351452,\n",
              "        6.86240618, 7.20637603, 6.96896328, 6.99399681, 7.02430501,\n",
              "        6.96632087, 6.91622197, 7.07823387, 6.96139843, 6.96208441,\n",
              "        6.95498661, 6.9888221 , 7.02454443, 7.021757  , 7.01264638,\n",
              "        7.08074431, 7.12893794, 6.95497132, 7.01609785, 7.0684257 ,\n",
              "        6.99528049, 7.12233152, 7.09961806, 6.949912  , 7.03122609,\n",
              "        6.99246075, 7.06794401, 7.10725562, 7.03360092, 7.04778843,\n",
              "        7.11406465, 7.08954509, 6.98626677, 7.16036276, 7.09094338,\n",
              "        7.07563463, 7.00159712, 7.04451718, 6.90276123, 6.99204262,\n",
              "        6.94314821, 6.91535505, 7.01646974, 7.1469422 , 7.10148421,\n",
              "        7.00573452, 7.02054147, 7.0294865 , 7.00946405, 7.04498149,\n",
              "        6.92958024, 6.9735526 , 7.01617991, 6.93214182, 6.92347927,\n",
              "        6.97944128, 7.03623853, 7.04793006, 6.98501956, 6.95170279,\n",
              "        7.08160618, 7.02993716, 7.14767259, 6.92096939, 6.90404837,\n",
              "        6.90779279, 6.95350917, 7.03497246, 6.8642936 , 6.99610827,\n",
              "        7.05068893, 7.02872768, 7.08285473, 6.91192282, 6.84643393]])"
            ]
          },
          "metadata": {
            "tags": []
          },
          "execution_count": 39
        }
      ]
    },
    {
      "cell_type": "markdown",
      "metadata": {
        "id": "3Yqfw3SjvofF"
      },
      "source": [
        "NumPy also has functions specifically built to operate on arrays. Let's take the mean and standard deviation of this group of returns."
      ]
    },
    {
      "cell_type": "code",
      "metadata": {
        "colab": {
          "base_uri": "https://localhost:8080/"
        },
        "id": "CRbyalJ4vofF",
        "outputId": "18224c0e-7369-4f95-d5de-9e3ec75e6e18"
      },
      "source": [
        "print (\"Mean:\", np.mean(returns), '//', \"Std Dev: \", np.std(returns))"
      ],
      "execution_count": null,
      "outputs": [
        {
          "output_type": "stream",
          "text": [
            "Mean: 4.54 // Std Dev:  1.9915822855207364\n"
          ],
          "name": "stdout"
        }
      ]
    },
    {
      "cell_type": "markdown",
      "metadata": {
        "id": "HXpEdOIZvofG"
      },
      "source": [
        "Let's simulate a universe of stocks using NumPy's functions. First we need to create the arrays to hold the assets and returns that we will use to build a portfolio. This is because arrays are created with a fixed size. Their dimensions can't be changed without creating a new array."
      ]
    },
    {
      "cell_type": "code",
      "metadata": {
        "collapsed": true,
        "id": "jvF7bz54vofG"
      },
      "source": [
        "N = 10\n",
        "assets = np.zeros((N, 100))\n",
        "returns = np.zeros((N, 100))"
      ],
      "execution_count": 39,
      "outputs": []
    },
    {
      "cell_type": "code",
      "metadata": {
        "id": "QNT1DAlk-bR2"
      },
      "source": [
        "# dahrojasca example\n",
        "M = 5\n",
        "returns_2 = np.zeros((M, 20))\n",
        "assets_2 = np.zeros((M, 20))"
      ],
      "execution_count": 79,
      "outputs": []
    },
    {
      "cell_type": "markdown",
      "metadata": {
        "id": "OOxW7GwPvofG"
      },
      "source": [
        "This function, `zeroes()`, creates a NumPy array with the given dimensions that is entirely filled in with $0$. We can pass a single value or a tuple of as many dimensions as we like. Passing in the tuple `(N, 100)`, will return a two-dimensional array with $N$ rows and $100$ columns. Our result is a $N \\times 100$ array.\n",
        "\n",
        "Now we will simulate a base asset. We want the universe of stocks to be correlated with each other so we will use this initial value to generate the others."
      ]
    },
    {
      "cell_type": "code",
      "metadata": {
        "id": "_GFhb4EavofG"
      },
      "source": [
        "R_1 = np.random.normal(1.01, 0.03, 100)\n",
        "returns[0] = R_1\n",
        "assets[0] = np.cumprod(R_1)"
      ],
      "execution_count": 41,
      "outputs": []
    },
    {
      "cell_type": "code",
      "metadata": {
        "id": "1M6zY0VVJssy"
      },
      "source": [
        "# dahrojasca Example\n",
        "R_2 = np.random.normal(0.5, 0.09, 20)\n",
        "returns_2[0] = R_2\n",
        "assets_2[0] = np.cumprod(R_2)"
      ],
      "execution_count": 80,
      "outputs": []
    },
    {
      "cell_type": "markdown",
      "metadata": {
        "id": "K9jiYyNnvofG"
      },
      "source": [
        "The `random` module in NumPy is exceedingly useful. It contains methods for sampling from many different probability distributions, some of which are covered in the [random variables lecture](https://www.quantopian.com/lectures/random-variables) in the Quantopian lecture series. In this case we draw $N = 100$ random samples from a normal distribution with mean $1.01$ and standard deviation $0.03$. We treat these as the daily percentage returns of our asset and take the cumulative product of these samples to get the current price.\n",
        "\n",
        "The way we have generated our universe, the the individual $R_i$ vectors are each 1-dimensional arrays and the `returns` and `assets` variables contain 2-dimensional arrays. Above, we set the initial row of both `returns` and `assets` to be the first $R_i$ vector and the cumulative asset price based on those returns, respectively.\n",
        "\n",
        "We will now use this base asset to create a few other random assets that are correlated with it."
      ]
    },
    {
      "cell_type": "code",
      "metadata": {
        "id": "puwFZBVfvofH"
      },
      "source": [
        "# Generate assets that are correlated with R_1\n",
        "for i in range(1, N):\n",
        "    R_i = R_1 + np.random.normal(1.01, 0.03, 100)\n",
        "    returns[i] = R_i # Set each row of returns equal to the new R_i array\n",
        "    assets[i] = np.cumprod(R_i)\n",
        "    \n",
        "mean_returns = [(np.mean(R) - 1)*100 for R in returns]\n",
        "return_volatilities = [np.std(R) for R in returns]"
      ],
      "execution_count": 82,
      "outputs": []
    },
    {
      "cell_type": "code",
      "metadata": {
        "id": "mC5V6jLfI_rZ"
      },
      "source": [
        "# dahrojasca Example\n",
        "# Generate assets that are correlated with R_1\n",
        "for i in range(1, M):\n",
        "    R_i = R_2 + np.random.normal(0.5, 0.09, 20)\n",
        "    returns_2[i] = R_i # Set each row of returns equal to the new R_i array\n",
        "    assets_2[i] = np.cumprod(R_i)\n",
        "    \n",
        "mean_returns_2 = [(np.mean(R) - 1)*100 for R in returns_2]\n",
        "return_volatilities_2 = [np.std(R) for R in returns_2]"
      ],
      "execution_count": 83,
      "outputs": []
    },
    {
      "cell_type": "markdown",
      "metadata": {
        "id": "Ku5VazShvofH"
      },
      "source": [
        "Here we generate the remaining $N - 1$ securities that we want in our universe by adding random noise to $R_1$. This ensures that our $N - 1$ other assets will be correlated with the base asset because they have some underlying information that is shared.\n",
        "\n",
        "Let's plot what the mean return of each asset looks like:"
      ]
    },
    {
      "cell_type": "code",
      "metadata": {
        "scrolled": false,
        "colab": {
          "base_uri": "https://localhost:8080/",
          "height": 295
        },
        "id": "zhJze5P1vofH",
        "outputId": "fa9ba7b8-d2bd-4270-9a57-bba72ab05938"
      },
      "source": [
        "plt.bar(np.arange(len(mean_returns)), mean_returns)\n",
        "plt.xlabel('Stock')\n",
        "plt.ylabel('Returns')\n",
        "plt.title('Returns for {0} Random Assets'.format(N));"
      ],
      "execution_count": 43,
      "outputs": [
        {
          "output_type": "display_data",
          "data": {
            "image/png": "[encoded data removed]",
            "text/plain": [
              "<Figure size 432x288 with 1 Axes>"
            ]
          },
          "metadata": {
            "tags": [],
            "needs_background": "light"
          }
        }
      ]
    },
    {
      "cell_type": "code",
      "metadata": {
        "colab": {
          "base_uri": "https://localhost:8080/",
          "height": 295
        },
        "id": "mFp1aNHqFOHa",
        "outputId": "94a5e456-2d42-42cc-cabb-82e2b263a3fa"
      },
      "source": [
        "# dahrojasca Example\n",
        "\n",
        "plt.bar(np.arange(len(mean_returns_2)), mean_returns_2)\n",
        "plt.xlabel('Stock')\n",
        "plt.ylabel('Returns')\n",
        "plt.title('Returns for {0} Random Assets'.format(M));"
      ],
      "execution_count": 84,
      "outputs": [
        {
          "output_type": "display_data",
          "data": {
            "image/png": "[encoded data removed]",
            "text/plain": [
              "<Figure size 432x288 with 1 Axes>"
            ]
          },
          "metadata": {
            "tags": [],
            "needs_background": "light"
          }
        }
      ]
    },
    {
      "cell_type": "markdown",
      "metadata": {
        "id": "BrSWqMo1vofH"
      },
      "source": [
        "### Calculating Expected Return\n",
        "\n",
        "So we have a universe of stocks. Great! Now let's put them together in a portfolio and calculate its expected return and risk.\n",
        "\n",
        "We will start off by generating $N$ random weights for each asset in our portfolio."
      ]
    },
    {
      "cell_type": "code",
      "metadata": {
        "id": "1toR93QTvofI"
      },
      "source": [
        "weights = np.random.uniform(0, 1, N)\n",
        "weights = weights/np.sum(weights)"
      ],
      "execution_count": 44,
      "outputs": []
    },
    {
      "cell_type": "code",
      "metadata": {
        "id": "NXKPku53NOxH"
      },
      "source": [
        "# dahrojasca Example\n",
        "weights_2 = np.random.uniform(0, 1, M)\n",
        "weights_2 = weights_2/np.sum(weights_2)"
      ],
      "execution_count": 94,
      "outputs": []
    },
    {
      "cell_type": "markdown",
      "metadata": {
        "id": "1JhShX2evofI"
      },
      "source": [
        "We have to rescale the weights so that they all add up to $1$. We do this by scaling the weights vector by the sum total of all the weights. This step ensures that we will be using $100\\%$ of the portfolio's cash.\n",
        "\n",
        "To calculate the mean return of the portfolio, we have to scale each asset's return by its designated weight. We can pull each element of each array and multiply them individually, but it's quicker to use NumPy's linear algebra methods. The function that we want is `dot()`. This will calculate the dot product between two arrays for us. So if $v = \\left[ 1, 2, 3 \\right]$ and $w = \\left[4, 5, 6 \\right]$, then:\n",
        "\n",
        "$$ v \\cdot w = 1 \\times 4 + 2 \\times 5 + 3 \\times 6 $$\n",
        "\n",
        "For a one-dimensional vector, the dot product will multiply each element pointwise and add all the products together! In our case, we have a vector of weights, $\\omega = \\left[ \\omega_1, \\omega_2, \\dots \\omega_N\\right]$ and a vector of returns, $\\mu = \\left[ \\mu_1, \\mu_2, \\dots, \\mu_N\\right]$. If we take the dot product of these two we will get:\n",
        "\n",
        "$$ \\omega \\cdot \\mu = \\omega_1\\mu_1 + \\omega_2\\mu_2 + \\dots + \\omega_N\\mu_N = \\mu_P $$\n",
        "\n",
        "This yields the sum of all the asset returns scaled by their respective weights. This the the portfolio's overall expected return!"
      ]
    },
    {
      "cell_type": "code",
      "metadata": {
        "id": "aBfFb3rsvofI",
        "colab": {
          "base_uri": "https://localhost:8080/"
        },
        "outputId": "2738f5cd-5532-42a6-a7d9-84c403f09a1c"
      },
      "source": [
        "p_returns = np.dot(weights, mean_returns)\n",
        "print (\"Expected return of the portfolio: \", p_returns)"
      ],
      "execution_count": 45,
      "outputs": [
        {
          "output_type": "stream",
          "text": [
            "Expected return of the portfolio:  1.2477805277644904\n"
          ],
          "name": "stdout"
        }
      ]
    },
    {
      "cell_type": "code",
      "metadata": {
        "colab": {
          "base_uri": "https://localhost:8080/"
        },
        "id": "T7maMXyLNa7T",
        "outputId": "2f6ca156-27ef-485a-df10-3644beac02a7"
      },
      "source": [
        "# dahrojasca Example\n",
        "p_returns_2 = np.dot(weights_2, mean_returns_2)\n",
        "print (\"Expected return of the portfolio: \", p_returns_2)"
      ],
      "execution_count": 96,
      "outputs": [
        {
          "output_type": "stream",
          "text": [
            "Expected return of the portfolio:  -10.508819100087727\n"
          ],
          "name": "stdout"
        }
      ]
    },
    {
      "cell_type": "markdown",
      "metadata": {
        "id": "GLdj0gOLvofI"
      },
      "source": [
        "Calculating the mean return is fairly intuitive and does not require too much explanation of linear algebra. However, calculating the variance of our portfolio requires a bit more background."
      ]
    },
    {
      "cell_type": "markdown",
      "metadata": {
        "id": "8B4PyLIZvofJ"
      },
      "source": [
        "#### Beware of NaN values\n",
        "\n",
        "Most of the time, all of these calculations will work without an issue. However, when working with real data we run the risk of having `nan` values in our arrays. This is NumPy's way of saying that the data there is missing or doesn't exist. These `nan` values can lead to errors in mathematical calculations so it is important to be aware of whether your array contains `nan` values and to know how to drop them."
      ]
    },
    {
      "cell_type": "code",
      "metadata": {
        "id": "kZ-QmoScvofJ",
        "colab": {
          "base_uri": "https://localhost:8080/"
        },
        "outputId": "3b4e51be-1fbc-40a7-8592-89269398cb67"
      },
      "source": [
        "v = np.array([1, 2, np.nan, 4, 5])\n",
        "print (v)"
      ],
      "execution_count": 46,
      "outputs": [
        {
          "output_type": "stream",
          "text": [
            "[ 1.  2. nan  4.  5.]\n"
          ],
          "name": "stdout"
        }
      ]
    },
    {
      "cell_type": "code",
      "metadata": {
        "colab": {
          "base_uri": "https://localhost:8080/"
        },
        "id": "JpT-lijmFdZf",
        "outputId": "ad1ea3d9-c1cb-4a46-a180-e7d3b8add9ce"
      },
      "source": [
        "# dahrojasca Example\n",
        "x = np.array([12, np.nan,9, 3, 5, 10, 14, 16, 4, 6, np.nan, 11])\n",
        "print (x)"
      ],
      "execution_count": 55,
      "outputs": [
        {
          "output_type": "stream",
          "text": [
            "[12. nan  9.  3.  5. 10. 14. 16.  4.  6. nan 11.]\n"
          ],
          "name": "stdout"
        }
      ]
    },
    {
      "cell_type": "markdown",
      "metadata": {
        "id": "1uICQPZUvofK"
      },
      "source": [
        "Let's see what happens when we try to take the mean of this array."
      ]
    },
    {
      "cell_type": "code",
      "metadata": {
        "id": "ZYtTjkCCvofK",
        "colab": {
          "base_uri": "https://localhost:8080/"
        },
        "outputId": "94c95a5d-8a53-40df-d3a7-1805c484c7e5"
      },
      "source": [
        "print (np.mean(v))"
      ],
      "execution_count": 47,
      "outputs": [
        {
          "output_type": "stream",
          "text": [
            "nan\n"
          ],
          "name": "stdout"
        }
      ]
    },
    {
      "cell_type": "code",
      "metadata": {
        "colab": {
          "base_uri": "https://localhost:8080/"
        },
        "id": "louNORERFt5h",
        "outputId": "521f4ce3-9b13-4496-9cd7-6d689ebfaca1"
      },
      "source": [
        "# dahrojasca Example\n",
        "print (np.mean(x))"
      ],
      "execution_count": 56,
      "outputs": [
        {
          "output_type": "stream",
          "text": [
            "nan\n"
          ],
          "name": "stdout"
        }
      ]
    },
    {
      "cell_type": "markdown",
      "metadata": {
        "id": "iaijnt3jvofK"
      },
      "source": [
        "Clearly, `nan` values can have a large impact on our calculations. Fortunately, we can check for `nan` values with the `isnan()` function."
      ]
    },
    {
      "cell_type": "code",
      "metadata": {
        "id": "1ltYsTAQvofK",
        "colab": {
          "base_uri": "https://localhost:8080/"
        },
        "outputId": "b5ecf524-ca45-4793-ebfb-ae833cd835de"
      },
      "source": [
        "np.isnan(v)"
      ],
      "execution_count": 48,
      "outputs": [
        {
          "output_type": "execute_result",
          "data": {
            "text/plain": [
              "array([False, False,  True, False, False])"
            ]
          },
          "metadata": {
            "tags": []
          },
          "execution_count": 48
        }
      ]
    },
    {
      "cell_type": "code",
      "metadata": {
        "colab": {
          "base_uri": "https://localhost:8080/"
        },
        "id": "jRdBlABQF21y",
        "outputId": "20409834-37ef-4643-bbb7-541d4061d244"
      },
      "source": [
        "# dahrojasca Example\n",
        "np.isnan(x)"
      ],
      "execution_count": 57,
      "outputs": [
        {
          "output_type": "execute_result",
          "data": {
            "text/plain": [
              "array([False,  True, False, False, False, False, False, False, False,\n",
              "       False,  True, False])"
            ]
          },
          "metadata": {
            "tags": []
          },
          "execution_count": 57
        }
      ]
    },
    {
      "cell_type": "markdown",
      "metadata": {
        "id": "otSzbdcqvofL"
      },
      "source": [
        "Calling `isnan()` on an array will call the function on each value of the array, returning a value of `True` if the element is `nan` and `False` if the element is valid. Now, knowing whether your array contains `nan` values is all well and good, but how do we remove `nan`s? Handily enough, NumPy arrays can be indexed by boolean values (`True` or `False`). If we use a boolean array to index an array, we will remove all values of the array that register as `False` under the condition. We use the `isnan()` function in create a boolean array, assigning a `True` value to everything that is *not* `nan` and a `False` to the `nan`s and we use that to index the same array."
      ]
    },
    {
      "cell_type": "code",
      "metadata": {
        "id": "4Fvo7vBZvofL",
        "colab": {
          "base_uri": "https://localhost:8080/"
        },
        "outputId": "f0429c0d-46b5-4202-b529-008f70c33e07"
      },
      "source": [
        "ix = ~np.isnan(v) # the ~ indicates a logical not, inverting the bools\n",
        "print (v[ix]) # We can also just write v = v[~np.isnan(v)]"
      ],
      "execution_count": 49,
      "outputs": [
        {
          "output_type": "stream",
          "text": [
            "[1. 2. 4. 5.]\n"
          ],
          "name": "stdout"
        }
      ]
    },
    {
      "cell_type": "code",
      "metadata": {
        "colab": {
          "base_uri": "https://localhost:8080/"
        },
        "id": "CLnwqN_mGA6t",
        "outputId": "eaa286c6-7f8f-4d70-bd19-f4fcc1ebbe0c"
      },
      "source": [
        "# dahrojasca Example\n",
        "isn = ~np.isnan(x)\n",
        "print (x[isn])"
      ],
      "execution_count": 58,
      "outputs": [
        {
          "output_type": "stream",
          "text": [
            "[12.  9.  3.  5. 10. 14. 16.  4.  6. 11.]\n"
          ],
          "name": "stdout"
        }
      ]
    },
    {
      "cell_type": "code",
      "metadata": {
        "id": "2RHcfKvtvofL",
        "colab": {
          "base_uri": "https://localhost:8080/"
        },
        "outputId": "9e65086b-7580-48d2-ce99-819a033b77e7"
      },
      "source": [
        "print (np.mean(v[ix]))"
      ],
      "execution_count": 60,
      "outputs": [
        {
          "output_type": "stream",
          "text": [
            "3.0\n"
          ],
          "name": "stdout"
        }
      ]
    },
    {
      "cell_type": "code",
      "metadata": {
        "colab": {
          "base_uri": "https://localhost:8080/"
        },
        "id": "KPL2Y5WEGNX4",
        "outputId": "69ad6820-ae3c-441a-e073-f5c31a84845f"
      },
      "source": [
        "# dahrojasca Example\n",
        "print (np.mean(x[isn]))"
      ],
      "execution_count": 59,
      "outputs": [
        {
          "output_type": "stream",
          "text": [
            "9.0\n"
          ],
          "name": "stdout"
        }
      ]
    },
    {
      "cell_type": "markdown",
      "metadata": {
        "id": "f9d4eHSXvofL"
      },
      "source": [
        "There are a few shortcuts to this process in the form of NumPy functions specifically built to handle them, such as `nanmean()`."
      ]
    },
    {
      "cell_type": "code",
      "metadata": {
        "id": "WYIV-BenvofL",
        "colab": {
          "base_uri": "https://localhost:8080/"
        },
        "outputId": "0626f240-17d8-48c8-a747-afa37d5c6876"
      },
      "source": [
        "print (np.nanmean(v))"
      ],
      "execution_count": 50,
      "outputs": [
        {
          "output_type": "stream",
          "text": [
            "3.0\n"
          ],
          "name": "stdout"
        }
      ]
    },
    {
      "cell_type": "code",
      "metadata": {
        "colab": {
          "base_uri": "https://localhost:8080/"
        },
        "id": "GLJEnxPWGUGW",
        "outputId": "1275cff4-e74d-4b8d-952f-773726375f45"
      },
      "source": [
        "print (np.nanmean(x))"
      ],
      "execution_count": 61,
      "outputs": [
        {
          "output_type": "stream",
          "text": [
            "9.0\n"
          ],
          "name": "stdout"
        }
      ]
    },
    {
      "cell_type": "markdown",
      "metadata": {
        "id": "lMhl4qhXvofM"
      },
      "source": [
        "The `nanmean()` function simply calculates the mean of the array as if there were no `nan` values at all! There are a few more of these functions, so feel free to read more about them in the [documentation](https://docs.scipy.org/doc/numpy/user/index.html). These indeterminate values are more an issue with data than linear algebra itself so it is helpful that there are ways to handle them."
      ]
    },
    {
      "cell_type": "markdown",
      "metadata": {
        "id": "h5zE9ymSvofM"
      },
      "source": [
        "### Conclusion\n",
        "\n",
        "Linear algebra is pervasive in finance and in general. For example, the calculation of *optimal* weights according to modern portfolio theory is done using linear algebra techniques. The arrays and functions in NumPy allow us to handle these calculations in an intuitive way. For a quick intro to linear algebra and how to use NumPy to do more significant matrix calculations, proceed to the next section."
      ]
    },
    {
      "cell_type": "markdown",
      "metadata": {
        "id": "C03g9qJRvofM"
      },
      "source": [
        "## A brief foray into linear algebra\n",
        "\n",
        "Let's start with a basic overview of some linear algebra. Linear algebra comes down to the multiplication and composition of scalar and matrix values. A scalar value is just a real number that we multiply against an array. When we scale a matrix or array using a scalar, we multiply each individual element of that matrix or array by the scalar.\n",
        "\n",
        "A matrix is a collection of values, typically represented by an $m \\times n$ grid, where $m$ is the number of rows and $n$ is the number of columns. The edge lengths $m$ and $n$ do not necessarily have to be different. If we have $m = n$, we call this a square matrix. A particularly interesting case of a matrix is when $m = 1$ or $n = 1$. In this case we have a special case of a matrix that we call a vector. While there is a matrix object in NumPy we will be doing everything using NumPy arrays because they can have dimensions greater than $2$. For the purpose of this section, we will be using matrix and array interchangeably.\n",
        "\n",
        "We can express the matrix equation as:\n",
        "\n",
        "$$ y = A\\cdot x $$\n",
        "\n",
        "Where $A$ is an $m \\times n$ matrix, $y$ is a $m \\times 1$ vector, and $x$ is a $n \\times 1$ vector. On the right-hand side of the equation we are multiplying a matrix by a vector. This requires a little bit more clarification, lest we think that we can go about multiplying any matrices by any other matrices.\n",
        "\n",
        "#### Matrix multiplication\n",
        "\n",
        "With matrix multiplication, the order in which the matrices are multiplied matters. Multiplying a matrix on the left side by another matrix may be just fine, but multiplying on the right may be undefined."
      ]
    },
    {
      "cell_type": "code",
      "metadata": {
        "collapsed": true,
        "id": "ef3Z24IvvofM"
      },
      "source": [
        "A = np.array([\n",
        "        [1, 2, 3, 12, 6],\n",
        "        [4, 5, 6, 15, 20],\n",
        "        [7, 8, 9, 10, 10]        \n",
        "    ])\n",
        "B = np.array([\n",
        "        [4, 4, 2],\n",
        "        [2, 3, 1],\n",
        "        [6, 5, 8],\n",
        "        [9, 9, 9]\n",
        "    ])"
      ],
      "execution_count": 65,
      "outputs": []
    },
    {
      "cell_type": "code",
      "metadata": {
        "colab": {
          "base_uri": "https://localhost:8080/"
        },
        "id": "-RnzawY6Gu-c",
        "outputId": "f431e01e-7bba-45a7-d1ec-2ba297d4399e"
      },
      "source": [
        "# dahrojasca Example\n",
        "# C es 3 X 4\n",
        "# D es 4 X 3\n",
        "C = np.array([\n",
        "        [3, 1, 6, 9],\n",
        "        [1, 4, 4, 0],\n",
        "        [8, 2, 6 ,8, 7]        \n",
        "    ])\n",
        "D = np.array([\n",
        "        [2, 0, 1],\n",
        "        [4, 5, 1],\n",
        "        [5, 3, 8],\n",
        "        [2, 7, 1]\n",
        "    ])"
      ],
      "execution_count": 71,
      "outputs": [
        {
          "output_type": "stream",
          "text": [
            "/usr/local/lib/python3.7/dist-packages/ipykernel_launcher.py:7: VisibleDeprecationWarning: Creating an ndarray from ragged nested sequences (which is a list-or-tuple of lists-or-tuples-or ndarrays with different lengths or shapes) is deprecated. If you meant to do this, you must specify 'dtype=object' when creating the ndarray\n",
            "  import sys\n"
          ],
          "name": "stderr"
        }
      ]
    },
    {
      "cell_type": "markdown",
      "metadata": {
        "id": "jQDd6g2tvofM"
      },
      "source": [
        "Notice that the above-defined matrices, $A$ and $B$, have different dimensions. $A$ is $3 \\times 5$ and $B$ is $4 \\times 3$. The general rule of what can and cannot be multiplied in which order is based on the dimensions of the matrices. Specifically, the number of columns in the matrix on the left must be equal to the number of rows in the matrix on the right. In super informal terms, let's say that we have an $m \\times n$ matrix and a $p \\times q$ matrix. If we multiply the first by the second on the right, we get the following:\n",
        "\n",
        "$$ (m \\times n) \\cdot (p \\times q) = (m \\times q) $$\n",
        "\n",
        "So the resultant product has the same number of rows as the left matrix and the same number of columns as the right matrix. This limitation of matrix multiplication with regards to dimensions is important to keep track of when writing code. To demonstrate this, we use the `dot()` function to multiply our matrices below:"
      ]
    },
    {
      "cell_type": "code",
      "metadata": {
        "id": "cXmI9uASvofN",
        "colab": {
          "base_uri": "https://localhost:8080/",
          "height": 213
        },
        "outputId": "f9822dcd-8718-49a8-8649-d88ef9be9c97"
      },
      "source": [
        "#Wrong code\n",
        "print (np.dot(A, B))"
      ],
      "execution_count": 72,
      "outputs": [
        {
          "output_type": "error",
          "ename": "ValueError",
          "evalue": "ignored",
          "traceback": [
            "\u001b[0;31m---------------------------------------------------------------------------\u001b[0m",
            "\u001b[0;31mValueError\u001b[0m                                Traceback (most recent call last)",
            "\u001b[0;32m<ipython-input-72-39086c8c885f>\u001b[0m in \u001b[0;36m<module>\u001b[0;34m()\u001b[0m\n\u001b[0;32m----> 1\u001b[0;31m \u001b[0mprint\u001b[0m \u001b[0;34m(\u001b[0m\u001b[0mnp\u001b[0m\u001b[0;34m.\u001b[0m\u001b[0mdot\u001b[0m\u001b[0;34m(\u001b[0m\u001b[0mA\u001b[0m\u001b[0;34m,\u001b[0m \u001b[0mB\u001b[0m\u001b[0;34m)\u001b[0m\u001b[0;34m)\u001b[0m\u001b[0;34m\u001b[0m\u001b[0;34m\u001b[0m\u001b[0m\n\u001b[0m",
            "\u001b[0;32m<__array_function__ internals>\u001b[0m in \u001b[0;36mdot\u001b[0;34m(*args, **kwargs)\u001b[0m\n",
            "\u001b[0;31mValueError\u001b[0m: shapes (3,5) and (4,3) not aligned: 5 (dim 1) != 4 (dim 0)"
          ]
        }
      ]
    },
    {
      "cell_type": "code",
      "metadata": {
        "colab": {
          "base_uri": "https://localhost:8080/"
        },
        "id": "G1vFirfwH77n",
        "outputId": "e3da9791-3d19-4830-a680-38d5c4ef66ad"
      },
      "source": [
        "# Fixed code\n",
        "print (np.dot(B, A))"
      ],
      "execution_count": 73,
      "outputs": [
        {
          "output_type": "stream",
          "text": [
            "[[ 34  44  54 128 124]\n",
            " [ 21  27  33  79  82]\n",
            " [ 82 101 120 227 216]\n",
            " [108 135 162 333 324]]\n"
          ],
          "name": "stdout"
        }
      ]
    },
    {
      "cell_type": "code",
      "metadata": {
        "colab": {
          "base_uri": "https://localhost:8080/"
        },
        "id": "sLnXPJPuHrNZ",
        "outputId": "53d2ac0b-9800-4500-ea57-2656f11b0aec"
      },
      "source": [
        "# dahrojasca Example\n",
        "print (np.dot(D, C))"
      ],
      "execution_count": 74,
      "outputs": [
        {
          "output_type": "stream",
          "text": [
            "[list([3, 1, 6, 9, 3, 1, 6, 9, 8, 2, 6, 8, 7])\n",
            " list([3, 1, 6, 9, 3, 1, 6, 9, 3, 1, 6, 9, 3, 1, 6, 9, 1, 4, 4, 0, 1, 4, 4, 0, 1, 4, 4, 0, 1, 4, 4, 0, 1, 4, 4, 0, 8, 2, 6, 8, 7])\n",
            " list([3, 1, 6, 9, 3, 1, 6, 9, 3, 1, 6, 9, 3, 1, 6, 9, 3, 1, 6, 9, 1, 4, 4, 0, 1, 4, 4, 0, 1, 4, 4, 0, 8, 2, 6, 8, 7, 8, 2, 6, 8, 7, 8, 2, 6, 8, 7, 8, 2, 6, 8, 7, 8, 2, 6, 8, 7, 8, 2, 6, 8, 7, 8, 2, 6, 8, 7, 8, 2, 6, 8, 7])\n",
            " list([3, 1, 6, 9, 3, 1, 6, 9, 1, 4, 4, 0, 1, 4, 4, 0, 1, 4, 4, 0, 1, 4, 4, 0, 1, 4, 4, 0, 1, 4, 4, 0, 1, 4, 4, 0, 8, 2, 6, 8, 7])]\n"
          ],
          "name": "stdout"
        }
      ]
    },
    {
      "cell_type": "markdown",
      "metadata": {
        "id": "zJqC20lSvofN"
      },
      "source": [
        "These results make sense in accordance with our rule. Multiplying a $3 \\times 5$ matrix on the right by a $4 \\times 3$ matrix results in an error while multiplying a $4 \\times 3$ matrix on the right by a $3 \\times 5$ matrix results in a $4 \\times 5$ matrix."
      ]
    },
    {
      "cell_type": "code",
      "metadata": {
        "id": "135yAiHyvofN",
        "outputId": "fc82bcb0-5083-4a23-fdf4-65bfabe2ab93"
      },
      "source": [
        "print np.dot(B, A)"
      ],
      "execution_count": null,
      "outputs": [
        {
          "output_type": "stream",
          "text": [
            "[[ 34  44  54 128 124]\n",
            " [ 21  27  33  79  82]\n",
            " [ 82 101 120 227 216]\n",
            " [108 135 162 333 324]]\n"
          ],
          "name": "stdout"
        }
      ]
    },
    {
      "cell_type": "markdown",
      "metadata": {
        "id": "Ek1Xy6vtvofN"
      },
      "source": [
        "### Portfolio Variance\n",
        "\n",
        "Let's return to our portfolio example from before. We calculated the expected return of the portfolio, but how do we calculate the variance? We start by trying to evaluate the portfolio as a sum of each individual asset, scaled by it's weight.\n",
        "\n",
        "$$ VAR[P] = VAR[\\omega_1 S_1 + \\omega_2 S_2 + \\cdots + \\omega_N S_N] $$\n",
        "\n",
        "Where $S_0, \\cdots, S_N$ are the assets contained within our universe. If all of our assets were independent of each other, we could simply evaluate this as\n",
        "\n",
        "$$ VAR[P] = VAR[\\omega_1 S_1] + VAR[\\omega_2 S_2] + \\cdots + VAR[\\omega_N S_N] = \\omega_1^2\\sigma_1^2 + \\omega_2^2\\sigma_2^2 + \\cdots + \\omega_N^2\\sigma_N^2 $$\n",
        "\n",
        "However, all of our assets depend on each other by their construction. They are all in some way related to our base asset and therefore each other. We thus have to calculate the variance of the portfolio by including the individual pairwise covariances of each asset. Our formula for the variance of the portfolio:\n",
        "\n",
        "$$ VAR[P] = \\sigma_P^2 = \\sum_i \\omega_i^2\\sigma_i^2 + \\sum_i\\sum_{i\\neq j} \\omega_i\\omega_j\\sigma_i\\sigma_j\\rho_{i, j}, \\ i, j \\in \\lbrace 1, 2, \\cdots, N \\rbrace $$\n",
        "\n",
        "Where $\\rho_{i,j}$ is the correlation between $S_i$ and $S_j$, $\\rho_{i, j} = \\frac{COV[S_i, S_j]}{\\sigma_i\\sigma_j}$. This seems exceedingly complicated, but we can easily handle all of this using NumPy arrays. First, we calculate the covariance matrix that relates all the individual stocks in our universe."
      ]
    },
    {
      "cell_type": "code",
      "metadata": {
        "id": "Op8pn6e7vofO",
        "colab": {
          "base_uri": "https://localhost:8080/"
        },
        "outputId": "5174bb3c-6823-4473-fb10-3c559108f017"
      },
      "source": [
        "cov_mat = np.cov(returns)\n",
        "print (cov_mat)"
      ],
      "execution_count": 102,
      "outputs": [
        {
          "output_type": "stream",
          "text": [
            "[[0.00070241 0.00050116 0.0008099  0.00074493 0.00065056 0.00058248\n",
            "  0.00058036 0.00065416 0.00072833 0.00068539]\n",
            " [0.00050116 0.00112741 0.00063094 0.00040868 0.00048963 0.00050775\n",
            "  0.0004946  0.00044783 0.00047746 0.00045124]\n",
            " [0.0008099  0.00063094 0.00198572 0.00083069 0.00075214 0.00086165\n",
            "  0.00068184 0.0005509  0.0007213  0.00084685]\n",
            " [0.00074493 0.00040868 0.00083069 0.0017577  0.00068101 0.00076027\n",
            "  0.00052445 0.00065552 0.00086469 0.00077531]\n",
            " [0.00065056 0.00048963 0.00075214 0.00068101 0.00130523 0.00060865\n",
            "  0.0004748  0.00062935 0.00063068 0.00058126]\n",
            " [0.00058248 0.00050775 0.00086165 0.00076027 0.00060865 0.00144147\n",
            "  0.00058217 0.00058192 0.00050284 0.00065233]\n",
            " [0.00058036 0.0004946  0.00068184 0.00052445 0.0004748  0.00058217\n",
            "  0.00157417 0.00051512 0.00060034 0.00055659]\n",
            " [0.00065416 0.00044783 0.0005509  0.00065552 0.00062935 0.00058192\n",
            "  0.00051512 0.00166346 0.0006128  0.00053502]\n",
            " [0.00072833 0.00047746 0.0007213  0.00086469 0.00063068 0.00050284\n",
            "  0.00060034 0.0006128  0.00178885 0.00073212]\n",
            " [0.00068539 0.00045124 0.00084685 0.00077531 0.00058126 0.00065233\n",
            "  0.00055659 0.00053502 0.00073212 0.00154884]]\n"
          ],
          "name": "stdout"
        }
      ]
    },
    {
      "cell_type": "code",
      "metadata": {
        "colab": {
          "base_uri": "https://localhost:8080/"
        },
        "id": "Bu4-3YmKKweU",
        "outputId": "643926aa-50c2-4157-f063-d851503f1d3b"
      },
      "source": [
        "# dahrojasca Example\n",
        "cov_mat_2 = np.cov(returns_2)\n",
        "print (cov_mat_2)"
      ],
      "execution_count": 86,
      "outputs": [
        {
          "output_type": "stream",
          "text": [
            "[[0.01082312 0.01311386 0.01303682 0.00931134 0.00802808]\n",
            " [0.01311386 0.02204285 0.0166618  0.00839741 0.01049791]\n",
            " [0.01303682 0.0166618  0.02201612 0.00660916 0.0089976 ]\n",
            " [0.00931134 0.00839741 0.00660916 0.01955395 0.00787859]\n",
            " [0.00802808 0.01049791 0.0089976  0.00787859 0.01051376]]\n"
          ],
          "name": "stdout"
        }
      ]
    },
    {
      "cell_type": "markdown",
      "metadata": {
        "id": "FPhnlc03vofO"
      },
      "source": [
        "This array is not formatted particularly nicely, but a covariance matrix is a very important concept. The covariance matrix is of the form:\n",
        "\n",
        "$$ \\left[\\begin{matrix}\n",
        "VAR[S_1] & COV[S_1, S_2] & \\cdots & COV[S_1, S_N] \\\\\n",
        "COV[S_2, S_1] & VAR[S_2] & \\cdots & COV[S_2, S_N] \\\\\n",
        "\\vdots & \\vdots & \\ddots & \\vdots \\\\\n",
        "COV[S_N, S_1] & COV[S_N, S_2] & \\cdots & VAR[S_N]\n",
        "\\end{matrix}\\right] $$\n",
        "\n",
        "So each diagonal entry is the variance of that asset at that index and each off-diagonal holds the covariance of two assets indexed by the column and row number. What is important is that once we have the covariance matrix we are able to do some very quick linear algebra to calculate the variance of the overall portfolio. We can represent the variance of the portfolio in array form as:\n",
        "\n",
        "$$ \\sigma_p^2 = \\omega \\ C \\ \\omega^\\intercal$$\n",
        "\n",
        "Where $C$ is the covariance matrix of all the assets and $\\omega$ is the array containing the weights of each individual asset. The superscript $\\intercal$ on the second $\\omega$ listed above denotes the **transpose** of $\\omega$. For a reference on the evaluation of the variance of a portfolio as a matrix equation, please see the Wikipedia article on [modern portfolio theory](https://en.wikipedia.org/wiki/Modern_portfolio_theory).\n",
        "\n",
        "The transpose of an array is what you get when you switch the rows and columns of an array. This has the effect of reflecting an array across what you might imagine as a diagonal. For example, take our array $A$ from before:"
      ]
    },
    {
      "cell_type": "code",
      "metadata": {
        "id": "9QnQK-TwvofO",
        "colab": {
          "base_uri": "https://localhost:8080/"
        },
        "outputId": "bff8f5c5-7910-4f7d-9727-9863b223c967"
      },
      "source": [
        "print (A)"
      ],
      "execution_count": 89,
      "outputs": [
        {
          "output_type": "stream",
          "text": [
            "[[9 8 7 6]\n",
            " [1 2 3 4]\n",
            " [0 2 4 6]\n",
            " [1 3 5 7]]\n"
          ],
          "name": "stdout"
        }
      ]
    },
    {
      "cell_type": "code",
      "metadata": {
        "id": "qTaxorFwLMIU"
      },
      "source": [
        "# dahrojasca Example\n",
        "P = np.array ([\n",
        "               [9, 8, 7, 6],\n",
        "               [1, 2, 3, 4],\n",
        "               [0, 2, 4, 6],\n",
        "               [1, 3, 5, 7]\n",
        "])"
      ],
      "execution_count": 90,
      "outputs": []
    },
    {
      "cell_type": "markdown",
      "metadata": {
        "id": "SLD95nc_vofO"
      },
      "source": [
        "The transpose looks like a mirror image of the same array."
      ]
    },
    {
      "cell_type": "code",
      "metadata": {
        "id": "fqXWlyIPvofO",
        "outputId": "d4672ea8-3d91-496b-90b4-b0a7f009422d"
      },
      "source": [
        "print (np.transpose(A))"
      ],
      "execution_count": null,
      "outputs": [
        {
          "output_type": "stream",
          "text": [
            "[[ 1  4  7]\n",
            " [ 2  5  8]\n",
            " [ 3  6  9]\n",
            " [12 15 10]\n",
            " [ 6 20 10]]\n"
          ],
          "name": "stdout"
        }
      ]
    },
    {
      "cell_type": "code",
      "metadata": {
        "colab": {
          "base_uri": "https://localhost:8080/"
        },
        "id": "v9upmGC1Lmvm",
        "outputId": "71299092-c76d-49b2-8ea8-8afd254a36cc"
      },
      "source": [
        "# dahrojasca Example\n",
        "print (np.transpose(P))"
      ],
      "execution_count": 91,
      "outputs": [
        {
          "output_type": "stream",
          "text": [
            "[[9 1 0 1]\n",
            " [8 2 2 3]\n",
            " [7 3 4 5]\n",
            " [6 4 6 7]]\n"
          ],
          "name": "stdout"
        }
      ]
    },
    {
      "cell_type": "markdown",
      "metadata": {
        "id": "QM61PAJrvofP"
      },
      "source": [
        "But $\\omega$ here is a 1-dimensional array, a vector! It makes perfect to take the transpose of $A$, a $3 \\times 5$ array, as the output will be a $5 \\times 3$ array, but a 1-dimensional array is not quite as intuitive. A typical 1-dimensional array can be thought of as a $1 \\times n$ horizontal vector. Thus, taking the tranpose of this array essentially means changing it into a $n \\times 1$ vertical vector. This makes sense because 1-dimensional arrays are still arrays and any multiplication done between 1-dimensional and higher dimensional arrays must keep in line with our dimensionality issue of matrix multiplication.\n",
        "\n",
        "To make a long story short, we think of $\\omega$ as $1 \\times N$ since we have $N$ securities. This makes it so that $\\omega^\\intercal$ is $N \\times 1$. Again, our covariance matrix is $N \\times N$. So the overall multiplication works out like so, in informal terms:\n",
        "\n",
        "$$ \\text{Dimensions}(\\sigma_p^2) = \\text{Dimensions}(\\omega C \\omega^\\intercal) = (1 \\times N)\\cdot (N \\times N)\\cdot (N \\times 1) = (1 \\times 1)$$\n",
        "\n",
        "Multiplying the covariance matrix on the left by the plain horizontal vector and on the right by that vector's transpose results in the calculation of a single scalar ($1 \\times 1$) value, our portfolio's variance.\n",
        "\n",
        "So knowing this, let's proceed and calculate the portfolio variance! We can easily calculate the product of these arrays by using `dot()` for matrix multiplication, though this time we have to do it twice."
      ]
    },
    {
      "cell_type": "code",
      "metadata": {
        "scrolled": false,
        "id": "fe4qGqVLvofP",
        "colab": {
          "base_uri": "https://localhost:8080/"
        },
        "outputId": "c4c698e1-6b27-4e0c-97b6-0c6f67977544"
      },
      "source": [
        "# Calculating the portfolio volatility\n",
        "var_p = np.dot(np.dot(weights, cov_mat), weights.T)\n",
        "vol_p = np.sqrt(var_p)\n",
        "print(\"Portfolio volatility: \", vol_p)"
      ],
      "execution_count": 103,
      "outputs": [
        {
          "output_type": "stream",
          "text": [
            "Portfolio volatility:  0.02692899011790757\n"
          ],
          "name": "stdout"
        }
      ]
    },
    {
      "cell_type": "code",
      "metadata": {
        "colab": {
          "base_uri": "https://localhost:8080/"
        },
        "id": "Ey8klKGaMiy2",
        "outputId": "d50bd553-363d-4e1f-89ea-5170a7f76895"
      },
      "source": [
        "# dahrojasca Example\n",
        "var_p_2 = np.dot(np.dot(weights_2, cov_mat_2), weights_2.T)\n",
        "vol_p_2 = np.sqrt(var_p_2)\n",
        "print (\"Portfolio volatility: \", vol_p_2)"
      ],
      "execution_count": 98,
      "outputs": [
        {
          "output_type": "stream",
          "text": [
            "Portfolio volatility:  0.1059128317346286\n"
          ],
          "name": "stdout"
        }
      ]
    },
    {
      "cell_type": "markdown",
      "metadata": {
        "id": "DUTTP4YivofQ"
      },
      "source": [
        "To confirm this calculation, let's simply evaluate the volatility of the portfolio using only NumPy functions."
      ]
    },
    {
      "cell_type": "code",
      "metadata": {
        "id": "s85IbNKtvofQ",
        "colab": {
          "base_uri": "https://localhost:8080/"
        },
        "outputId": "c304df2e-6019-40ff-ca21-6ea53c26502b"
      },
      "source": [
        "# Confirming calculation\n",
        "vol_p_alt = np.sqrt(np.var(np.dot(weights, returns), ddof=1))\n",
        "print (\"Portfolio volatility: \", vol_p_alt)"
      ],
      "execution_count": 104,
      "outputs": [
        {
          "output_type": "stream",
          "text": [
            "Portfolio volatility:  0.02692899011790757\n"
          ],
          "name": "stdout"
        }
      ]
    },
    {
      "cell_type": "code",
      "metadata": {
        "colab": {
          "base_uri": "https://localhost:8080/"
        },
        "id": "qBHz6uXROD77",
        "outputId": "0ae8e9c7-5f88-4e9a-cfd6-2dd7a90a830e"
      },
      "source": [
        "# dahrojasca Example\n",
        "vol_p_alt_2 = np.sqrt(np.var(np.dot(weights_2, returns_2), ddof=1))\n",
        "print (\"Portfolio volatility: \", vol_p_alt_2)"
      ],
      "execution_count": 105,
      "outputs": [
        {
          "output_type": "stream",
          "text": [
            "Portfolio volatility:  0.10591283173462859\n"
          ],
          "name": "stdout"
        }
      ]
    },
    {
      "cell_type": "markdown",
      "metadata": {
        "id": "_7y8kjPCvofQ"
      },
      "source": [
        "The `ddof` parameter is a simple integer input that tells the function the number of degrees of freedom to take into account. This is a more statistical concept, but what this tells us that our matrix calculation is correct!\n",
        "\n",
        "A lot of this might not make sense at first glance. It helps to go back and forth between the theory and the code representations until you have a better grasp of the mathematics involved. It is definitely not necessary to be an expert on linear algebra and on matrix operations, but linear algebra can help to streamline the process of working with large amounts of data. For further reading on NumPy, check out the [documentation](https://docs.scipy.org/doc/numpy/user/index.html)."
      ]
    },
    {
      "cell_type": "markdown",
      "metadata": {
        "id": "BQ7X-HyzvofQ"
      },
      "source": [
        "*This presentation is for informational purposes only and does not constitute an offer to sell, a solicitation to buy, or a recommendation for any security; nor does it constitute an offer to provide investment advisory or other services by Quantopian, Inc. (\"Quantopian\"). Nothing contained herein constitutes investment advice or offers any opinion with respect to the suitability of any security, and any views expressed herein should not be taken as advice to buy, sell, or hold any security or as an endorsement of any security or company.  In preparing the information contained herein, Quantopian, Inc. has not taken into account the investment needs, objectives, and financial circumstances of any particular investor. Any views expressed and data illustrated herein were prepared based upon information, believed to be reliable, available to Quantopian, Inc. at the time of publication. Quantopian makes no guarantees as to their accuracy or completeness. All information is subject to change and may quickly become unreliable for various reasons, including changes in market conditions or economic circumstances.*"
      ]
    }
  ]
}